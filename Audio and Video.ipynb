{
  "nbformat": 4,
  "nbformat_minor": 0,
  "metadata": {
    "colab": {
      "provenance": []
    },
    "kernelspec": {
      "display_name": "Python 3",
      "name": "python3"
    },
    "language_info": {
      "name": "python"
    }
  },
  "cells": [
    {
      "cell_type": "markdown",
      "source": [
        "### Get Frame From Video and Convert To YCrCb"
      ],
      "metadata": {
        "id": "wGZr_JSpVdgC"
      }
    },
    {
      "cell_type": "code",
      "source": [
        "import cv2\n",
        "import sys\n",
        "import numpy as np\n",
        "from google.colab import drive\n",
        "from google.colab.patches import cv2_imshow\n",
        "\n",
        "np.set_printoptions(threshold=sys.maxsize)\n",
        "\n",
        "\n",
        "frameWidth = 0\n",
        "frameHeight = 0\n",
        "\n",
        "drive.mount('/content/gdrive/')\n",
        "\n",
        "cap = cv2.VideoCapture('/content/gdrive/MyDrive/Colab Notebooks/car_co.mp4')\n",
        "#cap = cv2.VideoCapture('/content/gdrive/MyDrive/week 1/car_co.mp4')\n",
        "\n",
        "if (cap.isOpened()== False):\n",
        "  print(\"Error opening video stream or file\")\n",
        "\n",
        "allFrames = []\n",
        "\n",
        "while(cap.isOpened()):\n",
        "  ret, frame = cap.read()\n",
        "  if ret == True:\n",
        "    frameWidth = frame.shape[1]\n",
        "    frameHeight = frame.shape[0]\n",
        "    frame = np.pad(frame, [frameWidth % 8, frameHeight % 8])\n",
        "\n",
        "    allFrames.append(frame)\n",
        "\n",
        "  else:\n",
        "    break\n",
        "\n",
        "\n",
        "cap.release()\n",
        "cv2.destroyAllWindows()\n",
        "# for i in range(len(allFrames)):\n",
        "#   cv2_imshow(allFrames[i])"
      ],
      "metadata": {
        "id": "RwwfnkFiVsim",
        "colab": {
          "base_uri": "https://localhost:8080/"
        },
        "outputId": "c055e46a-417f-4ce4-f5ee-e1cef6b0e926"
      },
      "execution_count": null,
      "outputs": [
        {
          "output_type": "stream",
          "name": "stdout",
          "text": [
            "Drive already mounted at /content/gdrive/; to attempt to forcibly remount, call drive.mount(\"/content/gdrive/\", force_remount=True).\n"
          ]
        }
      ]
    },
    {
      "cell_type": "code",
      "source": [
        "def ConvertImgToYCrCb(img):\n",
        "  convertedImage = img.copy()\n",
        "  for i in range(0, img.shape[0]):\n",
        "    for j in range(0, img.shape[1]):\n",
        "        R = img[i][j][2];\n",
        "        G= img[i][j][1];\n",
        "        B = img[i] [j][0];\n",
        "\n",
        "        Y =   16 + ( 65.738*R)/256 + (129.057*G)/256 + ( 25.064*B)/256;\n",
        "        Cb = 128 - ( 37.945*R)/256 - ( 74.494*G)/256 + (112.439*B)/256;\n",
        "        Cr = 128 + (112.439*R)/256 - ( 94.154*G)/256 - ( 18.285*B)/256;\n",
        "        convertedImage[i,j][2]=Cb;\n",
        "        convertedImage[i,j][1]=Cr;\n",
        "        convertedImage[i,j][0]=Y;\n",
        "  return convertedImage\n",
        "yCrCbFrames = []\n",
        "for i in range(len(allFrames)):\n",
        "  yCrCbFrames.append(ConvertImgToYCrCb(allFrames[i]))\n"
      ],
      "metadata": {
        "id": "n8Y4WfHoVjev"
      },
      "execution_count": null,
      "outputs": []
    },
    {
      "cell_type": "code",
      "source": [
        "yComponentFrames = []\n",
        "residualFrames = []\n",
        "for i in range(len(allFrames)):\n",
        "  yComponentFrames.append(yCrCbFrames[i][:,:,0])\n",
        "\n",
        "\n",
        "frameWidth = yComponentFrames[0].shape[1]\n",
        "frameHeight = yComponentFrames[0].shape[0]\n",
        "numOfBlocksPerRow = (frameWidth//8)\n",
        "BlocksPerFrame = (frameWidth * frameHeight) // (8*8)\n",
        "\n",
        "print(frameHeight, \", \", frameWidth)\n",
        "\n",
        "\n",
        "\n",
        "def Blocking(frame):\n",
        "    arr = []\n",
        "    for x in range(0,frame.shape[0],8):\n",
        "      for y in range(0,frame.shape[1],8):\n",
        "          arr.append(frame[x:x+8,y:y+8])\n",
        "    return arr\n",
        "\n",
        "def BlockingOverlapping(frame):\n",
        "    arr = []\n",
        "    for x in range(0,frame.shape[0]-8):\n",
        "      for y in range(0,frame.shape[1]-8):\n",
        "          arr.append(frame[x:x+8,y:y+8])\n",
        "    return arr\n",
        "\n",
        "def CreateImageFromBlocks(blocksArr, NumOfBlockperRow):\n",
        "  arr = blocksArr[0: NumOfBlockperRow]\n",
        "  for i in range(0, len(blocksArr), NumOfBlockperRow):\n",
        "    arr = np.concatenate((arr,blocksArr[i:i+ NumOfBlockperRow]),axis = 1)\n",
        "  image = arr[0]\n",
        "  for i in range(1, len(arr)):\n",
        "      image = np.concatenate((image,arr[i]), axis = 1)\n",
        "  return image\n",
        "\n",
        "def SAD(queryBlock, refBlock):\n",
        "  result = 0.0\n",
        "  for i in range(0,len(queryBlock[0])):\n",
        "    for j in range(0,len(queryBlock[1])):\n",
        "      result += abs(refBlock[i][j] - queryBlock[i][j])\n",
        "  return result\n",
        "\n",
        "def CreateResidualBlock(queryBlock, refBlock):\n",
        "  block = np.array(refBlock.copy(),dtype = np.float32)\n",
        "  for i in range(0,len(queryBlock[0])):\n",
        "    for j in range(0,len(queryBlock[1])):\n",
        "      block[i][j] -= queryBlock[i][j]\n",
        "  return block\n",
        "\n",
        "skipFrames = 1\n",
        "maxFrames = 4\n",
        "\n",
        "residualFrameBlocksArray = []\n",
        "blocksCoordinatesArray = []\n",
        "\n",
        "for currentFrame in range (skipFrames, maxFrames, 1): #only first {maxFrames}  was processed\n",
        "\n",
        "  currentFrameBlocks = Blocking(yComponentFrames[currentFrame])\n",
        "\n",
        "  previousFrameBlocks = BlockingOverlapping(yComponentFrames[currentFrame-1])\n",
        "  cv2_imshow(CreateImageFromBlocks(currentFrameBlocks,numOfBlocksPerRow))\n",
        "  bestMatchingBlocks = []\n",
        "  residualFrameBlocks = []\n",
        "  blocksCoordinates = []\n",
        "\n",
        "  for currentBlock in range(0, len(currentFrameBlocks)):\n",
        "    bestMatchingResults = []\n",
        "    blocksCoordinatesPerFrame = []\n",
        "    for currentPreviousBlock in range (0, len(previousFrameBlocks)):\n",
        "      bestMatchingResults.append(SAD(currentFrameBlocks[currentBlock], previousFrameBlocks[currentPreviousBlock]))\n",
        "      blocksCoordinatesPerFrame.append([currentPreviousBlock % (frameWidth-8), currentPreviousBlock // (frameWidth-8)])\n",
        "\n",
        "    bestMatchingResults = np.array(bestMatchingResults)\n",
        "    bestMatchingBlocks.append(previousFrameBlocks[bestMatchingResults.argmin()])\n",
        "    blocksCoordinates.append(blocksCoordinatesPerFrame[bestMatchingResults.argmin()])\n",
        "\n",
        "\n",
        "    residualFrameBlocks.append(CreateResidualBlock(currentFrameBlocks[currentBlock], bestMatchingBlocks[currentBlock]))\n",
        "\n",
        "    print(\"\\n Pair of Block Num \" , currentBlock , \" in frame Number: \" , currentFrame)\n",
        "    cv2_imshow(bestMatchingBlocks[currentBlock])\n",
        "    cv2_imshow(currentFrameBlocks[currentBlock])\n",
        "\n",
        "    residualFrameBlocksArray.append(residualFrameBlocks)\n",
        "    blocksCoordinatesArray.append(blocksCoordinates)\n",
        "\n",
        "  print(\"Motion Vector: \")\n",
        "  print(blocksCoordinates)\n",
        "\n",
        "  cv2_imshow(yComponentFrames[currentFrame-1])\n",
        "  cv2_imshow(yComponentFrames[currentFrame])\n",
        "  print(\"Residual Frame: \")\n",
        "  cv2_imshow(CreateImageFromBlocks(residualFrameBlocks,numOfBlocksPerRow))\n",
        "  residualFrames.append(CreateImageFromBlocks(residualFrameBlocks,numOfBlocksPerRow))\n",
        "  print(len(residualFrameBlocks))"
      ],
      "metadata": {
        "id": "16DOQsfcdZHz",
        "colab": {
          "base_uri": "https://localhost:8080/",
          "height": 1000
        },
        "outputId": "96c17f10-0da7-41e4-dd3e-9df6f61f1a76"
      },
      "execution_count": null,
      "outputs": [
        {
          "output_type": "stream",
          "name": "stdout",
          "text": [
            "32 ,  48\n"
          ]
        },
        {
          "output_type": "display_data",
          "data": {
            "image/png": "[encoded data removed]",
            "text/plain": [
              "<PIL.Image.Image image mode=L size=48x40 at 0x7F7DD8F03110>"
            ]
          },
          "metadata": {}
        },
        {
          "output_type": "stream",
          "name": "stdout",
          "text": [
            "\n",
            " Pair of Block Num  0  in frame Number:  1\n"
          ]
        },
        {
          "output_type": "stream",
          "name": "stderr",
          "text": [
            "/usr/local/lib/python3.7/dist-packages/ipykernel_launcher.py:43: RuntimeWarning: overflow encountered in ubyte_scalars\n"
          ]
        },
        {
          "output_type": "display_data",
          "data": {
            "image/png": "[encoded data removed]",
            "text/plain": [
              "<PIL.Image.Image image mode=L size=8x8 at 0x7F7DD8F27510>"
            ]
          },
          "metadata": {}
        },
        {
          "output_type": "display_data",
          "data": {
            "image/png": "[encoded data removed]",
            "text/plain": [
              "<PIL.Image.Image image mode=L size=8x8 at 0x7F7DD8F03110>"
            ]
          },
          "metadata": {}
        },
        {
          "output_type": "stream",
          "name": "stdout",
          "text": [
            "\n",
            " Pair of Block Num  1  in frame Number:  1\n"
          ]
        },
        {
          "output_type": "display_data",
          "data": {
            "image/png": "[encoded data removed]",
            "text/plain": [
              "<PIL.Image.Image image mode=L size=8x8 at 0x7F7DD8F27E50>"
            ]
          },
          "metadata": {}
        },
        {
          "output_type": "display_data",
          "data": {
            "image/png": "[encoded data removed]",
            "text/plain": [
              "<PIL.Image.Image image mode=L size=8x8 at 0x7F7DD8F27890>"
            ]
          },
          "metadata": {}
        },
        {
          "output_type": "stream",
          "name": "stdout",
          "text": [
            "\n",
            " Pair of Block Num  2  in frame Number:  1\n"
          ]
        },
        {
          "output_type": "display_data",
          "data": {
            "image/png": "[encoded data removed]",
            "text/plain": [
              "<PIL.Image.Image image mode=L size=8x8 at 0x7F7DD8F72210>"
            ]
          },
          "metadata": {}
        },
        {
          "output_type": "display_data",
          "data": {
            "image/png": "[encoded data removed]",
            "text/plain": [
              "<PIL.Image.Image image mode=L size=8x8 at 0x7F7DD8F723D0>"
            ]
          },
          "metadata": {}
        },
        {
          "output_type": "stream",
          "name": "stdout",
          "text": [
            "\n",
            " Pair of Block Num  3  in frame Number:  1\n"
          ]
        },
        {
          "output_type": "display_data",
          "data": {
            "image/png": "[encoded data removed]",
            "text/plain": [
              "<PIL.Image.Image image mode=L size=8x8 at 0x7F7DD8F72450>"
            ]
          },
          "metadata": {}
        },
        {
          "output_type": "display_data",
          "data": {
            "image/png": "[encoded data removed]",
            "text/plain": [
              "<PIL.Image.Image image mode=L size=8x8 at 0x7F7DD8F72310>"
            ]
          },
          "metadata": {}
        },
        {
          "output_type": "stream",
          "name": "stdout",
          "text": [
            "\n",
            " Pair of Block Num  4  in frame Number:  1\n"
          ]
        },
        {
          "output_type": "display_data",
          "data": {
            "image/png": "[encoded data removed]",
            "text/plain": [
              "<PIL.Image.Image image mode=L size=8x8 at 0x7F7DD8F59810>"
            ]
          },
          "metadata": {}
        },
        {
          "output_type": "display_data",
          "data": {
            "image/png": "[encoded data removed]",
            "text/plain": [
              "<PIL.Image.Image image mode=L size=8x8 at 0x7F7DD8F72410>"
            ]
          },
          "metadata": {}
        },
        {
          "output_type": "stream",
          "name": "stdout",
          "text": [
            "\n",
            " Pair of Block Num  5  in frame Number:  1\n"
          ]
        },
        {
          "output_type": "display_data",
          "data": {
            "image/png": "[encoded data removed]",
            "text/plain": [
              "<PIL.Image.Image image mode=L size=8x8 at 0x7F7DD8F9AE50>"
            ]
          },
          "metadata": {}
        },
        {
          "output_type": "display_data",
          "data": {
            "image/png": "[encoded data removed]",
            "text/plain": [
              "<PIL.Image.Image image mode=L size=8x8 at 0x7F7DD8F9AD50>"
            ]
          },
          "metadata": {}
        },
        {
          "output_type": "stream",
          "name": "stdout",
          "text": [
            "\n",
            " Pair of Block Num  6  in frame Number:  1\n"
          ]
        },
        {
          "output_type": "display_data",
          "data": {
            "image/png": "[encoded data removed]",
            "text/plain": [
              "<PIL.Image.Image image mode=L size=8x8 at 0x7F7DD8F9A7D0>"
            ]
          },
          "metadata": {}
        },
        {
          "output_type": "display_data",
          "data": {
            "image/png": "[encoded data removed]",
            "text/plain": [
              "<PIL.Image.Image image mode=L size=8x8 at 0x7F7DD8F9A150>"
            ]
          },
          "metadata": {}
        },
        {
          "output_type": "stream",
          "name": "stdout",
          "text": [
            "\n",
            " Pair of Block Num  7  in frame Number:  1\n"
          ]
        },
        {
          "output_type": "display_data",
          "data": {
            "image/png": "[encoded data removed]",
            "text/plain": [
              "<PIL.Image.Image image mode=L size=8x8 at 0x7F7DD8F9AB90>"
            ]
          },
          "metadata": {}
        },
        {
          "output_type": "display_data",
          "data": {
            "image/png": "[encoded data removed]",
            "text/plain": [
              "<PIL.Image.Image image mode=L size=8x8 at 0x7F7DD8F9A710>"
            ]
          },
          "metadata": {}
        },
        {
          "output_type": "stream",
          "name": "stdout",
          "text": [
            "\n",
            " Pair of Block Num  8  in frame Number:  1\n"
          ]
        },
        {
          "output_type": "display_data",
          "data": {
            "image/png": "[encoded data removed]",
            "text/plain": [
              "<PIL.Image.Image image mode=L size=8x8 at 0x7F7DD8F9A7D0>"
            ]
          },
          "metadata": {}
        },
        {
          "output_type": "display_data",
          "data": {
            "image/png": "[encoded data removed]",
            "text/plain": [
              "<PIL.Image.Image image mode=L size=8x8 at 0x7F7DD8F9AFD0>"
            ]
          },
          "metadata": {}
        },
        {
          "output_type": "stream",
          "name": "stdout",
          "text": [
            "\n",
            " Pair of Block Num  9  in frame Number:  1\n"
          ]
        },
        {
          "output_type": "display_data",
          "data": {
            "image/png": "[encoded data removed]",
            "text/plain": [
              "<PIL.Image.Image image mode=L size=8x8 at 0x7F7DD8F9A390>"
            ]
          },
          "metadata": {}
        },
        {
          "output_type": "display_data",
          "data": {
            "image/png": "[encoded data removed]",
            "text/plain": [
              "<PIL.Image.Image image mode=L size=8x8 at 0x7F7DD8F9A050>"
            ]
          },
          "metadata": {}
        },
        {
          "output_type": "stream",
          "name": "stdout",
          "text": [
            "\n",
            " Pair of Block Num  10  in frame Number:  1\n"
          ]
        },
        {
          "output_type": "display_data",
          "data": {
            "image/png": "[encoded data removed]",
            "text/plain": [
              "<PIL.Image.Image image mode=L size=8x8 at 0x7F7DD8F9A350>"
            ]
          },
          "metadata": {}
        },
        {
          "output_type": "display_data",
          "data": {
            "image/png": "[encoded data removed]",
            "text/plain": [
              "<PIL.Image.Image image mode=L size=8x8 at 0x7F7DDE292610>"
            ]
          },
          "metadata": {}
        },
        {
          "output_type": "stream",
          "name": "stdout",
          "text": [
            "\n",
            " Pair of Block Num  11  in frame Number:  1\n"
          ]
        },
        {
          "output_type": "display_data",
          "data": {
            "image/png": "[encoded data removed]",
            "text/plain": [
              "<PIL.Image.Image image mode=L size=8x8 at 0x7F7DD8F9AD50>"
            ]
          },
          "metadata": {}
        },
        {
          "output_type": "display_data",
          "data": {
            "image/png": "[encoded data removed]",
            "text/plain": [
              "<PIL.Image.Image image mode=L size=8x8 at 0x7F7DD8F9A950>"
            ]
          },
          "metadata": {}
        },
        {
          "output_type": "stream",
          "name": "stdout",
          "text": [
            "\n",
            " Pair of Block Num  12  in frame Number:  1\n"
          ]
        },
        {
          "output_type": "display_data",
          "data": {
            "image/png": "[encoded data removed]",
            "text/plain": [
              "<PIL.Image.Image image mode=L size=8x8 at 0x7F7DD8F9AB90>"
            ]
          },
          "metadata": {}
        },
        {
          "output_type": "display_data",
          "data": {
            "image/png": "[encoded data removed]",
            "text/plain": [
              "<PIL.Image.Image image mode=L size=8x8 at 0x7F7DD8F9A690>"
            ]
          },
          "metadata": {}
        },
        {
          "output_type": "stream",
          "name": "stdout",
          "text": [
            "\n",
            " Pair of Block Num  13  in frame Number:  1\n"
          ]
        },
        {
          "output_type": "display_data",
          "data": {
            "image/png": "[encoded data removed]",
            "text/plain": [
              "<PIL.Image.Image image mode=L size=8x8 at 0x7F7DD8F4E090>"
            ]
          },
          "metadata": {}
        },
        {
          "output_type": "display_data",
          "data": {
            "image/png": "[encoded data removed]",
            "text/plain": [
              "<PIL.Image.Image image mode=L size=8x8 at 0x7F7DD8F4E0D0>"
            ]
          },
          "metadata": {}
        },
        {
          "output_type": "stream",
          "name": "stdout",
          "text": [
            "\n",
            " Pair of Block Num  14  in frame Number:  1\n"
          ]
        },
        {
          "output_type": "display_data",
          "data": {
            "image/png": "[encoded data removed]",
            "text/plain": [
              "<PIL.Image.Image image mode=L size=8x8 at 0x7F7DD8F4E490>"
            ]
          },
          "metadata": {}
        },
        {
          "output_type": "display_data",
          "data": {
            "image/png": "[encoded data removed]",
            "text/plain": [
              "<PIL.Image.Image image mode=L size=8x8 at 0x7F7DDA0B0350>"
            ]
          },
          "metadata": {}
        },
        {
          "output_type": "stream",
          "name": "stdout",
          "text": [
            "\n",
            " Pair of Block Num  15  in frame Number:  1\n"
          ]
        },
        {
          "output_type": "display_data",
          "data": {
            "image/png": "[encoded data removed]",
            "text/plain": [
              "<PIL.Image.Image image mode=L size=8x8 at 0x7F7DD8F4E350>"
            ]
          },
          "metadata": {}
        },
        {
          "output_type": "display_data",
          "data": {
            "image/png": "[encoded data removed]",
            "text/plain": [
              "<PIL.Image.Image image mode=L size=8x8 at 0x7F7DD8F4E250>"
            ]
          },
          "metadata": {}
        },
        {
          "output_type": "stream",
          "name": "stdout",
          "text": [
            "\n",
            " Pair of Block Num  16  in frame Number:  1\n"
          ]
        },
        {
          "output_type": "display_data",
          "data": {
            "image/png": "[encoded data removed]",
            "text/plain": [
              "<PIL.Image.Image image mode=L size=8x8 at 0x7F7DD8F4E0D0>"
            ]
          },
          "metadata": {}
        },
        {
          "output_type": "display_data",
          "data": {
            "image/png": "[encoded data removed]",
            "text/plain": [
              "<PIL.Image.Image image mode=L size=8x8 at 0x7F7DD8F4EFD0>"
            ]
          },
          "metadata": {}
        },
        {
          "output_type": "stream",
          "name": "stdout",
          "text": [
            "\n",
            " Pair of Block Num  17  in frame Number:  1\n"
          ]
        },
        {
          "output_type": "display_data",
          "data": {
            "image/png": "[encoded data removed]",
            "text/plain": [
              "<PIL.Image.Image image mode=L size=8x8 at 0x7F7DD8F4E5D0>"
            ]
          },
          "metadata": {}
        },
        {
          "output_type": "display_data",
          "data": {
            "image/png": "[encoded data removed]",
            "text/plain": [
              "<PIL.Image.Image image mode=L size=8x8 at 0x7F7DD8F4E2D0>"
            ]
          },
          "metadata": {}
        },
        {
          "output_type": "stream",
          "name": "stdout",
          "text": [
            "\n",
            " Pair of Block Num  18  in frame Number:  1\n"
          ]
        },
        {
          "output_type": "display_data",
          "data": {
            "image/png": "[encoded data removed]",
            "text/plain": [
              "<PIL.Image.Image image mode=L size=8x8 at 0x7F7DD8F44590>"
            ]
          },
          "metadata": {}
        },
        {
          "output_type": "display_data",
          "data": {
            "image/png": "[encoded data removed]",
            "text/plain": [
              "<PIL.Image.Image image mode=L size=8x8 at 0x7F7DD8F44550>"
            ]
          },
          "metadata": {}
        },
        {
          "output_type": "stream",
          "name": "stdout",
          "text": [
            "\n",
            " Pair of Block Num  19  in frame Number:  1\n"
          ]
        },
        {
          "output_type": "display_data",
          "data": {
            "image/png": "[encoded data removed]",
            "text/plain": [
              "<PIL.Image.Image image mode=L size=8x8 at 0x7F7DD8F446D0>"
            ]
          },
          "metadata": {}
        },
        {
          "output_type": "display_data",
          "data": {
            "image/png": "[encoded data removed]",
            "text/plain": [
              "<PIL.Image.Image image mode=L size=8x8 at 0x7F7DD8F44F10>"
            ]
          },
          "metadata": {}
        },
        {
          "output_type": "stream",
          "name": "stdout",
          "text": [
            "\n",
            " Pair of Block Num  20  in frame Number:  1\n"
          ]
        },
        {
          "output_type": "display_data",
          "data": {
            "image/png": "[encoded data removed]",
            "text/plain": [
              "<PIL.Image.Image image mode=L size=8x8 at 0x7F7DD8F44790>"
            ]
          },
          "metadata": {}
        },
        {
          "output_type": "display_data",
          "data": {
            "image/png": "[encoded data removed]",
            "text/plain": [
              "<PIL.Image.Image image mode=L size=8x8 at 0x7F7DD8F44110>"
            ]
          },
          "metadata": {}
        },
        {
          "output_type": "stream",
          "name": "stdout",
          "text": [
            "\n",
            " Pair of Block Num  21  in frame Number:  1\n"
          ]
        },
        {
          "output_type": "display_data",
          "data": {
            "image/png": "[encoded data removed]",
            "text/plain": [
              "<PIL.Image.Image image mode=L size=8x8 at 0x7F7DD8F44D50>"
            ]
          },
          "metadata": {}
        },
        {
          "output_type": "display_data",
          "data": {
            "image/png": "[encoded data removed]",
            "text/plain": [
              "<PIL.Image.Image image mode=L size=8x8 at 0x7F7DD8F44610>"
            ]
          },
          "metadata": {}
        },
        {
          "output_type": "stream",
          "name": "stdout",
          "text": [
            "\n",
            " Pair of Block Num  22  in frame Number:  1\n"
          ]
        },
        {
          "output_type": "display_data",
          "data": {
            "image/png": "[encoded data removed]",
            "text/plain": [
              "<PIL.Image.Image image mode=L size=8x8 at 0x7F7DD8ECAED0>"
            ]
          },
          "metadata": {}
        },
        {
          "output_type": "display_data",
          "data": {
            "image/png": "[encoded data removed]",
            "text/plain": [
              "<PIL.Image.Image image mode=L size=8x8 at 0x7F7DD8FAAF90>"
            ]
          },
          "metadata": {}
        },
        {
          "output_type": "stream",
          "name": "stdout",
          "text": [
            "\n",
            " Pair of Block Num  23  in frame Number:  1\n"
          ]
        },
        {
          "output_type": "display_data",
          "data": {
            "image/png": "[encoded data removed]",
            "text/plain": [
              "<PIL.Image.Image image mode=L size=8x8 at 0x7F7DD8ECAD90>"
            ]
          },
          "metadata": {}
        },
        {
          "output_type": "display_data",
          "data": {
            "image/png": "[encoded data removed]",
            "text/plain": [
              "<PIL.Image.Image image mode=L size=8x8 at 0x7F7DD8ECABD0>"
            ]
          },
          "metadata": {}
        },
        {
          "output_type": "stream",
          "name": "stdout",
          "text": [
            "Motion Vector: \n",
            "[[0, 0], [8, 0], [16, 0], [3, 1], [32, 0], [26, 1], [0, 8], [8, 8], [16, 8], [24, 8], [14, 12], [7, 0], [0, 16], [8, 16], [16, 16], [24, 16], [32, 16], [36, 19], [4, 11], [2, 23], [2, 23], [0, 23], [0, 1], [0, 0]]\n"
          ]
        },
        {
          "output_type": "display_data",
          "data": {
            "image/png": "[encoded data removed]",
            "text/plain": [
              "<PIL.Image.Image image mode=L size=48x32 at 0x7F7DD8ECAF90>"
            ]
          },
          "metadata": {}
        },
        {
          "output_type": "display_data",
          "data": {
            "image/png": "[encoded data removed]",
            "text/plain": [
              "<PIL.Image.Image image mode=L size=48x32 at 0x7F7DD8ECADD0>"
            ]
          },
          "metadata": {}
        },
        {
          "output_type": "stream",
          "name": "stdout",
          "text": [
            "Residual Frame: \n"
          ]
        },
        {
          "output_type": "display_data",
          "data": {
            "image/png": "[encoded data removed]",
            "text/plain": [
              "<PIL.Image.Image image mode=L size=48x40 at 0x7F7DD8ECAB50>"
            ]
          },
          "metadata": {}
        },
        {
          "output_type": "stream",
          "name": "stdout",
          "text": [
            "24\n"
          ]
        },
        {
          "output_type": "display_data",
          "data": {
            "image/png": "[encoded data removed]",
            "text/plain": [
              "<PIL.Image.Image image mode=L size=48x40 at 0x7F7DD8ECACD0>"
            ]
          },
          "metadata": {}
        },
        {
          "output_type": "stream",
          "name": "stdout",
          "text": [
            "\n",
            " Pair of Block Num  0  in frame Number:  2\n"
          ]
        },
        {
          "output_type": "display_data",
          "data": {
            "image/png": "[encoded data removed]",
            "text/plain": [
              "<PIL.Image.Image image mode=L size=8x8 at 0x7F7DD8ECAC90>"
            ]
          },
          "metadata": {}
        },
        {
          "output_type": "display_data",
          "data": {
            "image/png": "[encoded data removed]",
            "text/plain": [
              "<PIL.Image.Image image mode=L size=8x8 at 0x7F7DD8F03110>"
            ]
          },
          "metadata": {}
        },
        {
          "output_type": "stream",
          "name": "stdout",
          "text": [
            "\n",
            " Pair of Block Num  1  in frame Number:  2\n"
          ]
        },
        {
          "output_type": "display_data",
          "data": {
            "image/png": "[encoded data removed]",
            "text/plain": [
              "<PIL.Image.Image image mode=L size=8x8 at 0x7F7DD8ECAD10>"
            ]
          },
          "metadata": {}
        },
        {
          "output_type": "display_data",
          "data": {
            "image/png": "[encoded data removed]",
            "text/plain": [
              "<PIL.Image.Image image mode=L size=8x8 at 0x7F7DDA62FA10>"
            ]
          },
          "metadata": {}
        },
        {
          "output_type": "stream",
          "name": "stdout",
          "text": [
            "\n",
            " Pair of Block Num  2  in frame Number:  2\n"
          ]
        },
        {
          "output_type": "display_data",
          "data": {
            "image/png": "[encoded data removed]",
            "text/plain": [
              "<PIL.Image.Image image mode=L size=8x8 at 0x7F7DD8F03450>"
            ]
          },
          "metadata": {}
        },
        {
          "output_type": "display_data",
          "data": {
            "image/png": "[encoded data removed]",
            "text/plain": [
              "<PIL.Image.Image image mode=L size=8x8 at 0x7F7DD8F59290>"
            ]
          },
          "metadata": {}
        },
        {
          "output_type": "stream",
          "name": "stdout",
          "text": [
            "\n",
            " Pair of Block Num  3  in frame Number:  2\n"
          ]
        },
        {
          "output_type": "display_data",
          "data": {
            "image/png": "[encoded data removed]",
            "text/plain": [
              "<PIL.Image.Image image mode=L size=8x8 at 0x7F7DD8F59610>"
            ]
          },
          "metadata": {}
        },
        {
          "output_type": "display_data",
          "data": {
            "image/png": "[encoded data removed]",
            "text/plain": [
              "<PIL.Image.Image image mode=L size=8x8 at 0x7F7DD8F59790>"
            ]
          },
          "metadata": {}
        },
        {
          "output_type": "stream",
          "name": "stdout",
          "text": [
            "\n",
            " Pair of Block Num  4  in frame Number:  2\n"
          ]
        },
        {
          "output_type": "display_data",
          "data": {
            "image/png": "[encoded data removed]",
            "text/plain": [
              "<PIL.Image.Image image mode=L size=8x8 at 0x7F7DD8F59090>"
            ]
          },
          "metadata": {}
        },
        {
          "output_type": "display_data",
          "data": {
            "image/png": "[encoded data removed]",
            "text/plain": [
              "<PIL.Image.Image image mode=L size=8x8 at 0x7F7DD8F59090>"
            ]
          },
          "metadata": {}
        },
        {
          "output_type": "stream",
          "name": "stdout",
          "text": [
            "\n",
            " Pair of Block Num  5  in frame Number:  2\n"
          ]
        },
        {
          "output_type": "display_data",
          "data": {
            "image/png": "[encoded data removed]",
            "text/plain": [
              "<PIL.Image.Image image mode=L size=8x8 at 0x7F7DD8F59890>"
            ]
          },
          "metadata": {}
        },
        {
          "output_type": "display_data",
          "data": {
            "image/png": "[encoded data removed]",
            "text/plain": [
              "<PIL.Image.Image image mode=L size=8x8 at 0x7F7DD8F59E10>"
            ]
          },
          "metadata": {}
        },
        {
          "output_type": "stream",
          "name": "stdout",
          "text": [
            "\n",
            " Pair of Block Num  6  in frame Number:  2\n"
          ]
        },
        {
          "output_type": "display_data",
          "data": {
            "image/png": "[encoded data removed]",
            "text/plain": [
              "<PIL.Image.Image image mode=L size=8x8 at 0x7F7DD8F59E90>"
            ]
          },
          "metadata": {}
        },
        {
          "output_type": "display_data",
          "data": {
            "image/png": "[encoded data removed]",
            "text/plain": [
              "<PIL.Image.Image image mode=L size=8x8 at 0x7F7DD8F59690>"
            ]
          },
          "metadata": {}
        },
        {
          "output_type": "stream",
          "name": "stdout",
          "text": [
            "\n",
            " Pair of Block Num  7  in frame Number:  2\n"
          ]
        },
        {
          "output_type": "display_data",
          "data": {
            "image/png": "[encoded data removed]",
            "text/plain": [
              "<PIL.Image.Image image mode=L size=8x8 at 0x7F7DD8F59850>"
            ]
          },
          "metadata": {}
        },
        {
          "output_type": "display_data",
          "data": {
            "image/png": "[encoded data removed]",
            "text/plain": [
              "<PIL.Image.Image image mode=L size=8x8 at 0x7F7DD8F72410>"
            ]
          },
          "metadata": {}
        },
        {
          "output_type": "stream",
          "name": "stdout",
          "text": [
            "\n",
            " Pair of Block Num  8  in frame Number:  2\n"
          ]
        },
        {
          "output_type": "display_data",
          "data": {
            "image/png": "[encoded data removed]",
            "text/plain": [
              "<PIL.Image.Image image mode=L size=8x8 at 0x7F7DD8F720D0>"
            ]
          },
          "metadata": {}
        },
        {
          "output_type": "display_data",
          "data": {
            "image/png": "[encoded data removed]",
            "text/plain": [
              "<PIL.Image.Image image mode=L size=8x8 at 0x7F7DD8F72310>"
            ]
          },
          "metadata": {}
        },
        {
          "output_type": "stream",
          "name": "stdout",
          "text": [
            "\n",
            " Pair of Block Num  9  in frame Number:  2\n"
          ]
        },
        {
          "output_type": "display_data",
          "data": {
            "image/png": "[encoded data removed]",
            "text/plain": [
              "<PIL.Image.Image image mode=L size=8x8 at 0x7F7DD8F72690>"
            ]
          },
          "metadata": {}
        },
        {
          "output_type": "display_data",
          "data": {
            "image/png": "[encoded data removed]",
            "text/plain": [
              "<PIL.Image.Image image mode=L size=8x8 at 0x7F7DD8F72190>"
            ]
          },
          "metadata": {}
        },
        {
          "output_type": "stream",
          "name": "stdout",
          "text": [
            "\n",
            " Pair of Block Num  10  in frame Number:  2\n"
          ]
        },
        {
          "output_type": "display_data",
          "data": {
            "image/png": "[encoded data removed]",
            "text/plain": [
              "<PIL.Image.Image image mode=L size=8x8 at 0x7F7DD8F72490>"
            ]
          },
          "metadata": {}
        },
        {
          "output_type": "display_data",
          "data": {
            "image/png": "[encoded data removed]",
            "text/plain": [
              "<PIL.Image.Image image mode=L size=8x8 at 0x7F7DD8F720D0>"
            ]
          },
          "metadata": {}
        },
        {
          "output_type": "stream",
          "name": "stdout",
          "text": [
            "\n",
            " Pair of Block Num  11  in frame Number:  2\n"
          ]
        },
        {
          "output_type": "display_data",
          "data": {
            "image/png": "[encoded data removed]",
            "text/plain": [
              "<PIL.Image.Image image mode=L size=8x8 at 0x7F7DD8F72550>"
            ]
          },
          "metadata": {}
        },
        {
          "output_type": "display_data",
          "data": {
            "image/png": "[encoded data removed]",
            "text/plain": [
              "<PIL.Image.Image image mode=L size=8x8 at 0x7F7DD8F03190>"
            ]
          },
          "metadata": {}
        },
        {
          "output_type": "stream",
          "name": "stdout",
          "text": [
            "\n",
            " Pair of Block Num  12  in frame Number:  2\n"
          ]
        },
        {
          "output_type": "display_data",
          "data": {
            "image/png": "[encoded data removed]",
            "text/plain": [
              "<PIL.Image.Image image mode=L size=8x8 at 0x7F7DD8F720D0>"
            ]
          },
          "metadata": {}
        },
        {
          "output_type": "display_data",
          "data": {
            "image/png": "[encoded data removed]",
            "text/plain": [
              "<PIL.Image.Image image mode=L size=8x8 at 0x7F7DD8F722D0>"
            ]
          },
          "metadata": {}
        },
        {
          "output_type": "stream",
          "name": "stdout",
          "text": [
            "\n",
            " Pair of Block Num  13  in frame Number:  2\n"
          ]
        },
        {
          "output_type": "display_data",
          "data": {
            "image/png": "[encoded data removed]",
            "text/plain": [
              "<PIL.Image.Image image mode=L size=8x8 at 0x7F7DD8F72350>"
            ]
          },
          "metadata": {}
        },
        {
          "output_type": "display_data",
          "data": {
            "image/png": "[encoded data removed]",
            "text/plain": [
              "<PIL.Image.Image image mode=L size=8x8 at 0x7F7DD8F72490>"
            ]
          },
          "metadata": {}
        },
        {
          "output_type": "stream",
          "name": "stdout",
          "text": [
            "\n",
            " Pair of Block Num  14  in frame Number:  2\n"
          ]
        },
        {
          "output_type": "display_data",
          "data": {
            "image/png": "[encoded data removed]",
            "text/plain": [
              "<PIL.Image.Image image mode=L size=8x8 at 0x7F7DD8F72510>"
            ]
          },
          "metadata": {}
        },
        {
          "output_type": "display_data",
          "data": {
            "image/png": "[encoded data removed]",
            "text/plain": [
              "<PIL.Image.Image image mode=L size=8x8 at 0x7F7DD8F72590>"
            ]
          },
          "metadata": {}
        },
        {
          "output_type": "stream",
          "name": "stdout",
          "text": [
            "\n",
            " Pair of Block Num  15  in frame Number:  2\n"
          ]
        },
        {
          "output_type": "display_data",
          "data": {
            "image/png": "[encoded data removed]",
            "text/plain": [
              "<PIL.Image.Image image mode=L size=8x8 at 0x7F7DD8F72490>"
            ]
          },
          "metadata": {}
        },
        {
          "output_type": "display_data",
          "data": {
            "image/png": "[encoded data removed]",
            "text/plain": [
              "<PIL.Image.Image image mode=L size=8x8 at 0x7F7DD8F72450>"
            ]
          },
          "metadata": {}
        },
        {
          "output_type": "stream",
          "name": "stdout",
          "text": [
            "\n",
            " Pair of Block Num  16  in frame Number:  2\n"
          ]
        },
        {
          "output_type": "display_data",
          "data": {
            "image/png": "[encoded data removed]",
            "text/plain": [
              "<PIL.Image.Image image mode=L size=8x8 at 0x7F7DD8F9AE90>"
            ]
          },
          "metadata": {}
        },
        {
          "output_type": "display_data",
          "data": {
            "image/png": "[encoded data removed]",
            "text/plain": [
              "<PIL.Image.Image image mode=L size=8x8 at 0x7F7DD8F37A90>"
            ]
          },
          "metadata": {}
        },
        {
          "output_type": "stream",
          "name": "stdout",
          "text": [
            "\n",
            " Pair of Block Num  17  in frame Number:  2\n"
          ]
        },
        {
          "output_type": "display_data",
          "data": {
            "image/png": "[encoded data removed]",
            "text/plain": [
              "<PIL.Image.Image image mode=L size=8x8 at 0x7F7DD8F9A990>"
            ]
          },
          "metadata": {}
        },
        {
          "output_type": "display_data",
          "data": {
            "image/png": "[encoded data removed]",
            "text/plain": [
              "<PIL.Image.Image image mode=L size=8x8 at 0x7F7DD8F37250>"
            ]
          },
          "metadata": {}
        },
        {
          "output_type": "stream",
          "name": "stdout",
          "text": [
            "\n",
            " Pair of Block Num  18  in frame Number:  2\n"
          ]
        },
        {
          "output_type": "display_data",
          "data": {
            "image/png": "[encoded data removed]",
            "text/plain": [
              "<PIL.Image.Image image mode=L size=8x8 at 0x7F7DD8F9AC50>"
            ]
          },
          "metadata": {}
        },
        {
          "output_type": "display_data",
          "data": {
            "image/png": "[encoded data removed]",
            "text/plain": [
              "<PIL.Image.Image image mode=L size=8x8 at 0x7F7DD8F9A410>"
            ]
          },
          "metadata": {}
        },
        {
          "output_type": "stream",
          "name": "stdout",
          "text": [
            "\n",
            " Pair of Block Num  19  in frame Number:  2\n"
          ]
        },
        {
          "output_type": "display_data",
          "data": {
            "image/png": "[encoded data removed]",
            "text/plain": [
              "<PIL.Image.Image image mode=L size=8x8 at 0x7F7DD8F9ADD0>"
            ]
          },
          "metadata": {}
        },
        {
          "output_type": "display_data",
          "data": {
            "image/png": "[encoded data removed]",
            "text/plain": [
              "<PIL.Image.Image image mode=L size=8x8 at 0x7F7DD8F9A790>"
            ]
          },
          "metadata": {}
        },
        {
          "output_type": "stream",
          "name": "stdout",
          "text": [
            "\n",
            " Pair of Block Num  20  in frame Number:  2\n"
          ]
        },
        {
          "output_type": "display_data",
          "data": {
            "image/png": "[encoded data removed]",
            "text/plain": [
              "<PIL.Image.Image image mode=L size=8x8 at 0x7F7DD8F9A990>"
            ]
          },
          "metadata": {}
        },
        {
          "output_type": "display_data",
          "data": {
            "image/png": "[encoded data removed]",
            "text/plain": [
              "<PIL.Image.Image image mode=L size=8x8 at 0x7F7DD8F9AE90>"
            ]
          },
          "metadata": {}
        },
        {
          "output_type": "stream",
          "name": "stdout",
          "text": [
            "\n",
            " Pair of Block Num  21  in frame Number:  2\n"
          ]
        },
        {
          "output_type": "display_data",
          "data": {
            "image/png": "[encoded data removed]",
            "text/plain": [
              "<PIL.Image.Image image mode=L size=8x8 at 0x7F7DD8F9A310>"
            ]
          },
          "metadata": {}
        },
        {
          "output_type": "display_data",
          "data": {
            "image/png": "[encoded data removed]",
            "text/plain": [
              "<PIL.Image.Image image mode=L size=8x8 at 0x7F7DD8F44D50>"
            ]
          },
          "metadata": {}
        },
        {
          "output_type": "stream",
          "name": "stdout",
          "text": [
            "\n",
            " Pair of Block Num  22  in frame Number:  2\n"
          ]
        },
        {
          "output_type": "display_data",
          "data": {
            "image/png": "[encoded data removed]",
            "text/plain": [
              "<PIL.Image.Image image mode=L size=8x8 at 0x7F7DD8F44610>"
            ]
          },
          "metadata": {}
        },
        {
          "output_type": "display_data",
          "data": {
            "image/png": "[encoded data removed]",
            "text/plain": [
              "<PIL.Image.Image image mode=L size=8x8 at 0x7F7DD8F44A10>"
            ]
          },
          "metadata": {}
        },
        {
          "output_type": "stream",
          "name": "stdout",
          "text": [
            "\n",
            " Pair of Block Num  23  in frame Number:  2\n"
          ]
        },
        {
          "output_type": "display_data",
          "data": {
            "image/png": "[encoded data removed]",
            "text/plain": [
              "<PIL.Image.Image image mode=L size=8x8 at 0x7F7DD8F44110>"
            ]
          },
          "metadata": {}
        },
        {
          "output_type": "display_data",
          "data": {
            "image/png": "[encoded data removed]",
            "text/plain": [
              "<PIL.Image.Image image mode=L size=8x8 at 0x7F7DD8F44050>"
            ]
          },
          "metadata": {}
        },
        {
          "output_type": "stream",
          "name": "stdout",
          "text": [
            "Motion Vector: \n",
            "[[0, 0], [1, 0], [0, 5], [0, 0], [19, 10], [26, 2], [3, 0], [8, 8], [34, 23], [0, 0], [32, 8], [5, 0], [0, 16], [4, 13], [16, 16], [24, 16], [24, 23], [36, 19], [12, 18], [2, 23], [2, 23], [0, 23], [0, 1], [0, 0]]\n"
          ]
        },
        {
          "output_type": "display_data",
          "data": {
            "image/png": "[encoded data removed]",
            "text/plain": [
              "<PIL.Image.Image image mode=L size=48x32 at 0x7F7DD8F44250>"
            ]
          },
          "metadata": {}
        },
        {
          "output_type": "display_data",
          "data": {
            "image/png": "[encoded data removed]",
            "text/plain": [
              "<PIL.Image.Image image mode=L size=48x32 at 0x7F7DD8F44650>"
            ]
          },
          "metadata": {}
        },
        {
          "output_type": "stream",
          "name": "stdout",
          "text": [
            "Residual Frame: \n"
          ]
        },
        {
          "output_type": "display_data",
          "data": {
            "image/png": "[encoded data removed]",
            "text/plain": [
              "<PIL.Image.Image image mode=L size=48x40 at 0x7F7DD8F44690>"
            ]
          },
          "metadata": {}
        },
        {
          "output_type": "stream",
          "name": "stdout",
          "text": [
            "24\n"
          ]
        },
        {
          "output_type": "display_data",
          "data": {
            "image/png": "[encoded data removed]",
            "text/plain": [
              "<PIL.Image.Image image mode=L size=48x40 at 0x7F7DD8F44050>"
            ]
          },
          "metadata": {}
        },
        {
          "output_type": "stream",
          "name": "stdout",
          "text": [
            "\n",
            " Pair of Block Num  0  in frame Number:  3\n"
          ]
        },
        {
          "output_type": "display_data",
          "data": {
            "image/png": "[encoded data removed]",
            "text/plain": [
              "<PIL.Image.Image image mode=L size=8x8 at 0x7F7DD8F44250>"
            ]
          },
          "metadata": {}
        },
        {
          "output_type": "display_data",
          "data": {
            "image/png": "[encoded data removed]",
            "text/plain": [
              "<PIL.Image.Image image mode=L size=8x8 at 0x7F7DDE292610>"
            ]
          },
          "metadata": {}
        },
        {
          "output_type": "stream",
          "name": "stdout",
          "text": [
            "\n",
            " Pair of Block Num  1  in frame Number:  3\n"
          ]
        },
        {
          "output_type": "display_data",
          "data": {
            "image/png": "[encoded data removed]",
            "text/plain": [
              "<PIL.Image.Image image mode=L size=8x8 at 0x7F7DD8F44990>"
            ]
          },
          "metadata": {}
        },
        {
          "output_type": "display_data",
          "data": {
            "image/png": "[encoded data removed]",
            "text/plain": [
              "<PIL.Image.Image image mode=L size=8x8 at 0x7F7DD8F44310>"
            ]
          },
          "metadata": {}
        },
        {
          "output_type": "stream",
          "name": "stdout",
          "text": [
            "\n",
            " Pair of Block Num  2  in frame Number:  3\n"
          ]
        },
        {
          "output_type": "display_data",
          "data": {
            "image/png": "[encoded data removed]",
            "text/plain": [
              "<PIL.Image.Image image mode=L size=8x8 at 0x7F7DD8F27810>"
            ]
          },
          "metadata": {}
        },
        {
          "output_type": "display_data",
          "data": {
            "image/png": "[encoded data removed]",
            "text/plain": [
              "<PIL.Image.Image image mode=L size=8x8 at 0x7F7DD8F87C90>"
            ]
          },
          "metadata": {}
        },
        {
          "output_type": "stream",
          "name": "stdout",
          "text": [
            "\n",
            " Pair of Block Num  3  in frame Number:  3\n"
          ]
        },
        {
          "output_type": "display_data",
          "data": {
            "image/png": "[encoded data removed]",
            "text/plain": [
              "<PIL.Image.Image image mode=L size=8x8 at 0x7F7DD8F27510>"
            ]
          },
          "metadata": {}
        },
        {
          "output_type": "display_data",
          "data": {
            "image/png": "[encoded data removed]",
            "text/plain": [
              "<PIL.Image.Image image mode=L size=8x8 at 0x7F7DD8F27890>"
            ]
          },
          "metadata": {}
        },
        {
          "output_type": "stream",
          "name": "stdout",
          "text": [
            "\n",
            " Pair of Block Num  4  in frame Number:  3\n"
          ]
        },
        {
          "output_type": "display_data",
          "data": {
            "image/png": "[encoded data removed]",
            "text/plain": [
              "<PIL.Image.Image image mode=L size=8x8 at 0x7F7DD8F27590>"
            ]
          },
          "metadata": {}
        },
        {
          "output_type": "display_data",
          "data": {
            "image/png": "[encoded data removed]",
            "text/plain": [
              "<PIL.Image.Image image mode=L size=8x8 at 0x7F7DD8F27810>"
            ]
          },
          "metadata": {}
        },
        {
          "output_type": "stream",
          "name": "stdout",
          "text": [
            "\n",
            " Pair of Block Num  5  in frame Number:  3\n"
          ]
        },
        {
          "output_type": "display_data",
          "data": {
            "image/png": "[encoded data removed]",
            "text/plain": [
              "<PIL.Image.Image image mode=L size=8x8 at 0x7F7DD8ECAA90>"
            ]
          },
          "metadata": {}
        },
        {
          "output_type": "display_data",
          "data": {
            "image/png": "[encoded data removed]",
            "text/plain": [
              "<PIL.Image.Image image mode=L size=8x8 at 0x7F7DD8ECAFD0>"
            ]
          },
          "metadata": {}
        },
        {
          "output_type": "stream",
          "name": "stdout",
          "text": [
            "\n",
            " Pair of Block Num  6  in frame Number:  3\n"
          ]
        },
        {
          "output_type": "display_data",
          "data": {
            "image/png": "[encoded data removed]",
            "text/plain": [
              "<PIL.Image.Image image mode=L size=8x8 at 0x7F7DD8F27DD0>"
            ]
          },
          "metadata": {}
        },
        {
          "output_type": "display_data",
          "data": {
            "image/png": "[encoded data removed]",
            "text/plain": [
              "<PIL.Image.Image image mode=L size=8x8 at 0x7F7DD8ECADD0>"
            ]
          },
          "metadata": {}
        },
        {
          "output_type": "stream",
          "name": "stdout",
          "text": [
            "\n",
            " Pair of Block Num  7  in frame Number:  3\n"
          ]
        },
        {
          "output_type": "display_data",
          "data": {
            "image/png": "[encoded data removed]",
            "text/plain": [
              "<PIL.Image.Image image mode=L size=8x8 at 0x7F7DD8F27DD0>"
            ]
          },
          "metadata": {}
        },
        {
          "output_type": "display_data",
          "data": {
            "image/png": "[encoded data removed]",
            "text/plain": [
              "<PIL.Image.Image image mode=L size=8x8 at 0x7F7DD8ECAE50>"
            ]
          },
          "metadata": {}
        },
        {
          "output_type": "stream",
          "name": "stdout",
          "text": [
            "\n",
            " Pair of Block Num  8  in frame Number:  3\n"
          ]
        },
        {
          "output_type": "display_data",
          "data": {
            "image/png": "[encoded data removed]",
            "text/plain": [
              "<PIL.Image.Image image mode=L size=8x8 at 0x7F7DD8F27DD0>"
            ]
          },
          "metadata": {}
        },
        {
          "output_type": "display_data",
          "data": {
            "image/png": "[encoded data removed]",
            "text/plain": [
              "<PIL.Image.Image image mode=L size=8x8 at 0x7F7DD8F59D90>"
            ]
          },
          "metadata": {}
        },
        {
          "output_type": "stream",
          "name": "stdout",
          "text": [
            "\n",
            " Pair of Block Num  9  in frame Number:  3\n"
          ]
        },
        {
          "output_type": "display_data",
          "data": {
            "image/png": "[encoded data removed]",
            "text/plain": [
              "<PIL.Image.Image image mode=L size=8x8 at 0x7F7DD8F59B50>"
            ]
          },
          "metadata": {}
        },
        {
          "output_type": "display_data",
          "data": {
            "image/png": "[encoded data removed]",
            "text/plain": [
              "<PIL.Image.Image image mode=L size=8x8 at 0x7F7DD8F59E10>"
            ]
          },
          "metadata": {}
        },
        {
          "output_type": "stream",
          "name": "stdout",
          "text": [
            "\n",
            " Pair of Block Num  10  in frame Number:  3\n"
          ]
        },
        {
          "output_type": "display_data",
          "data": {
            "image/png": "[encoded data removed]",
            "text/plain": [
              "<PIL.Image.Image image mode=L size=8x8 at 0x7F7DD8F59550>"
            ]
          },
          "metadata": {}
        },
        {
          "output_type": "display_data",
          "data": {
            "image/png": "[encoded data removed]",
            "text/plain": [
              "<PIL.Image.Image image mode=L size=8x8 at 0x7F7DD8F59990>"
            ]
          },
          "metadata": {}
        },
        {
          "output_type": "stream",
          "name": "stdout",
          "text": [
            "\n",
            " Pair of Block Num  11  in frame Number:  3\n"
          ]
        },
        {
          "output_type": "display_data",
          "data": {
            "image/png": "[encoded data removed]",
            "text/plain": [
              "<PIL.Image.Image image mode=L size=8x8 at 0x7F7DD8F59690>"
            ]
          },
          "metadata": {}
        },
        {
          "output_type": "display_data",
          "data": {
            "image/png": "[encoded data removed]",
            "text/plain": [
              "<PIL.Image.Image image mode=L size=8x8 at 0x7F7DD8F592D0>"
            ]
          },
          "metadata": {}
        },
        {
          "output_type": "stream",
          "name": "stdout",
          "text": [
            "\n",
            " Pair of Block Num  12  in frame Number:  3\n"
          ]
        },
        {
          "output_type": "display_data",
          "data": {
            "image/png": "[encoded data removed]",
            "text/plain": [
              "<PIL.Image.Image image mode=L size=8x8 at 0x7F7DD8F59E90>"
            ]
          },
          "metadata": {}
        },
        {
          "output_type": "display_data",
          "data": {
            "image/png": "[encoded data removed]",
            "text/plain": [
              "<PIL.Image.Image image mode=L size=8x8 at 0x7F7DD8F592D0>"
            ]
          },
          "metadata": {}
        },
        {
          "output_type": "stream",
          "name": "stdout",
          "text": [
            "\n",
            " Pair of Block Num  13  in frame Number:  3\n"
          ]
        },
        {
          "output_type": "display_data",
          "data": {
            "image/png": "[encoded data removed]",
            "text/plain": [
              "<PIL.Image.Image image mode=L size=8x8 at 0x7F7DD8F59F10>"
            ]
          },
          "metadata": {}
        },
        {
          "output_type": "display_data",
          "data": {
            "image/png": "[encoded data removed]",
            "text/plain": [
              "<PIL.Image.Image image mode=L size=8x8 at 0x7F7DD8F59F90>"
            ]
          },
          "metadata": {}
        },
        {
          "output_type": "stream",
          "name": "stdout",
          "text": [
            "\n",
            " Pair of Block Num  14  in frame Number:  3\n"
          ]
        },
        {
          "output_type": "display_data",
          "data": {
            "image/png": "[encoded data removed]",
            "text/plain": [
              "<PIL.Image.Image image mode=L size=8x8 at 0x7F7DD8F59B90>"
            ]
          },
          "metadata": {}
        },
        {
          "output_type": "display_data",
          "data": {
            "image/png": "[encoded data removed]",
            "text/plain": [
              "<PIL.Image.Image image mode=L size=8x8 at 0x7F7DD8F592D0>"
            ]
          },
          "metadata": {}
        },
        {
          "output_type": "stream",
          "name": "stdout",
          "text": [
            "\n",
            " Pair of Block Num  15  in frame Number:  3\n"
          ]
        },
        {
          "output_type": "display_data",
          "data": {
            "image/png": "[encoded data removed]",
            "text/plain": [
              "<PIL.Image.Image image mode=L size=8x8 at 0x7F7DD8F59550>"
            ]
          },
          "metadata": {}
        },
        {
          "output_type": "display_data",
          "data": {
            "image/png": "[encoded data removed]",
            "text/plain": [
              "<PIL.Image.Image image mode=L size=8x8 at 0x7F7DD8F59190>"
            ]
          },
          "metadata": {}
        },
        {
          "output_type": "stream",
          "name": "stdout",
          "text": [
            "\n",
            " Pair of Block Num  16  in frame Number:  3\n"
          ]
        },
        {
          "output_type": "display_data",
          "data": {
            "image/png": "[encoded data removed]",
            "text/plain": [
              "<PIL.Image.Image image mode=L size=8x8 at 0x7F7DD8F59E90>"
            ]
          },
          "metadata": {}
        },
        {
          "output_type": "display_data",
          "data": {
            "image/png": "[encoded data removed]",
            "text/plain": [
              "<PIL.Image.Image image mode=L size=8x8 at 0x7F7DD8F59490>"
            ]
          },
          "metadata": {}
        },
        {
          "output_type": "stream",
          "name": "stdout",
          "text": [
            "\n",
            " Pair of Block Num  17  in frame Number:  3\n"
          ]
        },
        {
          "output_type": "display_data",
          "data": {
            "image/png": "[encoded data removed]",
            "text/plain": [
              "<PIL.Image.Image image mode=L size=8x8 at 0x7F7DD8F72450>"
            ]
          },
          "metadata": {}
        },
        {
          "output_type": "display_data",
          "data": {
            "image/png": "[encoded data removed]",
            "text/plain": [
              "<PIL.Image.Image image mode=L size=8x8 at 0x7F7DD8F37250>"
            ]
          },
          "metadata": {}
        },
        {
          "output_type": "stream",
          "name": "stdout",
          "text": [
            "\n",
            " Pair of Block Num  18  in frame Number:  3\n"
          ]
        },
        {
          "output_type": "display_data",
          "data": {
            "image/png": "[encoded data removed]",
            "text/plain": [
              "<PIL.Image.Image image mode=L size=8x8 at 0x7F7DD8F722D0>"
            ]
          },
          "metadata": {}
        },
        {
          "output_type": "display_data",
          "data": {
            "image/png": "[encoded data removed]",
            "text/plain": [
              "<PIL.Image.Image image mode=L size=8x8 at 0x7F7DD8F37250>"
            ]
          },
          "metadata": {}
        },
        {
          "output_type": "stream",
          "name": "stdout",
          "text": [
            "\n",
            " Pair of Block Num  19  in frame Number:  3\n"
          ]
        },
        {
          "output_type": "display_data",
          "data": {
            "image/png": "[encoded data removed]",
            "text/plain": [
              "<PIL.Image.Image image mode=L size=8x8 at 0x7F7DD8F72690>"
            ]
          },
          "metadata": {}
        },
        {
          "output_type": "display_data",
          "data": {
            "image/png": "[encoded data removed]",
            "text/plain": [
              "<PIL.Image.Image image mode=L size=8x8 at 0x7F7DD8F03450>"
            ]
          },
          "metadata": {}
        },
        {
          "output_type": "stream",
          "name": "stdout",
          "text": [
            "\n",
            " Pair of Block Num  20  in frame Number:  3\n"
          ]
        },
        {
          "output_type": "display_data",
          "data": {
            "image/png": "[encoded data removed]",
            "text/plain": [
              "<PIL.Image.Image image mode=L size=8x8 at 0x7F7DD8F03190>"
            ]
          },
          "metadata": {}
        },
        {
          "output_type": "display_data",
          "data": {
            "image/png": "[encoded data removed]",
            "text/plain": [
              "<PIL.Image.Image image mode=L size=8x8 at 0x7F7DD8F72050>"
            ]
          },
          "metadata": {}
        },
        {
          "output_type": "stream",
          "name": "stdout",
          "text": [
            "\n",
            " Pair of Block Num  21  in frame Number:  3\n"
          ]
        },
        {
          "output_type": "display_data",
          "data": {
            "image/png": "[encoded data removed]",
            "text/plain": [
              "<PIL.Image.Image image mode=L size=8x8 at 0x7F7DD8F72410>"
            ]
          },
          "metadata": {}
        },
        {
          "output_type": "display_data",
          "data": {
            "image/png": "[encoded data removed]",
            "text/plain": [
              "<PIL.Image.Image image mode=L size=8x8 at 0x7F7DD8F87C90>"
            ]
          },
          "metadata": {}
        },
        {
          "output_type": "stream",
          "name": "stdout",
          "text": [
            "\n",
            " Pair of Block Num  22  in frame Number:  3\n"
          ]
        },
        {
          "output_type": "display_data",
          "data": {
            "image/png": "[encoded data removed]",
            "text/plain": [
              "<PIL.Image.Image image mode=L size=8x8 at 0x7F7DD8F4E550>"
            ]
          },
          "metadata": {}
        },
        {
          "output_type": "display_data",
          "data": {
            "image/png": "[encoded data removed]",
            "text/plain": [
              "<PIL.Image.Image image mode=L size=8x8 at 0x7F7DD8F4E290>"
            ]
          },
          "metadata": {}
        },
        {
          "output_type": "stream",
          "name": "stdout",
          "text": [
            "\n",
            " Pair of Block Num  23  in frame Number:  3\n"
          ]
        },
        {
          "output_type": "display_data",
          "data": {
            "image/png": "[encoded data removed]",
            "text/plain": [
              "<PIL.Image.Image image mode=L size=8x8 at 0x7F7DD8F4E390>"
            ]
          },
          "metadata": {}
        },
        {
          "output_type": "display_data",
          "data": {
            "image/png": "[encoded data removed]",
            "text/plain": [
              "<PIL.Image.Image image mode=L size=8x8 at 0x7F7DD8F4E390>"
            ]
          },
          "metadata": {}
        },
        {
          "output_type": "stream",
          "name": "stdout",
          "text": [
            "Motion Vector: \n",
            "[[0, 0], [8, 0], [0, 5], [0, 1], [19, 10], [26, 1], [2, 0], [8, 8], [33, 23], [24, 8], [32, 8], [5, 0], [5, 0], [8, 16], [16, 16], [24, 16], [32, 16], [37, 18], [4, 11], [2, 23], [3, 23], [0, 23], [0, 1], [0, 0]]\n"
          ]
        },
        {
          "output_type": "display_data",
          "data": {
            "image/png": "[encoded data removed]",
            "text/plain": [
              "<PIL.Image.Image image mode=L size=48x32 at 0x7F7DD8F4E0D0>"
            ]
          },
          "metadata": {}
        },
        {
          "output_type": "display_data",
          "data": {
            "image/png": "[encoded data removed]",
            "text/plain": [
              "<PIL.Image.Image image mode=L size=48x32 at 0x7F7DD8F4E610>"
            ]
          },
          "metadata": {}
        },
        {
          "output_type": "stream",
          "name": "stdout",
          "text": [
            "Residual Frame: \n"
          ]
        },
        {
          "output_type": "display_data",
          "data": {
            "image/png": "[encoded data removed]",
            "text/plain": [
              "<PIL.Image.Image image mode=L size=48x40 at 0x7F7DD8F4E650>"
            ]
          },
          "metadata": {}
        },
        {
          "output_type": "stream",
          "name": "stdout",
          "text": [
            "24\n"
          ]
        }
      ]
    },
    {
      "cell_type": "markdown",
      "source": [],
      "metadata": {
        "id": "QOTikgz_XPVo"
      }
    },
    {
      "cell_type": "code",
      "source": [
        "Subsampled = np.zeros((frameHeight,frameWidth//2,3),np.float32)\n",
        "subSampledFrames = []\n",
        "for a in range(0, len(residualFrames)):\n",
        "  for i in range(0, frameHeight):\n",
        "    for j in range(0, (frameWidth)-1):\n",
        "        Y= residualFrames[a][i,j];\n",
        "        Cr = allFrames[a][i,j,1]\n",
        "        Cb = allFrames[a][i,j,2]\n",
        "        Subsampled[i,(j//2)]=[Y,Cr,Cb]\n",
        "  subSampledFrames.append(Subsampled)\n",
        "  cv2_imshow(Subsampled[:,:,2])\n",
        "\n"
      ],
      "metadata": {
        "id": "spxglBw1XO7L",
        "colab": {
          "base_uri": "https://localhost:8080/",
          "height": 113
        },
        "outputId": "455fac99-8866-4453-96a0-0711df640dad"
      },
      "execution_count": null,
      "outputs": [
        {
          "output_type": "display_data",
          "data": {
            "image/png": "[encoded data removed]",
            "text/plain": [
              "<PIL.Image.Image image mode=L size=24x32 at 0x7F7DD8F72490>"
            ]
          },
          "metadata": {}
        },
        {
          "output_type": "display_data",
          "data": {
            "image/png": "[encoded data removed]",
            "text/plain": [
              "<PIL.Image.Image image mode=L size=24x32 at 0x7F7DD8F27850>"
            ]
          },
          "metadata": {}
        },
        {
          "output_type": "display_data",
          "data": {
            "image/png": "[encoded data removed]",
            "text/plain": [
              "<PIL.Image.Image image mode=L size=24x32 at 0x7F7DD8F27C10>"
            ]
          },
          "metadata": {}
        }
      ]
    },
    {
      "cell_type": "markdown",
      "metadata": {
        "id": "oakBSjkEssns"
      },
      "source": [
        "### Three Components"
      ]
    },
    {
      "cell_type": "code",
      "metadata": {
        "id": "zeVn-A1UbqP2"
      },
      "source": [
        "import math\n",
        "\n",
        "\n",
        "def DCT(Mat):\n",
        "    rows = 8\n",
        "    cols = 8\n",
        "    Arr = np.zeros((rows,cols),np.float16)\n",
        "    pi = math.pi\n",
        "    for i in range(0, rows):\n",
        "        for j in range(0, cols):\n",
        "            for u in range(0, rows):\n",
        "                for v in range(0, cols):\n",
        "                  Arr[i][j] += Mat[u][v] * math.cos((2 * u + 1) * pi\n",
        "                            * i / (2 * cols)) * math.cos((2 * v + 1)\n",
        "                            * (pi * j) / (2 * rows))\n",
        "            if i == 0:\n",
        "                alphaI = math.sqrt(1 / rows)\n",
        "            else:\n",
        "                alphaI = math.sqrt(2 / rows)\n",
        "\n",
        "            if j == 0:\n",
        "                alphaJ = math.sqrt(1 / cols)\n",
        "            else:\n",
        "                alphaJ = math.sqrt(2 / cols)\n",
        "            Arr[i][j] *= alphaI * alphaJ\n",
        "    return Arr\n",
        "\n",
        "coff = [[16,\t11,\t10,\t16,\t24,10\t ,51\t,61],\n",
        "[12,\t12,\t14,\t19,\t26, 58\t ,60\t,55],\n",
        "[14,\t13,\t16,\t24,\t40, 57\t ,69\t,56],\n",
        "[14,\t17,\t22,\t29,\t51, 87\t ,80\t,62],\n",
        "[18,\t22,\t37,\t56,\t68, 109 ,103   ,77],\n",
        "[24,\t35,\t55,\t64,\t81, 104 ,113   ,92],\n",
        "[49,\t64,\t78,\t87,\t103, 121 ,120   ,101],\n",
        "[72,\t92,\t95,\t98,\t112, 100 ,103   ,99]]\n",
        "def Quantize(Block):\n",
        "  Arr = DCT(Block)\n",
        "  rows = 8\n",
        "  cols = 8\n",
        "  print(Arr)\n",
        "  for i in range(0,rows):\n",
        "    for j in range(0,cols):\n",
        "      Arr[i][j] /= coff[i][j]\n",
        "      Arr[i][j]= int (round(Arr[i][j]))\n",
        "  return Arr\n",
        "\n",
        "\n",
        ""
      ],
      "execution_count": null,
      "outputs": []
    },
    {
      "cell_type": "code",
      "source": [
        "#TODO ADD Other channels\n",
        "QunatizedBlocksAllFrames = []\n",
        "for currentFrame in range(len(subSampledFrames)):\n",
        "  QunatizedBlocksPerFrame = []\n",
        "  subSampledBlocksPerFrameY = []\n",
        "  subSampledBlocksPerFrameCr = []\n",
        "  subSampledBlocksPerFrameCb = []\n",
        "  subSampledBlocksPerFrameY = Blocking(subSampledFrames[currentFrame][:,:,0])\n",
        "  subSampledBlocksPerFrameCr = Blocking(subSampledFrames[currentFrame][:,:,1])\n",
        "  subSampledBlocksPerFrameCb = Blocking(subSampledFrames[currentFrame][:,:,2])\n",
        "  for i in range(len(subSampledBlocksPerFrameY)):\n",
        "    QunatizedBlocksPerFrame.append([Quantize(subSampledBlocksPerFrameY[i]),Quantize(subSampledBlocksPerFrameCr[i]),Quantize(subSampledBlocksPerFrameCb[i])])\n",
        "  QunatizedBlocksAllFrames.append(QunatizedBlocksPerFrame)"
      ],
      "metadata": {
        "id": "VBfDdEzkmY1G",
        "colab": {
          "base_uri": "https://localhost:8080/"
        },
        "outputId": "09d11629-83c7-4db8-eb97-2febebc99787"
      },
      "execution_count": null,
      "outputs": [
        {
          "output_type": "stream",
          "name": "stdout",
          "text": [
            "[[-0.125     0.1735   -0.1633    0.147    -0.125     0.0982   -0.0676\n",
            "   0.0345  ]\n",
            " [ 0.0982   -0.1362    0.1283   -0.1155    0.0982   -0.07715   0.05316\n",
            "  -0.0271  ]\n",
            " [ 0.0676   -0.0938    0.0884   -0.0795    0.0676   -0.05316   0.03662\n",
            "  -0.01866 ]\n",
            " [-0.1735    0.2405   -0.2266    0.2039   -0.1733    0.1362   -0.0938\n",
            "   0.04782 ]\n",
            " [ 0.125    -0.1733    0.1633   -0.147     0.125    -0.0982    0.0676\n",
            "  -0.0345  ]\n",
            " [ 0.0345   -0.04782   0.04507  -0.04056   0.0345   -0.0271    0.01866\n",
            "  -0.009514]\n",
            " [-0.1633    0.2266   -0.2134    0.192    -0.1633    0.1283   -0.0884\n",
            "   0.04507 ]\n",
            " [ 0.147    -0.2039    0.192    -0.1729    0.147    -0.1155    0.0795\n",
            "  -0.04056 ]]\n",
            "[[ 1.1070e+03  1.5612e+02 -7.7461e+00  1.8422e+01 -3.2469e+01  4.8047e+00\n",
            "   1.3234e+01  1.2881e+00]\n",
            " [ 5.8906e+01 -4.4188e+01 -1.0180e+01  2.0734e+01 -1.3375e+01  1.8297e+01\n",
            "  -1.0391e+01  1.5664e+01]\n",
            " [ 7.5688e+01 -1.4555e+01  9.9766e+00 -1.3562e+01  2.1812e+01 -1.0734e+01\n",
            "   1.9062e+01 -1.6047e+01]\n",
            " [ 2.6125e+01 -3.1078e+01 -8.3984e+00 -6.3047e+00  2.9234e+01 -2.2578e+00\n",
            "  -6.7500e+00 -9.5625e+00]\n",
            " [-6.9188e+01 -6.2461e+00  2.1719e+01 -1.1086e+01 -3.2500e+00  2.4805e+00\n",
            "  -6.3125e+00  1.1812e+01]\n",
            " [ 1.6016e+01  3.3156e+01 -9.3750e+00 -1.7588e+00 -4.7656e+00 -7.6719e+00\n",
            "   1.0602e+01  6.0645e-01]\n",
            " [ 1.3008e+01  3.5656e+01 -1.7594e+01  1.0727e+01 -4.2031e+00  1.1826e+00\n",
            "   6.7969e+00  1.0059e+00]\n",
            " [-2.1641e+01 -7.8594e+00 -1.3953e+01  1.5672e+01 -5.2812e+00  8.0547e+00\n",
            "  -1.6078e+01 -1.2061e+00]]\n",
            "[[ 1.1790e+03  1.5888e+02 -1.0594e+01  1.8203e+01 -3.7031e+01  9.7734e+00\n",
            "   1.1664e+01  4.0312e+00]\n",
            " [ 6.6125e+01 -4.1312e+01 -7.5508e+00  2.3766e+01 -1.2703e+01  1.5273e+01\n",
            "  -1.0773e+01  1.4703e+01]\n",
            " [ 7.1125e+01 -1.6844e+01  8.0703e+00 -1.5789e+01  2.1312e+01 -8.5078e+00\n",
            "   1.9328e+01 -1.5375e+01]\n",
            " [ 2.7938e+01 -2.9844e+01 -7.5430e+00 -5.2383e+00  2.9406e+01 -3.3691e+00\n",
            "  -6.8828e+00 -9.8750e+00]\n",
            " [-6.9312e+01 -6.2383e+00  2.1734e+01 -1.1078e+01 -3.2500e+00  2.4805e+00\n",
            "  -6.2969e+00  1.1797e+01]\n",
            " [ 1.4375e+01  3.2594e+01 -1.0023e+01 -2.4473e+00 -4.9570e+00 -6.9648e+00\n",
            "   1.0680e+01  8.0664e-01]\n",
            " [ 1.5016e+01  3.6438e+01 -1.6906e+01  1.1578e+01 -3.9980e+00  2.3682e-01\n",
            "   6.6992e+00  7.3486e-01]\n",
            " [-2.2953e+01 -8.5234e+00 -1.4430e+01  1.5117e+01 -5.3633e+00  8.6875e+00\n",
            "  -1.6016e+01 -1.0098e+00]]\n",
            "[[ 1.7238e+02 -3.9906e+01 -2.7688e+01  1.1675e+02  3.1328e+00 -2.2156e+01\n",
            "  -6.0625e+01 -8.3750e+01]\n",
            " [ 6.0188e+01  1.4789e+01 -1.4477e+01 -3.2000e+01 -4.9969e+01  3.1672e+01\n",
            "   6.3562e+01  5.9594e+01]\n",
            " [ 6.6289e+00 -7.3398e+00  1.7281e+01  1.7764e+00  1.2922e+01 -1.5531e+01\n",
            "  -7.6938e+01 -1.9203e+01]\n",
            " [-5.7617e+00 -9.0062e+01  4.4180e+00  3.4332e-02  7.3086e+00  5.9668e-01\n",
            "   4.1000e+01  1.4484e+01]\n",
            " [-4.0844e+01 -1.4680e+01  3.5137e+00 -3.7656e+01  1.9375e+01  1.9047e+01\n",
            "   1.9359e+01  1.5438e+01]\n",
            " [-5.2250e+01  4.3398e+00  2.8547e+01  1.3023e+01 -1.0336e+01 -1.7344e+01\n",
            "  -1.2516e+01 -9.2344e+00]\n",
            " [-1.7750e+01 -1.3406e+01  1.9500e+01  7.6172e-01  2.0957e+00  7.0352e+00\n",
            "   4.7803e-01  1.4086e+01]\n",
            " [ 1.7531e+01 -1.9906e+01  2.0000e+00  7.9102e+00 -9.5312e+00 -4.2266e+00\n",
            "  -1.3875e+01 -1.0078e+00]]\n",
            "[[ 9.4450e+02  2.7062e+01  5.5906e+01 -4.2938e+01  6.6523e+00  2.5672e+01\n",
            "   7.1750e+01  9.8750e+01]\n",
            " [ 2.6938e+01  3.6000e+01  4.4492e+00 -7.2969e+00  1.2734e+01 -9.3828e+00\n",
            "  -1.6141e+01 -3.1672e+01]\n",
            " [ 3.2250e+01  3.6188e+01 -6.2539e+00  1.1344e+01 -1.5049e+00 -7.8281e+00\n",
            "  -3.9727e+00 -2.5891e+01]\n",
            " [ 3.1203e+01  3.6844e+01 -6.2305e+00  4.6016e+00  4.8594e+00 -5.4844e+00\n",
            "  -4.0234e+00 -1.0555e+01]\n",
            " [ 3.3531e+01  3.1703e+01 -1.2070e+01  2.9688e+00  4.6250e+00  3.7305e-01\n",
            "  -3.2500e+00 -8.3984e+00]\n",
            " [ 2.6953e+01  2.5719e+01 -1.6344e+01 -1.5137e+00  2.3418e+00  3.4961e+00\n",
            "   2.7285e+00 -6.3867e+00]\n",
            " [ 1.3148e+01  2.1047e+01 -1.6781e+01 -4.0469e+00 -5.8545e-01  3.2441e+00\n",
            "   6.2734e+00 -2.3867e+00]\n",
            " [ 4.7500e+00  1.0711e+01 -1.1586e+01 -1.9141e+00 -7.6758e-01 -4.6216e-01\n",
            "   6.5703e+00  1.3574e+00]]\n",
            "[[ 9.8600e+02  3.4906e+01  4.4562e+01 -2.9938e+01  1.4352e+01  1.5531e+01\n",
            "   6.4938e+01  9.0750e+01]\n",
            " [ 2.9016e+01  3.7438e+01  2.0664e+00 -5.9375e+00  1.3719e+01 -1.0914e+01\n",
            "  -1.6188e+01 -3.0656e+01]\n",
            " [ 2.9703e+01  3.7656e+01 -3.8789e+00  9.3984e+00 -1.6562e+00 -7.3945e+00\n",
            "  -3.6992e+00 -2.6125e+01]\n",
            " [ 3.0766e+01  3.7281e+01 -7.0742e+00  5.0898e+00  5.2148e+00 -5.9648e+00\n",
            "  -4.0352e+00 -1.0141e+01]\n",
            " [ 3.3531e+01  3.1594e+01 -1.2047e+01  3.0273e+00  4.6250e+00  4.1431e-01\n",
            "  -3.2734e+00 -8.3672e+00]\n",
            " [ 2.7172e+01  2.5578e+01 -1.5758e+01 -1.8398e+00  2.0938e+00  3.8438e+00\n",
            "   2.7559e+00 -6.6172e+00]\n",
            " [ 1.4297e+01  2.0391e+01 -1.7656e+01 -3.2070e+00 -5.4639e-01  3.0527e+00\n",
            "   6.1641e+00 -2.3281e+00]\n",
            " [ 4.8125e+00  1.0422e+01 -1.1039e+01 -2.1875e+00 -9.5459e-01 -1.8347e-01\n",
            "   6.5703e+00  1.1768e+00]]\n",
            "[[ 194.1     103.1     -19.75   -133.9      15.625    20.69     -1.68\n",
            "    14.805 ]\n",
            " [  -9.836   -17.33     40.28     26.77     -0.577   -11.336     4.07\n",
            "     0.7036]\n",
            " [  17.47      0.856     6.395    12.89     19.6      32.84     18.97\n",
            "     3.852 ]\n",
            " [  36.28     11.89    -10.44      1.254     6.953     3.492    -4.535\n",
            "     3.943 ]\n",
            " [  -9.39    -10.42     16.34     20.42     10.125    16.94      7.16\n",
            "    -6.867 ]\n",
            " [  -3.252   -13.195     0.2295   11.09      8.1      -7.305   -13.69\n",
            "     2.863 ]\n",
            " [  -2.746    -9.87     -5.02      2.916     1.237    10.9       2.346\n",
            "    -4.145 ]\n",
            " [  -4.703   -11.16     -4.83      3.361     4.605     3.037     1.592\n",
            "     8.42  ]]\n",
            "[[686.5   -70.7    25.61  185.1   -83.44   43.34  -32.22   -2.953]\n",
            " [ 29.03   29.48  -15.47  -20.77    6.426  10.875   2.146  11.08 ]\n",
            " [  9.695  26.34   12.07   -3.695  -8.09  -22.6   -13.336  -3.223]\n",
            " [  5.39   21.61    9.35   -8.77   -4.676  -3.484  -4.277  -6.73 ]\n",
            " [ 20.8    20.58  -12.125 -21.62   -7.75   -3.453   5.293  12.65 ]\n",
            " [  6.082   3.1   -10.42  -13.38   -7.7    12.84   21.84    5.48 ]\n",
            " [ -9.85   -3.74    5.918   4.555  -3.156  -4.562   2.17    8.01 ]\n",
            " [-12.33   -8.336   4.625   3.697  -3.309  -2.05   -3.238  -9.65 ]]\n",
            "[[682.    -85.6    62.62  174.2   -71.56   28.72  -19.97  -12.08 ]\n",
            " [ 29.25   27.19  -16.27  -21.75    5.14   10.24    1.807  10.6  ]\n",
            " [  9.195  28.03   12.664  -3.012  -7.156 -22.17  -13.09   -2.885]\n",
            " [  5.457  20.66    9.03   -9.1    -5.086  -3.688  -4.395  -6.9  ]\n",
            " [ 20.72   20.62  -12.11  -21.55   -7.75   -3.44    5.31   12.65 ]\n",
            " [  6.043   3.611 -10.164 -13.195  -7.375  13.016  21.88    5.57 ]\n",
            " [ -9.945  -4.516   5.664   4.246  -3.531  -4.77    2.084   7.84 ]\n",
            " [-12.305  -7.797   4.812   3.936  -3.045  -1.936  -3.193  -9.56 ]]\n",
            "[[-0.125     0.1735   -0.1633    0.147    -0.125     0.0982   -0.0676\n",
            "   0.0345  ]\n",
            " [ 0.0982   -0.1362    0.1283   -0.1155    0.0982   -0.07715   0.05316\n",
            "  -0.0271  ]\n",
            " [ 0.0676   -0.0938    0.0884   -0.0795    0.0676   -0.05316   0.03662\n",
            "  -0.01866 ]\n",
            " [-0.1735    0.2405   -0.2266    0.2039   -0.1733    0.1362   -0.0938\n",
            "   0.04782 ]\n",
            " [ 0.125    -0.1733    0.1633   -0.147     0.125    -0.0982    0.0676\n",
            "  -0.0345  ]\n",
            " [ 0.0345   -0.04782   0.04507  -0.04056   0.0345   -0.0271    0.01866\n",
            "  -0.009514]\n",
            " [-0.1633    0.2266   -0.2134    0.192    -0.1633    0.1283   -0.0884\n",
            "   0.04507 ]\n",
            " [ 0.147    -0.2039    0.192    -0.1729    0.147    -0.1155    0.0795\n",
            "  -0.04056 ]]\n",
            "[[ 1.0340e+03  1.0606e+02 -6.4438e+01  3.7875e+01  3.6499e-02  8.7988e-01\n",
            "  -2.7422e+01 -4.5469e+01]\n",
            " [-1.8188e+02 -6.6846e-01  1.4175e+02 -7.4938e+01  4.7438e+01  4.8219e+01\n",
            "   5.2531e+01 -1.0453e+01]\n",
            " [ 5.5156e+01  3.7500e+01 -7.0750e+01 -1.6953e+01 -4.6969e+01  4.0250e+01\n",
            "   8.0750e+01  8.0625e+01]\n",
            " [ 2.6578e+01  4.8750e+01 -6.0938e+01 -2.8703e+01  5.5344e+01 -5.8219e+01\n",
            "   2.8594e+01 -9.5156e+00]\n",
            " [-2.4172e+01 -1.7594e+01  8.3750e+01  2.3172e+01 -1.9000e+01  1.7422e+01\n",
            "  -7.9688e+01 -7.1484e+00]\n",
            " [ 3.4906e+01 -2.5527e+00  9.6484e+00  1.9359e+01 -8.4219e+00 -2.9016e+01\n",
            "   9.4531e+00 -2.2031e+01]\n",
            " [ 4.0156e+00 -7.2812e+00 -1.2172e+01 -2.6680e+00 -3.2617e-01 -5.5859e+00\n",
            "  -1.3301e+00  3.5000e+01]\n",
            " [-1.5047e+01  1.1672e+01 -5.8477e+00  3.8094e+01  1.1734e+01  5.5352e+00\n",
            "   7.9395e-01  1.0137e+00]]\n",
            "[[ 1.0660e+03  9.7312e+01 -5.4062e+01  2.9625e+01 -9.8877e-01  3.3945e+00\n",
            "  -2.9609e+01 -4.3188e+01]\n",
            " [-1.8175e+02 -4.1875e+00  1.3100e+02 -7.8750e+01  4.6812e+01  4.8094e+01\n",
            "   5.1906e+01 -9.9453e+00]\n",
            " [ 5.7156e+01  4.1250e+01 -7.4625e+01 -1.2734e+01 -4.7875e+01  4.0125e+01\n",
            "   7.9625e+01  8.1438e+01]\n",
            " [ 2.9562e+01  5.1219e+01 -5.9062e+01 -2.5906e+01  5.5094e+01 -5.9312e+01\n",
            "   2.8219e+01 -9.9688e+00]\n",
            " [-2.4109e+01 -1.7594e+01  8.3875e+01  2.3109e+01 -1.9000e+01  1.7391e+01\n",
            "  -7.9750e+01 -7.2031e+00]\n",
            " [ 3.3500e+01 -4.2930e+00  8.5625e+00  1.7438e+01 -8.2188e+00 -2.8312e+01\n",
            "   9.5859e+00 -2.1719e+01]\n",
            " [ 3.1953e+00 -8.8359e+00 -1.0555e+01 -4.3750e+00  1.0443e-01 -5.5039e+00\n",
            "  -7.8711e-01  3.4688e+01]\n",
            " [-1.5312e+01  1.2398e+01 -3.7129e+00  3.8844e+01  1.1867e+01  5.5547e+00\n",
            "   8.6963e-01  9.3018e-01]]\n",
            "[[ 1.7238e+02 -3.9906e+01 -2.7688e+01  1.1675e+02  3.1328e+00 -2.2156e+01\n",
            "  -6.0625e+01 -8.3750e+01]\n",
            " [ 6.0188e+01  1.4789e+01 -1.4477e+01 -3.2000e+01 -4.9969e+01  3.1672e+01\n",
            "   6.3562e+01  5.9594e+01]\n",
            " [ 6.6289e+00 -7.3398e+00  1.7281e+01  1.7764e+00  1.2922e+01 -1.5531e+01\n",
            "  -7.6938e+01 -1.9203e+01]\n",
            " [-5.7617e+00 -9.0062e+01  4.4180e+00  3.4332e-02  7.3086e+00  5.9668e-01\n",
            "   4.1000e+01  1.4484e+01]\n",
            " [-4.0844e+01 -1.4680e+01  3.5137e+00 -3.7656e+01  1.9375e+01  1.9047e+01\n",
            "   1.9359e+01  1.5438e+01]\n",
            " [-5.2250e+01  4.3398e+00  2.8547e+01  1.3023e+01 -1.0336e+01 -1.7344e+01\n",
            "  -1.2516e+01 -9.2344e+00]\n",
            " [-1.7750e+01 -1.3406e+01  1.9500e+01  7.6172e-01  2.0957e+00  7.0352e+00\n",
            "   4.7803e-01  1.4086e+01]\n",
            " [ 1.7531e+01 -1.9906e+01  2.0000e+00  7.9102e+00 -9.5312e+00 -4.2266e+00\n",
            "  -1.3875e+01 -1.0078e+00]]\n",
            "[[ 9.2000e+02 -1.2672e+01  6.9219e+00 -1.9484e+01 -2.7203e+01  2.7172e+01\n",
            "   1.7422e+01  3.4750e+01]\n",
            " [ 2.7266e+01  2.4594e+01  4.4219e+01 -1.0453e+01  1.4703e+01  1.1172e+00\n",
            "   3.1953e+01  3.6562e+01]\n",
            " [ 4.3242e+00 -2.6281e+01 -2.1547e+01 -9.3750e+00 -2.8496e+00  3.9395e+00\n",
            "  -1.0945e+01  5.7438e+01]\n",
            " [-7.9000e+01  2.3953e+01  8.7549e-01  1.3781e+01  3.1578e+01 -2.0203e+01\n",
            "  -1.5645e+00  2.2266e+01]\n",
            " [-2.7156e+01  1.5141e+01 -2.2547e+01  1.1260e+00  4.5000e+00 -1.0117e+01\n",
            "   4.4570e+00 -1.0203e+01]\n",
            " [ 7.6750e+01  5.8594e-01  1.1766e+01 -4.0967e-01 -1.4812e+01  1.3945e+01\n",
            "  -5.1797e+00 -1.6094e+01]\n",
            " [ 4.4375e+01 -2.0625e+01  8.8359e+00 -2.6191e+00 -7.4297e+00  4.7422e+00\n",
            "   2.8223e+00 -1.0500e+01]\n",
            " [-2.4656e+01 -2.3297e+01  2.3008e+00 -1.7490e+00  2.0410e+00  7.1484e-01\n",
            "   5.6133e+00  2.8047e+00]]\n",
            "[[ 9.7800e+02 -7.1797e+00  9.0625e+00 -2.0984e+01 -2.6016e+01  2.7781e+01\n",
            "   1.6781e+01  3.3594e+01]\n",
            " [ 1.2453e+01  1.3641e+01  4.5000e+01 -8.7969e+00  1.5633e+01  3.7480e+00\n",
            "   3.3250e+01  3.5719e+01]\n",
            " [-1.2930e+01 -3.3062e+01 -2.2453e+01 -6.8945e-01 -4.4297e+00  5.3789e+00\n",
            "  -1.1320e+01  5.7031e+01]\n",
            " [-7.8938e+01  2.3141e+01 -5.3320e-01  1.3492e+01  3.1984e+01 -2.0984e+01\n",
            "  -1.8086e+00  2.3562e+01]\n",
            " [-2.7062e+01  1.5008e+01 -2.2531e+01  1.0850e+00  4.5000e+00 -1.0141e+01\n",
            "   4.4531e+00 -1.0188e+01]\n",
            " [ 7.6438e+01  9.6680e-01  1.2805e+01 -2.7588e-01 -1.5023e+01  1.4453e+01\n",
            "  -5.0312e+00 -1.6953e+01]\n",
            " [ 5.1406e+01 -1.7922e+01  9.1953e+00 -6.2070e+00 -6.7852e+00  4.1719e+00\n",
            "   2.9766e+00 -1.0320e+01]\n",
            " [-2.1891e+01 -2.1219e+01  2.1113e+00 -2.1367e+00  1.8291e+00  2.1960e-01\n",
            "   5.3477e+00  2.9180e+00]]\n",
            "[[ 194.1     103.1     -19.75   -133.9      15.625    20.69     -1.68\n",
            "    14.805 ]\n",
            " [  -9.836   -17.33     40.28     26.77     -0.577   -11.336     4.07\n",
            "     0.7036]\n",
            " [  17.47      0.856     6.395    12.89     19.6      32.84     18.97\n",
            "     3.852 ]\n",
            " [  36.28     11.89    -10.44      1.254     6.953     3.492    -4.535\n",
            "     3.943 ]\n",
            " [  -9.39    -10.42     16.34     20.42     10.125    16.94      7.16\n",
            "    -6.867 ]\n",
            " [  -3.252   -13.195     0.2295   11.09      8.1      -7.305   -13.69\n",
            "     2.863 ]\n",
            " [  -2.746    -9.87     -5.02      2.916     1.237    10.9       2.346\n",
            "    -4.145 ]\n",
            " [  -4.703   -11.16     -4.83      3.361     4.605     3.037     1.592\n",
            "     8.42  ]]\n",
            "[[ 7.6850e+02 -3.4656e+01  9.0781e+00  9.3750e+01  1.2109e+01 -1.5094e+01\n",
            "   8.5469e+00  2.4609e+01]\n",
            " [ 3.9473e+00 -7.9375e+01  6.5703e+00  8.0375e+01  6.0645e-01 -9.9297e+00\n",
            "   1.5727e+01  1.6141e+01]\n",
            " [-4.3781e+01  1.3602e+01 -2.5250e+01  7.9336e+00 -1.6141e+01 -1.7203e+01\n",
            "   3.9805e+00  8.3516e+00]\n",
            " [-3.2781e+01  1.5305e+01 -4.9344e+01 -1.8688e+01 -4.2578e+00 -1.3281e+01\n",
            "  -9.6953e+00  3.7070e+00]\n",
            " [-8.6500e+01  4.8312e+01 -2.4078e+01 -3.6133e+00  9.3750e+00 -6.5078e+00\n",
            "  -8.2578e+00  1.0879e+00]\n",
            " [ 4.2688e+01 -7.4414e-01  7.0781e+00  2.6672e+01  1.9062e+01  3.0469e+00\n",
            "  -3.6211e+00 -4.4570e+00]\n",
            " [ 5.6750e+01 -1.3117e+01  3.3062e+01  2.5172e+01  1.1768e+00  3.4922e+00\n",
            "   4.9609e+00 -6.9531e+00]\n",
            " [ 4.7688e+01 -3.7969e+01  2.5062e+01  9.7109e+00 -6.4922e+00  4.6484e+00\n",
            "   3.5508e+00 -5.5547e+00]]\n",
            "[[ 8.3150e+02 -3.3531e+01  2.2016e+01  1.0162e+02  1.1367e+01 -1.6641e+01\n",
            "   6.6953e+00  2.1031e+01]\n",
            " [-1.3203e+01 -8.9438e+01  2.0766e+01  9.2000e+01  4.5996e-01 -1.0211e+01\n",
            "   1.6422e+01  1.3961e+01]\n",
            " [-7.4312e+01  1.5961e+01 -2.2344e+01  1.0305e+01 -1.3617e+01 -1.4219e+01\n",
            "   5.5117e+00  8.0703e+00]\n",
            " [-3.2219e+01  1.4828e+01 -4.9688e+01 -1.8594e+01 -3.9941e+00 -1.2977e+01\n",
            "  -9.7109e+00  3.4707e+00]\n",
            " [-8.6000e+01  4.8312e+01 -2.4141e+01 -3.5840e+00  9.3750e+00 -6.4961e+00\n",
            "  -8.2500e+00  1.0986e+00]\n",
            " [ 4.2250e+01 -4.5703e-01  7.2734e+00  2.6578e+01  1.8891e+01  2.7949e+00\n",
            "  -3.6094e+00 -4.3125e+00]\n",
            " [ 6.9438e+01 -1.3867e+01  3.1734e+01  2.4141e+01  9.3933e-02  2.1953e+00\n",
            "   4.3203e+00 -6.8398e+00]\n",
            " [ 5.1250e+01 -3.5688e+01  2.2234e+01  7.3242e+00 -6.4805e+00  4.7031e+00\n",
            "   3.4141e+00 -5.0977e+00]]\n",
            "[[ 22.12   39.56   44.78   23.27   -6.15   -5.85   20.25   28.28 ]\n",
            " [ 86.94   62.62  -40.06  -64.8   -17.53    1.404 -36.1   -51.5  ]\n",
            " [ -1.378   6.035  23.89   33.75   15.71  -28.66  -65.4   -55.56 ]\n",
            " [-23.62  -22.23   -1.708   7.75    5.527   6.184  12.95   12.91 ]\n",
            " [-17.11  -28.72  -32.53  -20.84    4.125  24.56   27.67   16.47 ]\n",
            " [  8.13    6.477  -1.728  -2.283   5.152  11.19   10.      4.746]\n",
            " [ 21.83   22.17    8.195   5.883  10.14    3.826 -11.64  -15.55 ]\n",
            " [ -0.67   -6.98  -17.02  -17.89   -8.02    2.283   5.29    3.   ]]\n",
            "[[ 8.3900e+02 -1.4000e+01  1.3445e+01  7.1125e+01 -9.8359e+00  7.5188e+01\n",
            "   3.7312e+01  8.5375e+01]\n",
            " [ 2.3525e+02 -1.0081e+02 -2.1266e+01  2.0422e+01 -8.7000e+01 -2.7547e+01\n",
            "   1.4424e+00  9.5703e+00]\n",
            " [ 6.7188e+00  8.2812e+01 -3.8250e+01  3.9531e+01  6.5312e+01 -3.7500e+01\n",
            "   2.6641e+01  5.0219e+01]\n",
            " [ 2.5766e+01  7.8875e+01  5.6625e+01 -3.3688e+01 -5.4648e+00 -3.5562e+01\n",
            "  -1.6797e+01  7.4297e+00]\n",
            " [ 6.1875e+00 -1.7266e+01  4.3188e+01 -1.9266e+01 -4.5875e+01 -4.1758e+00\n",
            "  -2.5391e+01 -7.2500e+00]\n",
            " [ 9.5469e+00  3.7531e+01 -7.4023e+00 -1.4297e+01 -5.2156e+01 -1.1695e+01\n",
            "  -9.1094e+00  2.4891e+01]\n",
            " [-1.0156e+01  1.8994e+00  2.1602e+00 -1.9219e+01 -3.8062e+01 -3.2844e+01\n",
            "   1.1453e+01  2.1438e+01]\n",
            " [-1.7672e+01 -1.7328e+01  1.5303e+00  1.4148e+01 -1.3477e+01 -8.8916e-01\n",
            "   7.6016e+00 -2.1411e-01]]\n",
            "[[ 8.6800e+02 -1.2992e+01  1.6359e+01  7.0812e+01 -9.7891e+00  7.6188e+01\n",
            "   3.7812e+01  8.6438e+01]\n",
            " [ 2.3512e+02 -1.0612e+02 -2.0047e+01  2.0828e+01 -8.5188e+01 -2.5719e+01\n",
            "   9.3408e-01  9.6641e+00]\n",
            " [ 1.0625e+01  8.3750e+01 -3.5562e+01  3.9250e+01  6.5188e+01 -3.6625e+01\n",
            "   2.7047e+01  5.1375e+01]\n",
            " [ 2.5281e+01  7.7250e+01  5.6938e+01 -3.3531e+01 -4.8203e+00 -3.4750e+01\n",
            "  -1.6984e+01  7.5195e+00]\n",
            " [ 6.0273e+00 -1.7406e+01  4.3281e+01 -1.9328e+01 -4.5875e+01 -4.1953e+00\n",
            "  -2.5359e+01 -7.2344e+00]\n",
            " [ 9.6641e+00  3.8719e+01 -7.6836e+00 -1.4359e+01 -5.2656e+01 -1.2117e+01\n",
            "  -8.9922e+00  2.4812e+01]\n",
            " [-1.1555e+01  1.6377e+00  1.0752e+00 -1.9016e+01 -3.8000e+01 -3.3312e+01\n",
            "   1.1305e+01  2.0906e+01]\n",
            " [-1.7469e+01 -1.6328e+01  1.2012e+00  1.4062e+01 -1.3734e+01 -1.2578e+00\n",
            "   7.7344e+00 -2.7148e-01]]\n",
            "[[ 57.      59.25     9.57    -1.107   19.77     5.38   -18.03   -34.9   ]\n",
            " [-21.7    -23.77   -19.92    -5.29    11.6     -6.66   -16.12   -25.9   ]\n",
            " [ 22.69    32.25    33.03    25.28    18.48    -3.695  -11.78   -15.55  ]\n",
            " [  1.58    -1.891   -0.9043  -1.908    3.072   -0.4697  -0.853   -2.682 ]\n",
            " [-26.05   -25.27    -6.65     5.098    4.25     2.473    5.465    5.715 ]\n",
            " [-33.06   -33.62   -16.4     -3.893   -3.188    0.7866   8.15     8.945 ]\n",
            " [ -3.996   -0.6396   6.465    4.56    -3.05    -3.31     4.734    8.06  ]\n",
            " [ 16.92    18.16    10.13     5.83     4.71     0.507   -7.6     -8.11  ]]\n",
            "[[ 7.5250e+02 -9.3688e+01 -8.2688e+01  9.9688e+01  4.1172e+00 -4.3000e+01\n",
            "   2.8719e+01  8.8281e+00]\n",
            " [ 5.3344e+01  2.3412e+02 -6.0031e+01 -3.1281e+01 -8.3047e+00  2.4703e+01\n",
            "   3.3531e+01 -4.2375e+01]\n",
            " [-2.5391e+01 -3.5562e+01 -3.6133e-01  2.1766e+01 -1.3695e+01 -2.2391e+01\n",
            "   5.5938e+00  2.7812e+01]\n",
            " [-2.4422e+01 -3.4312e+01  2.0578e+01 -2.4938e+01  2.0875e+01  2.8844e+01\n",
            "  -1.5352e+01 -4.3320e+00]\n",
            " [ 1.5852e+01 -6.5125e+01  3.4746e+00 -1.0883e+01  1.0375e+01  1.5070e+01\n",
            "  -1.2156e+01  4.5430e+00]\n",
            " [ 2.1000e+01  3.5781e+01  2.4746e+00 -3.7930e+00 -1.0102e+01 -3.9238e+00\n",
            "   9.4844e+00  1.1359e+01]\n",
            " [ 1.9172e+01 -1.6156e+01 -1.4953e+01  1.4273e+01  1.1734e+01  9.5625e+00\n",
            "   1.3180e+01 -7.2188e+00]\n",
            " [-2.1250e+01 -4.9906e+01 -2.8000e+01  5.0469e+00  3.1973e+00 -2.3535e+00\n",
            "   5.8281e+00 -2.6992e+00]]\n",
            "[[ 7.6850e+02 -9.1375e+01 -8.2812e+01  9.9500e+01  3.1680e+00 -4.0500e+01\n",
            "   2.8219e+01  6.4258e+00]\n",
            " [ 5.8469e+01  2.4062e+02 -5.9219e+01 -3.4125e+01 -7.2773e+00  2.3422e+01\n",
            "   3.4375e+01 -4.0875e+01]\n",
            " [-1.2250e+01 -4.0500e+01  7.4756e-01  2.4594e+01 -1.5516e+01 -2.2766e+01\n",
            "   5.6406e+00  2.8312e+01]\n",
            " [-2.1672e+01 -3.1859e+01  2.0031e+01 -2.6391e+01  2.1875e+01  2.9141e+01\n",
            "  -1.5438e+01 -4.6719e+00]\n",
            " [ 1.5789e+01 -6.5000e+01  3.4805e+00 -1.0906e+01  1.0375e+01  1.5102e+01\n",
            "  -1.2141e+01  4.5547e+00]\n",
            " [ 1.9297e+01  3.4125e+01  2.8867e+00 -2.8516e+00 -1.0766e+01 -4.1289e+00\n",
            "   9.5156e+00  1.1555e+01]\n",
            " [ 1.3516e+01 -1.4180e+01 -1.5375e+01  1.3078e+01  1.2516e+01  9.7188e+00\n",
            "   1.3133e+01 -7.3750e+00]\n",
            " [-2.2312e+01 -5.1250e+01 -2.8094e+01  5.5898e+00  2.9844e+00 -2.0488e+00\n",
            "   5.6719e+00 -3.0195e+00]]\n",
            "[[ 110.4    -101.4       9.664    13.09     26.84    -36.06     -9.\n",
            "    35.12  ]\n",
            " [  -0.9766   -7.188    22.8     -23.        6.72     11.62    -16.81\n",
            "    10.62  ]\n",
            " [  46.66    -50.28     21.58     -6.2      10.      -13.695     8.07\n",
            "    -0.733 ]\n",
            " [  44.56    -49.88     20.6       7.16    -17.27     10.94      0.6807\n",
            "    -4.695 ]\n",
            " [  10.875   -15.336    11.98     -0.2183   -9.625     6.69      5.727\n",
            "    -9.87  ]\n",
            " [ -13.445    12.27      1.027    -6.547     3.389     0.4558    0.653\n",
            "    -1.957 ]\n",
            " [ -20.81     24.48    -11.45     -1.599     6.816    -1.366    -6.87\n",
            "     7.938 ]\n",
            " [ -38.       40.2     -12.51     -5.06      4.98      1.907    -4.11\n",
            "     2.084 ]]\n",
            "[[ 7.2450e+02 -2.4734e+01  1.5414e+01  3.0996e+00 -1.9094e+01  3.8125e+00\n",
            "   1.6006e+00 -6.6719e+00]\n",
            " [-2.2838e+02 -6.1938e+01  2.1938e+01 -5.8359e+00 -2.4688e+01  1.1172e+01\n",
            "   2.5762e+00 -1.1104e+00]\n",
            " [-5.7156e+01 -2.0828e+01  3.4344e+01 -7.8828e+00 -1.3828e+01  1.0516e+01\n",
            "  -5.1445e+00  5.3828e+00]\n",
            " [ 3.9656e+01  9.9609e+00  1.1344e+01 -8.1250e+00  6.7891e+00  6.4883e+00\n",
            "  -8.6406e+00  1.1461e+01]\n",
            " [ 4.8344e+01  3.4094e+01 -6.7285e-01 -5.3984e+00  1.3625e+01 -3.1074e+00\n",
            "  -6.6172e+00  1.1203e+01]\n",
            " [-1.0516e+01  1.9938e+01 -2.4094e+01 -7.1602e+00  4.9297e+00 -5.8086e+00\n",
            "  -4.1484e+00  7.8555e+00]\n",
            " [-2.5891e+01  9.0234e+00  2.8535e+00  1.5527e+00 -2.5234e+00 -5.2344e-01\n",
            "  -9.2109e+00 -2.1973e+00]\n",
            " [-1.1648e+01 -3.7617e+00  2.0566e+00  1.9092e+00 -6.0273e+00  1.8359e+00\n",
            "  -6.7383e+00 -3.4922e+00]]\n",
            "[[ 7.0200e+02 -1.8828e+01  1.8484e+01  5.3789e+00 -1.4938e+01  9.1172e+00\n",
            "   4.3906e+00 -6.6523e+00]\n",
            " [-2.3075e+02 -5.8469e+01  2.1375e+01 -7.8047e+00 -2.4453e+01  1.3602e+01\n",
            "   4.3438e+00 -9.4336e-01]\n",
            " [-4.3906e+01 -1.5586e+01  3.4344e+01 -8.9766e+00 -1.2289e+01  1.3273e+01\n",
            "  -3.8242e+00  5.3828e+00]\n",
            " [ 3.7125e+01  1.1680e+01  1.0789e+01 -8.4688e+00  7.8086e+00  7.5273e+00\n",
            "  -8.2188e+00  1.1641e+01]\n",
            " [ 4.8406e+01  3.4031e+01 -6.9531e-01 -5.3711e+00  1.3625e+01 -3.0957e+00\n",
            "  -6.5898e+00  1.1203e+01]\n",
            " [-8.7891e+00  1.8750e+01 -2.3688e+01 -6.9023e+00  4.2266e+00 -6.5508e+00\n",
            "  -4.4492e+00  7.7539e+00]\n",
            " [-3.1484e+01  6.9609e+00  2.9258e+00  1.9912e+00 -3.1680e+00 -1.6699e+00\n",
            "  -9.7578e+00 -2.2051e+00]\n",
            " [-1.1289e+01 -4.4336e+00  2.1133e+00  2.3047e+00 -6.0391e+00  1.3262e+00\n",
            "  -7.0586e+00 -3.5332e+00]]\n",
            "[[129.8   107.5   -18.78  -44.3    12.01   15.12  -57.7   -83.06 ]\n",
            " [ -9.1   -12.08   -3.602  17.14   35.34   31.75   10.78   -3.307]\n",
            " [-17.    -19.88  -12.54  -10.89  -17.17  -24.78  -25.3   -15.9  ]\n",
            " [-22.05  -37.34  -39.94  -18.48   13.95   25.36   10.73   -3.088]\n",
            " [-36.78  -38.06   -7.75   16.34   22.5    16.16    8.08    3.012]\n",
            " [-13.555 -10.72   10.02   29.92   33.3    16.4    -5.746 -12.234]\n",
            " [ 20.53   15.64   -0.534  11.59   34.97   28.39   -6.19  -22.34 ]\n",
            " [ 18.66   10.25  -14.88  -14.83    5.01   11.47   -3.312 -12.26 ]]\n",
            "[[ 1.0550e+03  2.1125e+02  1.0361e+00  1.8688e+01  2.0547e+01 -1.1688e+01\n",
            "  -1.5477e+01  2.3859e+01]\n",
            " [-3.5400e+02  1.4638e+02  3.3875e+01  2.8031e+01  3.2438e+01 -1.1453e+01\n",
            "  -1.2898e+01  3.0625e+01]\n",
            " [-9.3000e+01 -2.6625e+01  3.0719e+01  3.0031e+01  1.7875e+01 -6.6523e+00\n",
            "  -5.7461e+00  2.2953e+01]\n",
            " [ 4.7188e+00 -7.8188e+01  2.0219e+01  3.7000e+01  1.4434e+00 -6.2383e+00\n",
            "   5.8359e+00  1.5016e+01]\n",
            " [ 1.8203e+01 -6.4812e+01  5.6484e+00  3.1109e+01 -8.7500e-01 -1.9814e+00\n",
            "   4.8359e+00  7.7812e+00]\n",
            " [-4.2017e-01 -2.3266e+01 -8.3594e+00  1.4492e+01  6.1914e+00  1.1875e+00\n",
            "  -1.8701e+00  2.5059e+00]\n",
            " [-1.9969e+01  6.8281e+00 -9.0078e+00  3.6621e-01  1.0078e+01  2.8214e-02\n",
            "  -3.7480e+00  2.3320e+00]\n",
            " [-1.4117e+01  7.3242e+00 -2.2559e+00 -4.6602e+00  6.5859e+00 -7.7686e-01\n",
            "  -1.2607e+00  2.4082e+00]]\n",
            "[[ 1.1180e+03  2.0750e+02  4.1992e-01  2.0016e+01  2.1062e+01 -1.2969e+01\n",
            "  -1.5734e+01  2.5234e+01]\n",
            " [-3.6950e+02  1.5538e+02  3.3625e+01  2.6703e+01  3.2750e+01 -1.2523e+01\n",
            "  -1.2930e+01  3.2656e+01]\n",
            " [-1.1325e+02 -1.3266e+01  3.0703e+01  2.7250e+01  1.7797e+01 -6.5625e+00\n",
            "  -5.6953e+00  2.3891e+01]\n",
            " [ 3.9199e+00 -7.9062e+01  1.9688e+01  3.6875e+01  1.7832e+00 -5.8125e+00\n",
            "   5.6367e+00  1.4414e+01]\n",
            " [ 1.8531e+01 -6.4688e+01  5.6250e+00  3.1188e+01 -8.7500e-01 -2.0098e+00\n",
            "   4.7930e+00  7.7734e+00]\n",
            " [-3.4424e-01 -2.2734e+01 -8.0000e+00  1.4562e+01  5.9688e+00  8.9062e-01\n",
            "  -1.6865e+00  2.8633e+00]\n",
            " [-1.1867e+01  1.0947e+00 -8.9141e+00  1.5967e+00  1.0086e+01  2.4872e-02\n",
            "  -3.7520e+00  1.8896e+00]\n",
            " [-1.0844e+01  5.5703e+00 -2.1797e+00 -4.4766e+00  6.5781e+00 -5.6396e-01\n",
            "  -1.2139e+00  2.0332e+00]]\n",
            "[[ 1.5    -1.895   1.29   -0.4934 -0.25    0.722  -0.805   0.5156]\n",
            " [ 2.488  -3.182   2.27   -1.061  -0.0804  0.836  -1.026   0.6772]\n",
            " [ 2.828  -3.643   2.686  -1.411   0.1914  0.6426 -0.906   0.6196]\n",
            " [ 2.05   -2.607   1.819  -0.779  -0.199   0.833  -0.9683  0.6284]\n",
            " [ 0.5    -0.562   0.175   0.3196 -0.75    0.9644 -0.8843  0.526 ]\n",
            " [-0.4692  0.652  -0.6143  0.553  -0.4702  0.3696 -0.255   0.1296]\n",
            " [-0.3591  0.4124 -0.1553 -0.1735  0.4617 -0.6104  0.5645 -0.337 ]\n",
            " [ 0.0164 -0.1033  0.3135 -0.573   0.78   -0.842   0.7144 -0.4097]]\n",
            "[[ 8.8850e+02 -1.3388e+02  3.5488e+00  2.7047e+01  3.7695e+00 -1.3312e+01\n",
            "  -5.7969e+00  3.0879e+00]\n",
            " [-2.7500e+02 -1.5675e+02  1.0750e+01  1.8125e+01  6.6260e-01 -1.5070e+01\n",
            "  -4.8828e-01  1.5342e+00]\n",
            " [-4.4625e+01 -2.6234e+01  2.8203e+01 -1.0781e+01  2.7773e+00 -2.5547e+00\n",
            "   1.7676e+00 -2.5156e+00]\n",
            " [ 5.7938e+01  2.8242e+00  3.6250e+01 -1.9656e+01 -6.2500e+00  1.0117e+01\n",
            "   4.3555e+00 -3.6875e+00]\n",
            " [ 6.2188e+01 -1.7047e+01  2.7953e+01 -5.4141e+00 -1.6000e+01  1.5602e+01\n",
            "   5.4414e+00 -7.9248e-01]\n",
            " [ 3.1156e+01 -3.6125e+01  4.5938e+00  1.8438e+01 -2.0203e+01  9.6641e+00\n",
            "   5.3555e+00  4.8633e+00]\n",
            " [ 8.6548e-02 -3.5438e+01 -1.4555e+01  3.4312e+01 -1.7406e+01 -7.6025e-01\n",
            "   5.9766e+00  9.2266e+00]\n",
            " [-7.0195e+00 -1.5617e+01 -1.4531e+01  2.7469e+01 -9.5078e+00 -5.9297e+00\n",
            "   4.7266e+00  7.9141e+00]]\n",
            "[[ 9.6000e+02 -1.4088e+02  5.0898e+00  2.8984e+01  5.9883e+00 -1.5305e+01\n",
            "  -6.7070e+00  2.3848e+00]\n",
            " [-2.9900e+02 -1.6625e+02  1.2250e+01  2.1984e+01  1.3477e+00 -1.6000e+01\n",
            "  -1.8486e+00  8.4473e-02]\n",
            " [-6.2219e+01 -3.6969e+01  2.8547e+01 -5.2109e+00  2.1289e+00 -3.4453e+00\n",
            "   4.1406e-01 -2.5859e+00]\n",
            " [ 5.4750e+01  3.8965e+00  3.6000e+01 -1.9406e+01 -5.3945e+00  1.0133e+01\n",
            "   3.5098e+00 -4.1953e+00]\n",
            " [ 6.2531e+01 -1.6969e+01  2.8016e+01 -5.4258e+00 -1.6000e+01  1.5586e+01\n",
            "   5.4492e+00 -7.9980e-01]\n",
            " [ 3.3188e+01 -3.7062e+01  4.8359e+00  1.8312e+01 -2.0812e+01  9.6562e+00\n",
            "   5.8672e+00  5.2305e+00]\n",
            " [ 7.3477e+00 -3.0969e+01 -1.4555e+01  3.2094e+01 -1.7078e+01 -4.0186e-01\n",
            "   6.5352e+00  9.2656e+00]\n",
            " [-2.0977e+00 -1.3773e+01 -1.4797e+01  2.6688e+01 -9.6172e+00 -5.7305e+00\n",
            "   4.9844e+00  8.2188e+00]]\n",
            "[[ 68.5    -54.75   -15.02    26.31    14.25   -30.27    -1.075   22.83  ]\n",
            " [  5.895   -1.301   -7.023   -0.3289  15.52   -16.61     1.916    7.17  ]\n",
            " [  1.685    6.156  -17.16     9.92     9.61   -17.56     7.73     2.002 ]\n",
            " [-59.5     51.25     5.434  -20.94    -2.24    10.414   11.99   -23.52  ]\n",
            " [-17.5      8.52    15.445  -11.914   -9.75    12.45     8.484  -18.47  ]\n",
            " [-12.74     4.64    15.195  -12.58    -5.363    8.46     7.61   -15.09  ]\n",
            " [ 12.57   -15.35     9.97    -5.297    3.604   -4.086    4.402   -2.97  ]\n",
            " [  3.193   -1.313   -3.203    1.459    4.832   -7.51     4.05    -0.2167]]\n",
            "[[ 1.0340e+03  3.8656e+01 -1.4273e+01 -3.5996e+00 -2.8711e-01 -6.1768e-01\n",
            "   2.6465e+00  8.6670e-01]\n",
            " [ 1.3367e+01 -1.4406e+01 -6.1523e+00 -6.8477e+00  3.0688e-01 -1.7539e+00\n",
            "   3.4824e+00  5.3516e-01]\n",
            " [ 3.5094e+01  3.9469e+01 -5.8359e+00 -1.2549e+00 -4.8359e+00 -5.6250e+00\n",
            "   5.9375e-01  3.6602e+00]\n",
            " [-2.0047e+01  8.0062e+01  1.5148e+01 -6.0273e+00  1.2656e+00 -1.2012e+00\n",
            "  -1.3867e+00  5.3516e-01]\n",
            " [-3.6062e+01  2.0859e+01  3.6500e+01  1.8713e-01  7.7500e+00  4.7383e+00\n",
            "  -2.6738e+00  4.6558e-01]\n",
            " [-1.5227e+01 -3.4062e+01  1.4703e+01  1.4891e+01  4.0195e+00  1.1758e+00\n",
            "   3.1191e+00  1.4922e+00]\n",
            " [-1.7469e+01 -9.3750e+00 -1.9703e+01  1.0742e+00  1.4941e+00  2.3145e+00\n",
            "   1.5859e+00 -1.6861e-02]\n",
            " [-7.6719e+00  1.1094e+00 -1.2195e+01 -1.5008e+01 -1.5540e-01  1.6992e+00\n",
            "   1.7456e-01 -5.2490e-01]]\n",
            "[[ 1.1300e+03  3.6781e+01 -1.4328e+01 -2.8828e+00 -2.1643e-01 -1.0762e+00\n",
            "   2.6758e+00  1.1992e+00]\n",
            " [-1.2979e+00 -1.2445e+01 -5.4492e+00 -7.3398e+00 -1.6736e-01 -1.7529e+00\n",
            "   3.7227e+00  6.9336e-01]\n",
            " [ 2.5766e+01  4.1156e+01 -5.2383e+00 -1.4902e+00 -5.2695e+00 -5.7891e+00\n",
            "   8.4717e-01  3.9199e+00]\n",
            " [-2.4125e+01  8.1250e+01  1.5055e+01 -6.4844e+00  1.4258e+00 -8.0273e-01\n",
            "  -1.5156e+00  1.5771e-01]\n",
            " [-3.5875e+01  2.0953e+01  3.6594e+01  1.6052e-01  7.7500e+00  4.7383e+00\n",
            "  -2.7031e+00  4.8682e-01]\n",
            " [-1.2234e+01 -3.4594e+01  1.4859e+01  1.5109e+01  3.9414e+00  9.1211e-01\n",
            "   3.2109e+00  1.7646e+00]\n",
            " [-1.3516e+01 -1.0016e+01 -1.9906e+01  1.1484e+00  1.6250e+00  2.3906e+00\n",
            "   1.4951e+00 -1.7273e-01]\n",
            " [-4.8242e+00  5.8398e-01 -1.2328e+01 -1.4930e+01 -3.2806e-02  1.6982e+00\n",
            "   9.8816e-02 -5.8203e-01]]\n",
            "[[-0.125     0.1735   -0.1633    0.147    -0.125     0.0982   -0.0676\n",
            "   0.0345  ]\n",
            " [ 0.0982   -0.1362    0.1283   -0.1155    0.0982   -0.07715   0.05316\n",
            "  -0.0271  ]\n",
            " [ 0.0676   -0.0938    0.0884   -0.0795    0.0676   -0.05316   0.03662\n",
            "  -0.01866 ]\n",
            " [-0.1735    0.2405   -0.2266    0.2039   -0.1733    0.1362   -0.0938\n",
            "   0.04782 ]\n",
            " [ 0.125    -0.1733    0.1633   -0.147     0.125    -0.0982    0.0676\n",
            "  -0.0345  ]\n",
            " [ 0.0345   -0.04782   0.04507  -0.04056   0.0345   -0.0271    0.01866\n",
            "  -0.009514]\n",
            " [-0.1633    0.2266   -0.2134    0.192    -0.1633    0.1283   -0.0884\n",
            "   0.04507 ]\n",
            " [ 0.147    -0.2039    0.192    -0.1729    0.147    -0.1155    0.0795\n",
            "  -0.04056 ]]\n",
            "[[ 1.1070e+03  1.5612e+02 -7.7461e+00  1.8422e+01 -3.2469e+01  4.8047e+00\n",
            "   1.3234e+01  1.2881e+00]\n",
            " [ 5.8906e+01 -4.4188e+01 -1.0180e+01  2.0734e+01 -1.3375e+01  1.8297e+01\n",
            "  -1.0391e+01  1.5664e+01]\n",
            " [ 7.5688e+01 -1.4555e+01  9.9766e+00 -1.3562e+01  2.1812e+01 -1.0734e+01\n",
            "   1.9062e+01 -1.6047e+01]\n",
            " [ 2.6125e+01 -3.1078e+01 -8.3984e+00 -6.3047e+00  2.9234e+01 -2.2578e+00\n",
            "  -6.7500e+00 -9.5625e+00]\n",
            " [-6.9188e+01 -6.2461e+00  2.1719e+01 -1.1086e+01 -3.2500e+00  2.4805e+00\n",
            "  -6.3125e+00  1.1812e+01]\n",
            " [ 1.6016e+01  3.3156e+01 -9.3750e+00 -1.7588e+00 -4.7656e+00 -7.6719e+00\n",
            "   1.0602e+01  6.0645e-01]\n",
            " [ 1.3008e+01  3.5656e+01 -1.7594e+01  1.0727e+01 -4.2031e+00  1.1826e+00\n",
            "   6.7969e+00  1.0059e+00]\n",
            " [-2.1641e+01 -7.8594e+00 -1.3953e+01  1.5672e+01 -5.2812e+00  8.0547e+00\n",
            "  -1.6078e+01 -1.2061e+00]]\n",
            "[[ 1.1790e+03  1.5888e+02 -1.0594e+01  1.8203e+01 -3.7031e+01  9.7734e+00\n",
            "   1.1664e+01  4.0312e+00]\n",
            " [ 6.6125e+01 -4.1312e+01 -7.5508e+00  2.3766e+01 -1.2703e+01  1.5273e+01\n",
            "  -1.0773e+01  1.4703e+01]\n",
            " [ 7.1125e+01 -1.6844e+01  8.0703e+00 -1.5789e+01  2.1312e+01 -8.5078e+00\n",
            "   1.9328e+01 -1.5375e+01]\n",
            " [ 2.7938e+01 -2.9844e+01 -7.5430e+00 -5.2383e+00  2.9406e+01 -3.3691e+00\n",
            "  -6.8828e+00 -9.8750e+00]\n",
            " [-6.9312e+01 -6.2383e+00  2.1734e+01 -1.1078e+01 -3.2500e+00  2.4805e+00\n",
            "  -6.2969e+00  1.1797e+01]\n",
            " [ 1.4375e+01  3.2594e+01 -1.0023e+01 -2.4473e+00 -4.9570e+00 -6.9648e+00\n",
            "   1.0680e+01  8.0664e-01]\n",
            " [ 1.5016e+01  3.6438e+01 -1.6906e+01  1.1578e+01 -3.9980e+00  2.3682e-01\n",
            "   6.6992e+00  7.3486e-01]\n",
            " [-2.2953e+01 -8.5234e+00 -1.4430e+01  1.5117e+01 -5.3633e+00  8.6875e+00\n",
            "  -1.6016e+01 -1.0098e+00]]\n",
            "[[ 1.7238e+02 -3.9906e+01 -2.7688e+01  1.1675e+02  3.1328e+00 -2.2156e+01\n",
            "  -6.0625e+01 -8.3750e+01]\n",
            " [ 6.0188e+01  1.4789e+01 -1.4477e+01 -3.2000e+01 -4.9969e+01  3.1672e+01\n",
            "   6.3562e+01  5.9594e+01]\n",
            " [ 6.6289e+00 -7.3398e+00  1.7281e+01  1.7764e+00  1.2922e+01 -1.5531e+01\n",
            "  -7.6938e+01 -1.9203e+01]\n",
            " [-5.7617e+00 -9.0062e+01  4.4180e+00  3.4332e-02  7.3086e+00  5.9668e-01\n",
            "   4.1000e+01  1.4484e+01]\n",
            " [-4.0844e+01 -1.4680e+01  3.5137e+00 -3.7656e+01  1.9375e+01  1.9047e+01\n",
            "   1.9359e+01  1.5438e+01]\n",
            " [-5.2250e+01  4.3398e+00  2.8547e+01  1.3023e+01 -1.0336e+01 -1.7344e+01\n",
            "  -1.2516e+01 -9.2344e+00]\n",
            " [-1.7750e+01 -1.3406e+01  1.9500e+01  7.6172e-01  2.0957e+00  7.0352e+00\n",
            "   4.7803e-01  1.4086e+01]\n",
            " [ 1.7531e+01 -1.9906e+01  2.0000e+00  7.9102e+00 -9.5312e+00 -4.2266e+00\n",
            "  -1.3875e+01 -1.0078e+00]]\n",
            "[[ 9.4450e+02  2.7062e+01  5.5906e+01 -4.2938e+01  6.6523e+00  2.5672e+01\n",
            "   7.1750e+01  9.8750e+01]\n",
            " [ 2.6938e+01  3.6000e+01  4.4492e+00 -7.2969e+00  1.2734e+01 -9.3828e+00\n",
            "  -1.6141e+01 -3.1672e+01]\n",
            " [ 3.2250e+01  3.6188e+01 -6.2539e+00  1.1344e+01 -1.5049e+00 -7.8281e+00\n",
            "  -3.9727e+00 -2.5891e+01]\n",
            " [ 3.1203e+01  3.6844e+01 -6.2305e+00  4.6016e+00  4.8594e+00 -5.4844e+00\n",
            "  -4.0234e+00 -1.0555e+01]\n",
            " [ 3.3531e+01  3.1703e+01 -1.2070e+01  2.9688e+00  4.6250e+00  3.7305e-01\n",
            "  -3.2500e+00 -8.3984e+00]\n",
            " [ 2.6953e+01  2.5719e+01 -1.6344e+01 -1.5137e+00  2.3418e+00  3.4961e+00\n",
            "   2.7285e+00 -6.3867e+00]\n",
            " [ 1.3148e+01  2.1047e+01 -1.6781e+01 -4.0469e+00 -5.8545e-01  3.2441e+00\n",
            "   6.2734e+00 -2.3867e+00]\n",
            " [ 4.7500e+00  1.0711e+01 -1.1586e+01 -1.9141e+00 -7.6758e-01 -4.6216e-01\n",
            "   6.5703e+00  1.3574e+00]]\n",
            "[[ 9.8600e+02  3.4906e+01  4.4562e+01 -2.9938e+01  1.4352e+01  1.5531e+01\n",
            "   6.4938e+01  9.0750e+01]\n",
            " [ 2.9016e+01  3.7438e+01  2.0664e+00 -5.9375e+00  1.3719e+01 -1.0914e+01\n",
            "  -1.6188e+01 -3.0656e+01]\n",
            " [ 2.9703e+01  3.7656e+01 -3.8789e+00  9.3984e+00 -1.6562e+00 -7.3945e+00\n",
            "  -3.6992e+00 -2.6125e+01]\n",
            " [ 3.0766e+01  3.7281e+01 -7.0742e+00  5.0898e+00  5.2148e+00 -5.9648e+00\n",
            "  -4.0352e+00 -1.0141e+01]\n",
            " [ 3.3531e+01  3.1594e+01 -1.2047e+01  3.0273e+00  4.6250e+00  4.1431e-01\n",
            "  -3.2734e+00 -8.3672e+00]\n",
            " [ 2.7172e+01  2.5578e+01 -1.5758e+01 -1.8398e+00  2.0938e+00  3.8438e+00\n",
            "   2.7559e+00 -6.6172e+00]\n",
            " [ 1.4297e+01  2.0391e+01 -1.7656e+01 -3.2070e+00 -5.4639e-01  3.0527e+00\n",
            "   6.1641e+00 -2.3281e+00]\n",
            " [ 4.8125e+00  1.0422e+01 -1.1039e+01 -2.1875e+00 -9.5459e-01 -1.8347e-01\n",
            "   6.5703e+00  1.1768e+00]]\n",
            "[[ 194.1     103.1     -19.75   -133.9      15.625    20.69     -1.68\n",
            "    14.805 ]\n",
            " [  -9.836   -17.33     40.28     26.77     -0.577   -11.336     4.07\n",
            "     0.7036]\n",
            " [  17.47      0.856     6.395    12.89     19.6      32.84     18.97\n",
            "     3.852 ]\n",
            " [  36.28     11.89    -10.44      1.254     6.953     3.492    -4.535\n",
            "     3.943 ]\n",
            " [  -9.39    -10.42     16.34     20.42     10.125    16.94      7.16\n",
            "    -6.867 ]\n",
            " [  -3.252   -13.195     0.2295   11.09      8.1      -7.305   -13.69\n",
            "     2.863 ]\n",
            " [  -2.746    -9.87     -5.02      2.916     1.237    10.9       2.346\n",
            "    -4.145 ]\n",
            " [  -4.703   -11.16     -4.83      3.361     4.605     3.037     1.592\n",
            "     8.42  ]]\n",
            "[[686.5   -70.7    25.61  185.1   -83.44   43.34  -32.22   -2.953]\n",
            " [ 29.03   29.48  -15.47  -20.77    6.426  10.875   2.146  11.08 ]\n",
            " [  9.695  26.34   12.07   -3.695  -8.09  -22.6   -13.336  -3.223]\n",
            " [  5.39   21.61    9.35   -8.77   -4.676  -3.484  -4.277  -6.73 ]\n",
            " [ 20.8    20.58  -12.125 -21.62   -7.75   -3.453   5.293  12.65 ]\n",
            " [  6.082   3.1   -10.42  -13.38   -7.7    12.84   21.84    5.48 ]\n",
            " [ -9.85   -3.74    5.918   4.555  -3.156  -4.562   2.17    8.01 ]\n",
            " [-12.33   -8.336   4.625   3.697  -3.309  -2.05   -3.238  -9.65 ]]\n",
            "[[682.    -85.6    62.62  174.2   -71.56   28.72  -19.97  -12.08 ]\n",
            " [ 29.25   27.19  -16.27  -21.75    5.14   10.24    1.807  10.6  ]\n",
            " [  9.195  28.03   12.664  -3.012  -7.156 -22.17  -13.09   -2.885]\n",
            " [  5.457  20.66    9.03   -9.1    -5.086  -3.688  -4.395  -6.9  ]\n",
            " [ 20.72   20.62  -12.11  -21.55   -7.75   -3.44    5.31   12.65 ]\n",
            " [  6.043   3.611 -10.164 -13.195  -7.375  13.016  21.88    5.57 ]\n",
            " [ -9.945  -4.516   5.664   4.246  -3.531  -4.77    2.084   7.84 ]\n",
            " [-12.305  -7.797   4.812   3.936  -3.045  -1.936  -3.193  -9.56 ]]\n",
            "[[-0.125     0.1735   -0.1633    0.147    -0.125     0.0982   -0.0676\n",
            "   0.0345  ]\n",
            " [ 0.0982   -0.1362    0.1283   -0.1155    0.0982   -0.07715   0.05316\n",
            "  -0.0271  ]\n",
            " [ 0.0676   -0.0938    0.0884   -0.0795    0.0676   -0.05316   0.03662\n",
            "  -0.01866 ]\n",
            " [-0.1735    0.2405   -0.2266    0.2039   -0.1733    0.1362   -0.0938\n",
            "   0.04782 ]\n",
            " [ 0.125    -0.1733    0.1633   -0.147     0.125    -0.0982    0.0676\n",
            "  -0.0345  ]\n",
            " [ 0.0345   -0.04782   0.04507  -0.04056   0.0345   -0.0271    0.01866\n",
            "  -0.009514]\n",
            " [-0.1633    0.2266   -0.2134    0.192    -0.1633    0.1283   -0.0884\n",
            "   0.04507 ]\n",
            " [ 0.147    -0.2039    0.192    -0.1729    0.147    -0.1155    0.0795\n",
            "  -0.04056 ]]\n",
            "[[ 1.0340e+03  1.0606e+02 -6.4438e+01  3.7875e+01  3.6499e-02  8.7988e-01\n",
            "  -2.7422e+01 -4.5469e+01]\n",
            " [-1.8188e+02 -6.6846e-01  1.4175e+02 -7.4938e+01  4.7438e+01  4.8219e+01\n",
            "   5.2531e+01 -1.0453e+01]\n",
            " [ 5.5156e+01  3.7500e+01 -7.0750e+01 -1.6953e+01 -4.6969e+01  4.0250e+01\n",
            "   8.0750e+01  8.0625e+01]\n",
            " [ 2.6578e+01  4.8750e+01 -6.0938e+01 -2.8703e+01  5.5344e+01 -5.8219e+01\n",
            "   2.8594e+01 -9.5156e+00]\n",
            " [-2.4172e+01 -1.7594e+01  8.3750e+01  2.3172e+01 -1.9000e+01  1.7422e+01\n",
            "  -7.9688e+01 -7.1484e+00]\n",
            " [ 3.4906e+01 -2.5527e+00  9.6484e+00  1.9359e+01 -8.4219e+00 -2.9016e+01\n",
            "   9.4531e+00 -2.2031e+01]\n",
            " [ 4.0156e+00 -7.2812e+00 -1.2172e+01 -2.6680e+00 -3.2617e-01 -5.5859e+00\n",
            "  -1.3301e+00  3.5000e+01]\n",
            " [-1.5047e+01  1.1672e+01 -5.8477e+00  3.8094e+01  1.1734e+01  5.5352e+00\n",
            "   7.9395e-01  1.0137e+00]]\n",
            "[[ 1.0660e+03  9.7312e+01 -5.4062e+01  2.9625e+01 -9.8877e-01  3.3945e+00\n",
            "  -2.9609e+01 -4.3188e+01]\n",
            " [-1.8175e+02 -4.1875e+00  1.3100e+02 -7.8750e+01  4.6812e+01  4.8094e+01\n",
            "   5.1906e+01 -9.9453e+00]\n",
            " [ 5.7156e+01  4.1250e+01 -7.4625e+01 -1.2734e+01 -4.7875e+01  4.0125e+01\n",
            "   7.9625e+01  8.1438e+01]\n",
            " [ 2.9562e+01  5.1219e+01 -5.9062e+01 -2.5906e+01  5.5094e+01 -5.9312e+01\n",
            "   2.8219e+01 -9.9688e+00]\n",
            " [-2.4109e+01 -1.7594e+01  8.3875e+01  2.3109e+01 -1.9000e+01  1.7391e+01\n",
            "  -7.9750e+01 -7.2031e+00]\n",
            " [ 3.3500e+01 -4.2930e+00  8.5625e+00  1.7438e+01 -8.2188e+00 -2.8312e+01\n",
            "   9.5859e+00 -2.1719e+01]\n",
            " [ 3.1953e+00 -8.8359e+00 -1.0555e+01 -4.3750e+00  1.0443e-01 -5.5039e+00\n",
            "  -7.8711e-01  3.4688e+01]\n",
            " [-1.5312e+01  1.2398e+01 -3.7129e+00  3.8844e+01  1.1867e+01  5.5547e+00\n",
            "   8.6963e-01  9.3018e-01]]\n",
            "[[ 1.7238e+02 -3.9906e+01 -2.7688e+01  1.1675e+02  3.1328e+00 -2.2156e+01\n",
            "  -6.0625e+01 -8.3750e+01]\n",
            " [ 6.0188e+01  1.4789e+01 -1.4477e+01 -3.2000e+01 -4.9969e+01  3.1672e+01\n",
            "   6.3562e+01  5.9594e+01]\n",
            " [ 6.6289e+00 -7.3398e+00  1.7281e+01  1.7764e+00  1.2922e+01 -1.5531e+01\n",
            "  -7.6938e+01 -1.9203e+01]\n",
            " [-5.7617e+00 -9.0062e+01  4.4180e+00  3.4332e-02  7.3086e+00  5.9668e-01\n",
            "   4.1000e+01  1.4484e+01]\n",
            " [-4.0844e+01 -1.4680e+01  3.5137e+00 -3.7656e+01  1.9375e+01  1.9047e+01\n",
            "   1.9359e+01  1.5438e+01]\n",
            " [-5.2250e+01  4.3398e+00  2.8547e+01  1.3023e+01 -1.0336e+01 -1.7344e+01\n",
            "  -1.2516e+01 -9.2344e+00]\n",
            " [-1.7750e+01 -1.3406e+01  1.9500e+01  7.6172e-01  2.0957e+00  7.0352e+00\n",
            "   4.7803e-01  1.4086e+01]\n",
            " [ 1.7531e+01 -1.9906e+01  2.0000e+00  7.9102e+00 -9.5312e+00 -4.2266e+00\n",
            "  -1.3875e+01 -1.0078e+00]]\n",
            "[[ 9.2000e+02 -1.2672e+01  6.9219e+00 -1.9484e+01 -2.7203e+01  2.7172e+01\n",
            "   1.7422e+01  3.4750e+01]\n",
            " [ 2.7266e+01  2.4594e+01  4.4219e+01 -1.0453e+01  1.4703e+01  1.1172e+00\n",
            "   3.1953e+01  3.6562e+01]\n",
            " [ 4.3242e+00 -2.6281e+01 -2.1547e+01 -9.3750e+00 -2.8496e+00  3.9395e+00\n",
            "  -1.0945e+01  5.7438e+01]\n",
            " [-7.9000e+01  2.3953e+01  8.7549e-01  1.3781e+01  3.1578e+01 -2.0203e+01\n",
            "  -1.5645e+00  2.2266e+01]\n",
            " [-2.7156e+01  1.5141e+01 -2.2547e+01  1.1260e+00  4.5000e+00 -1.0117e+01\n",
            "   4.4570e+00 -1.0203e+01]\n",
            " [ 7.6750e+01  5.8594e-01  1.1766e+01 -4.0967e-01 -1.4812e+01  1.3945e+01\n",
            "  -5.1797e+00 -1.6094e+01]\n",
            " [ 4.4375e+01 -2.0625e+01  8.8359e+00 -2.6191e+00 -7.4297e+00  4.7422e+00\n",
            "   2.8223e+00 -1.0500e+01]\n",
            " [-2.4656e+01 -2.3297e+01  2.3008e+00 -1.7490e+00  2.0410e+00  7.1484e-01\n",
            "   5.6133e+00  2.8047e+00]]\n",
            "[[ 9.7800e+02 -7.1797e+00  9.0625e+00 -2.0984e+01 -2.6016e+01  2.7781e+01\n",
            "   1.6781e+01  3.3594e+01]\n",
            " [ 1.2453e+01  1.3641e+01  4.5000e+01 -8.7969e+00  1.5633e+01  3.7480e+00\n",
            "   3.3250e+01  3.5719e+01]\n",
            " [-1.2930e+01 -3.3062e+01 -2.2453e+01 -6.8945e-01 -4.4297e+00  5.3789e+00\n",
            "  -1.1320e+01  5.7031e+01]\n",
            " [-7.8938e+01  2.3141e+01 -5.3320e-01  1.3492e+01  3.1984e+01 -2.0984e+01\n",
            "  -1.8086e+00  2.3562e+01]\n",
            " [-2.7062e+01  1.5008e+01 -2.2531e+01  1.0850e+00  4.5000e+00 -1.0141e+01\n",
            "   4.4531e+00 -1.0188e+01]\n",
            " [ 7.6438e+01  9.6680e-01  1.2805e+01 -2.7588e-01 -1.5023e+01  1.4453e+01\n",
            "  -5.0312e+00 -1.6953e+01]\n",
            " [ 5.1406e+01 -1.7922e+01  9.1953e+00 -6.2070e+00 -6.7852e+00  4.1719e+00\n",
            "   2.9766e+00 -1.0320e+01]\n",
            " [-2.1891e+01 -2.1219e+01  2.1113e+00 -2.1367e+00  1.8291e+00  2.1960e-01\n",
            "   5.3477e+00  2.9180e+00]]\n",
            "[[ 194.1     103.1     -19.75   -133.9      15.625    20.69     -1.68\n",
            "    14.805 ]\n",
            " [  -9.836   -17.33     40.28     26.77     -0.577   -11.336     4.07\n",
            "     0.7036]\n",
            " [  17.47      0.856     6.395    12.89     19.6      32.84     18.97\n",
            "     3.852 ]\n",
            " [  36.28     11.89    -10.44      1.254     6.953     3.492    -4.535\n",
            "     3.943 ]\n",
            " [  -9.39    -10.42     16.34     20.42     10.125    16.94      7.16\n",
            "    -6.867 ]\n",
            " [  -3.252   -13.195     0.2295   11.09      8.1      -7.305   -13.69\n",
            "     2.863 ]\n",
            " [  -2.746    -9.87     -5.02      2.916     1.237    10.9       2.346\n",
            "    -4.145 ]\n",
            " [  -4.703   -11.16     -4.83      3.361     4.605     3.037     1.592\n",
            "     8.42  ]]\n",
            "[[ 7.6850e+02 -3.4656e+01  9.0781e+00  9.3750e+01  1.2109e+01 -1.5094e+01\n",
            "   8.5469e+00  2.4609e+01]\n",
            " [ 3.9473e+00 -7.9375e+01  6.5703e+00  8.0375e+01  6.0645e-01 -9.9297e+00\n",
            "   1.5727e+01  1.6141e+01]\n",
            " [-4.3781e+01  1.3602e+01 -2.5250e+01  7.9336e+00 -1.6141e+01 -1.7203e+01\n",
            "   3.9805e+00  8.3516e+00]\n",
            " [-3.2781e+01  1.5305e+01 -4.9344e+01 -1.8688e+01 -4.2578e+00 -1.3281e+01\n",
            "  -9.6953e+00  3.7070e+00]\n",
            " [-8.6500e+01  4.8312e+01 -2.4078e+01 -3.6133e+00  9.3750e+00 -6.5078e+00\n",
            "  -8.2578e+00  1.0879e+00]\n",
            " [ 4.2688e+01 -7.4414e-01  7.0781e+00  2.6672e+01  1.9062e+01  3.0469e+00\n",
            "  -3.6211e+00 -4.4570e+00]\n",
            " [ 5.6750e+01 -1.3117e+01  3.3062e+01  2.5172e+01  1.1768e+00  3.4922e+00\n",
            "   4.9609e+00 -6.9531e+00]\n",
            " [ 4.7688e+01 -3.7969e+01  2.5062e+01  9.7109e+00 -6.4922e+00  4.6484e+00\n",
            "   3.5508e+00 -5.5547e+00]]\n",
            "[[ 8.3150e+02 -3.3531e+01  2.2016e+01  1.0162e+02  1.1367e+01 -1.6641e+01\n",
            "   6.6953e+00  2.1031e+01]\n",
            " [-1.3203e+01 -8.9438e+01  2.0766e+01  9.2000e+01  4.5996e-01 -1.0211e+01\n",
            "   1.6422e+01  1.3961e+01]\n",
            " [-7.4312e+01  1.5961e+01 -2.2344e+01  1.0305e+01 -1.3617e+01 -1.4219e+01\n",
            "   5.5117e+00  8.0703e+00]\n",
            " [-3.2219e+01  1.4828e+01 -4.9688e+01 -1.8594e+01 -3.9941e+00 -1.2977e+01\n",
            "  -9.7109e+00  3.4707e+00]\n",
            " [-8.6000e+01  4.8312e+01 -2.4141e+01 -3.5840e+00  9.3750e+00 -6.4961e+00\n",
            "  -8.2500e+00  1.0986e+00]\n",
            " [ 4.2250e+01 -4.5703e-01  7.2734e+00  2.6578e+01  1.8891e+01  2.7949e+00\n",
            "  -3.6094e+00 -4.3125e+00]\n",
            " [ 6.9438e+01 -1.3867e+01  3.1734e+01  2.4141e+01  9.3933e-02  2.1953e+00\n",
            "   4.3203e+00 -6.8398e+00]\n",
            " [ 5.1250e+01 -3.5688e+01  2.2234e+01  7.3242e+00 -6.4805e+00  4.7031e+00\n",
            "   3.4141e+00 -5.0977e+00]]\n",
            "[[ 22.12   39.56   44.78   23.27   -6.15   -5.85   20.25   28.28 ]\n",
            " [ 86.94   62.62  -40.06  -64.8   -17.53    1.404 -36.1   -51.5  ]\n",
            " [ -1.378   6.035  23.89   33.75   15.71  -28.66  -65.4   -55.56 ]\n",
            " [-23.62  -22.23   -1.708   7.75    5.527   6.184  12.95   12.91 ]\n",
            " [-17.11  -28.72  -32.53  -20.84    4.125  24.56   27.67   16.47 ]\n",
            " [  8.13    6.477  -1.728  -2.283   5.152  11.19   10.      4.746]\n",
            " [ 21.83   22.17    8.195   5.883  10.14    3.826 -11.64  -15.55 ]\n",
            " [ -0.67   -6.98  -17.02  -17.89   -8.02    2.283   5.29    3.   ]]\n",
            "[[ 8.3900e+02 -1.4000e+01  1.3445e+01  7.1125e+01 -9.8359e+00  7.5188e+01\n",
            "   3.7312e+01  8.5375e+01]\n",
            " [ 2.3525e+02 -1.0081e+02 -2.1266e+01  2.0422e+01 -8.7000e+01 -2.7547e+01\n",
            "   1.4424e+00  9.5703e+00]\n",
            " [ 6.7188e+00  8.2812e+01 -3.8250e+01  3.9531e+01  6.5312e+01 -3.7500e+01\n",
            "   2.6641e+01  5.0219e+01]\n",
            " [ 2.5766e+01  7.8875e+01  5.6625e+01 -3.3688e+01 -5.4648e+00 -3.5562e+01\n",
            "  -1.6797e+01  7.4297e+00]\n",
            " [ 6.1875e+00 -1.7266e+01  4.3188e+01 -1.9266e+01 -4.5875e+01 -4.1758e+00\n",
            "  -2.5391e+01 -7.2500e+00]\n",
            " [ 9.5469e+00  3.7531e+01 -7.4023e+00 -1.4297e+01 -5.2156e+01 -1.1695e+01\n",
            "  -9.1094e+00  2.4891e+01]\n",
            " [-1.0156e+01  1.8994e+00  2.1602e+00 -1.9219e+01 -3.8062e+01 -3.2844e+01\n",
            "   1.1453e+01  2.1438e+01]\n",
            " [-1.7672e+01 -1.7328e+01  1.5303e+00  1.4148e+01 -1.3477e+01 -8.8916e-01\n",
            "   7.6016e+00 -2.1411e-01]]\n",
            "[[ 8.6800e+02 -1.2992e+01  1.6359e+01  7.0812e+01 -9.7891e+00  7.6188e+01\n",
            "   3.7812e+01  8.6438e+01]\n",
            " [ 2.3512e+02 -1.0612e+02 -2.0047e+01  2.0828e+01 -8.5188e+01 -2.5719e+01\n",
            "   9.3408e-01  9.6641e+00]\n",
            " [ 1.0625e+01  8.3750e+01 -3.5562e+01  3.9250e+01  6.5188e+01 -3.6625e+01\n",
            "   2.7047e+01  5.1375e+01]\n",
            " [ 2.5281e+01  7.7250e+01  5.6938e+01 -3.3531e+01 -4.8203e+00 -3.4750e+01\n",
            "  -1.6984e+01  7.5195e+00]\n",
            " [ 6.0273e+00 -1.7406e+01  4.3281e+01 -1.9328e+01 -4.5875e+01 -4.1953e+00\n",
            "  -2.5359e+01 -7.2344e+00]\n",
            " [ 9.6641e+00  3.8719e+01 -7.6836e+00 -1.4359e+01 -5.2656e+01 -1.2117e+01\n",
            "  -8.9922e+00  2.4812e+01]\n",
            " [-1.1555e+01  1.6377e+00  1.0752e+00 -1.9016e+01 -3.8000e+01 -3.3312e+01\n",
            "   1.1305e+01  2.0906e+01]\n",
            " [-1.7469e+01 -1.6328e+01  1.2012e+00  1.4062e+01 -1.3734e+01 -1.2578e+00\n",
            "   7.7344e+00 -2.7148e-01]]\n",
            "[[ 57.      59.25     9.57    -1.107   19.77     5.38   -18.03   -34.9   ]\n",
            " [-21.7    -23.77   -19.92    -5.29    11.6     -6.66   -16.12   -25.9   ]\n",
            " [ 22.69    32.25    33.03    25.28    18.48    -3.695  -11.78   -15.55  ]\n",
            " [  1.58    -1.891   -0.9043  -1.908    3.072   -0.4697  -0.853   -2.682 ]\n",
            " [-26.05   -25.27    -6.65     5.098    4.25     2.473    5.465    5.715 ]\n",
            " [-33.06   -33.62   -16.4     -3.893   -3.188    0.7866   8.15     8.945 ]\n",
            " [ -3.996   -0.6396   6.465    4.56    -3.05    -3.31     4.734    8.06  ]\n",
            " [ 16.92    18.16    10.13     5.83     4.71     0.507   -7.6     -8.11  ]]\n",
            "[[ 7.5250e+02 -9.3688e+01 -8.2688e+01  9.9688e+01  4.1172e+00 -4.3000e+01\n",
            "   2.8719e+01  8.8281e+00]\n",
            " [ 5.3344e+01  2.3412e+02 -6.0031e+01 -3.1281e+01 -8.3047e+00  2.4703e+01\n",
            "   3.3531e+01 -4.2375e+01]\n",
            " [-2.5391e+01 -3.5562e+01 -3.6133e-01  2.1766e+01 -1.3695e+01 -2.2391e+01\n",
            "   5.5938e+00  2.7812e+01]\n",
            " [-2.4422e+01 -3.4312e+01  2.0578e+01 -2.4938e+01  2.0875e+01  2.8844e+01\n",
            "  -1.5352e+01 -4.3320e+00]\n",
            " [ 1.5852e+01 -6.5125e+01  3.4746e+00 -1.0883e+01  1.0375e+01  1.5070e+01\n",
            "  -1.2156e+01  4.5430e+00]\n",
            " [ 2.1000e+01  3.5781e+01  2.4746e+00 -3.7930e+00 -1.0102e+01 -3.9238e+00\n",
            "   9.4844e+00  1.1359e+01]\n",
            " [ 1.9172e+01 -1.6156e+01 -1.4953e+01  1.4273e+01  1.1734e+01  9.5625e+00\n",
            "   1.3180e+01 -7.2188e+00]\n",
            " [-2.1250e+01 -4.9906e+01 -2.8000e+01  5.0469e+00  3.1973e+00 -2.3535e+00\n",
            "   5.8281e+00 -2.6992e+00]]\n",
            "[[ 7.6850e+02 -9.1375e+01 -8.2812e+01  9.9500e+01  3.1680e+00 -4.0500e+01\n",
            "   2.8219e+01  6.4258e+00]\n",
            " [ 5.8469e+01  2.4062e+02 -5.9219e+01 -3.4125e+01 -7.2773e+00  2.3422e+01\n",
            "   3.4375e+01 -4.0875e+01]\n",
            " [-1.2250e+01 -4.0500e+01  7.4756e-01  2.4594e+01 -1.5516e+01 -2.2766e+01\n",
            "   5.6406e+00  2.8312e+01]\n",
            " [-2.1672e+01 -3.1859e+01  2.0031e+01 -2.6391e+01  2.1875e+01  2.9141e+01\n",
            "  -1.5438e+01 -4.6719e+00]\n",
            " [ 1.5789e+01 -6.5000e+01  3.4805e+00 -1.0906e+01  1.0375e+01  1.5102e+01\n",
            "  -1.2141e+01  4.5547e+00]\n",
            " [ 1.9297e+01  3.4125e+01  2.8867e+00 -2.8516e+00 -1.0766e+01 -4.1289e+00\n",
            "   9.5156e+00  1.1555e+01]\n",
            " [ 1.3516e+01 -1.4180e+01 -1.5375e+01  1.3078e+01  1.2516e+01  9.7188e+00\n",
            "   1.3133e+01 -7.3750e+00]\n",
            " [-2.2312e+01 -5.1250e+01 -2.8094e+01  5.5898e+00  2.9844e+00 -2.0488e+00\n",
            "   5.6719e+00 -3.0195e+00]]\n",
            "[[ 110.4    -101.4       9.664    13.09     26.84    -36.06     -9.\n",
            "    35.12  ]\n",
            " [  -0.9766   -7.188    22.8     -23.        6.72     11.62    -16.81\n",
            "    10.62  ]\n",
            " [  46.66    -50.28     21.58     -6.2      10.      -13.695     8.07\n",
            "    -0.733 ]\n",
            " [  44.56    -49.88     20.6       7.16    -17.27     10.94      0.6807\n",
            "    -4.695 ]\n",
            " [  10.875   -15.336    11.98     -0.2183   -9.625     6.69      5.727\n",
            "    -9.87  ]\n",
            " [ -13.445    12.27      1.027    -6.547     3.389     0.4558    0.653\n",
            "    -1.957 ]\n",
            " [ -20.81     24.48    -11.45     -1.599     6.816    -1.366    -6.87\n",
            "     7.938 ]\n",
            " [ -38.       40.2     -12.51     -5.06      4.98      1.907    -4.11\n",
            "     2.084 ]]\n",
            "[[ 7.2450e+02 -2.4734e+01  1.5414e+01  3.0996e+00 -1.9094e+01  3.8125e+00\n",
            "   1.6006e+00 -6.6719e+00]\n",
            " [-2.2838e+02 -6.1938e+01  2.1938e+01 -5.8359e+00 -2.4688e+01  1.1172e+01\n",
            "   2.5762e+00 -1.1104e+00]\n",
            " [-5.7156e+01 -2.0828e+01  3.4344e+01 -7.8828e+00 -1.3828e+01  1.0516e+01\n",
            "  -5.1445e+00  5.3828e+00]\n",
            " [ 3.9656e+01  9.9609e+00  1.1344e+01 -8.1250e+00  6.7891e+00  6.4883e+00\n",
            "  -8.6406e+00  1.1461e+01]\n",
            " [ 4.8344e+01  3.4094e+01 -6.7285e-01 -5.3984e+00  1.3625e+01 -3.1074e+00\n",
            "  -6.6172e+00  1.1203e+01]\n",
            " [-1.0516e+01  1.9938e+01 -2.4094e+01 -7.1602e+00  4.9297e+00 -5.8086e+00\n",
            "  -4.1484e+00  7.8555e+00]\n",
            " [-2.5891e+01  9.0234e+00  2.8535e+00  1.5527e+00 -2.5234e+00 -5.2344e-01\n",
            "  -9.2109e+00 -2.1973e+00]\n",
            " [-1.1648e+01 -3.7617e+00  2.0566e+00  1.9092e+00 -6.0273e+00  1.8359e+00\n",
            "  -6.7383e+00 -3.4922e+00]]\n",
            "[[ 7.0200e+02 -1.8828e+01  1.8484e+01  5.3789e+00 -1.4938e+01  9.1172e+00\n",
            "   4.3906e+00 -6.6523e+00]\n",
            " [-2.3075e+02 -5.8469e+01  2.1375e+01 -7.8047e+00 -2.4453e+01  1.3602e+01\n",
            "   4.3438e+00 -9.4336e-01]\n",
            " [-4.3906e+01 -1.5586e+01  3.4344e+01 -8.9766e+00 -1.2289e+01  1.3273e+01\n",
            "  -3.8242e+00  5.3828e+00]\n",
            " [ 3.7125e+01  1.1680e+01  1.0789e+01 -8.4688e+00  7.8086e+00  7.5273e+00\n",
            "  -8.2188e+00  1.1641e+01]\n",
            " [ 4.8406e+01  3.4031e+01 -6.9531e-01 -5.3711e+00  1.3625e+01 -3.0957e+00\n",
            "  -6.5898e+00  1.1203e+01]\n",
            " [-8.7891e+00  1.8750e+01 -2.3688e+01 -6.9023e+00  4.2266e+00 -6.5508e+00\n",
            "  -4.4492e+00  7.7539e+00]\n",
            " [-3.1484e+01  6.9609e+00  2.9258e+00  1.9912e+00 -3.1680e+00 -1.6699e+00\n",
            "  -9.7578e+00 -2.2051e+00]\n",
            " [-1.1289e+01 -4.4336e+00  2.1133e+00  2.3047e+00 -6.0391e+00  1.3262e+00\n",
            "  -7.0586e+00 -3.5332e+00]]\n",
            "[[129.8   107.5   -18.78  -44.3    12.01   15.12  -57.7   -83.06 ]\n",
            " [ -9.1   -12.08   -3.602  17.14   35.34   31.75   10.78   -3.307]\n",
            " [-17.    -19.88  -12.54  -10.89  -17.17  -24.78  -25.3   -15.9  ]\n",
            " [-22.05  -37.34  -39.94  -18.48   13.95   25.36   10.73   -3.088]\n",
            " [-36.78  -38.06   -7.75   16.34   22.5    16.16    8.08    3.012]\n",
            " [-13.555 -10.72   10.02   29.92   33.3    16.4    -5.746 -12.234]\n",
            " [ 20.53   15.64   -0.534  11.59   34.97   28.39   -6.19  -22.34 ]\n",
            " [ 18.66   10.25  -14.88  -14.83    5.01   11.47   -3.312 -12.26 ]]\n",
            "[[ 1.0550e+03  2.1125e+02  1.0361e+00  1.8688e+01  2.0547e+01 -1.1688e+01\n",
            "  -1.5477e+01  2.3859e+01]\n",
            " [-3.5400e+02  1.4638e+02  3.3875e+01  2.8031e+01  3.2438e+01 -1.1453e+01\n",
            "  -1.2898e+01  3.0625e+01]\n",
            " [-9.3000e+01 -2.6625e+01  3.0719e+01  3.0031e+01  1.7875e+01 -6.6523e+00\n",
            "  -5.7461e+00  2.2953e+01]\n",
            " [ 4.7188e+00 -7.8188e+01  2.0219e+01  3.7000e+01  1.4434e+00 -6.2383e+00\n",
            "   5.8359e+00  1.5016e+01]\n",
            " [ 1.8203e+01 -6.4812e+01  5.6484e+00  3.1109e+01 -8.7500e-01 -1.9814e+00\n",
            "   4.8359e+00  7.7812e+00]\n",
            " [-4.2017e-01 -2.3266e+01 -8.3594e+00  1.4492e+01  6.1914e+00  1.1875e+00\n",
            "  -1.8701e+00  2.5059e+00]\n",
            " [-1.9969e+01  6.8281e+00 -9.0078e+00  3.6621e-01  1.0078e+01  2.8214e-02\n",
            "  -3.7480e+00  2.3320e+00]\n",
            " [-1.4117e+01  7.3242e+00 -2.2559e+00 -4.6602e+00  6.5859e+00 -7.7686e-01\n",
            "  -1.2607e+00  2.4082e+00]]\n",
            "[[ 1.1180e+03  2.0750e+02  4.1992e-01  2.0016e+01  2.1062e+01 -1.2969e+01\n",
            "  -1.5734e+01  2.5234e+01]\n",
            " [-3.6950e+02  1.5538e+02  3.3625e+01  2.6703e+01  3.2750e+01 -1.2523e+01\n",
            "  -1.2930e+01  3.2656e+01]\n",
            " [-1.1325e+02 -1.3266e+01  3.0703e+01  2.7250e+01  1.7797e+01 -6.5625e+00\n",
            "  -5.6953e+00  2.3891e+01]\n",
            " [ 3.9199e+00 -7.9062e+01  1.9688e+01  3.6875e+01  1.7832e+00 -5.8125e+00\n",
            "   5.6367e+00  1.4414e+01]\n",
            " [ 1.8531e+01 -6.4688e+01  5.6250e+00  3.1188e+01 -8.7500e-01 -2.0098e+00\n",
            "   4.7930e+00  7.7734e+00]\n",
            " [-3.4424e-01 -2.2734e+01 -8.0000e+00  1.4562e+01  5.9688e+00  8.9062e-01\n",
            "  -1.6865e+00  2.8633e+00]\n",
            " [-1.1867e+01  1.0947e+00 -8.9141e+00  1.5967e+00  1.0086e+01  2.4872e-02\n",
            "  -3.7520e+00  1.8896e+00]\n",
            " [-1.0844e+01  5.5703e+00 -2.1797e+00 -4.4766e+00  6.5781e+00 -5.6396e-01\n",
            "  -1.2139e+00  2.0332e+00]]\n",
            "[[ 1.5    -1.895   1.29   -0.4934 -0.25    0.722  -0.805   0.5156]\n",
            " [ 2.488  -3.182   2.27   -1.061  -0.0804  0.836  -1.026   0.6772]\n",
            " [ 2.828  -3.643   2.686  -1.411   0.1914  0.6426 -0.906   0.6196]\n",
            " [ 2.05   -2.607   1.819  -0.779  -0.199   0.833  -0.9683  0.6284]\n",
            " [ 0.5    -0.562   0.175   0.3196 -0.75    0.9644 -0.8843  0.526 ]\n",
            " [-0.4692  0.652  -0.6143  0.553  -0.4702  0.3696 -0.255   0.1296]\n",
            " [-0.3591  0.4124 -0.1553 -0.1735  0.4617 -0.6104  0.5645 -0.337 ]\n",
            " [ 0.0164 -0.1033  0.3135 -0.573   0.78   -0.842   0.7144 -0.4097]]\n",
            "[[ 8.8850e+02 -1.3388e+02  3.5488e+00  2.7047e+01  3.7695e+00 -1.3312e+01\n",
            "  -5.7969e+00  3.0879e+00]\n",
            " [-2.7500e+02 -1.5675e+02  1.0750e+01  1.8125e+01  6.6260e-01 -1.5070e+01\n",
            "  -4.8828e-01  1.5342e+00]\n",
            " [-4.4625e+01 -2.6234e+01  2.8203e+01 -1.0781e+01  2.7773e+00 -2.5547e+00\n",
            "   1.7676e+00 -2.5156e+00]\n",
            " [ 5.7938e+01  2.8242e+00  3.6250e+01 -1.9656e+01 -6.2500e+00  1.0117e+01\n",
            "   4.3555e+00 -3.6875e+00]\n",
            " [ 6.2188e+01 -1.7047e+01  2.7953e+01 -5.4141e+00 -1.6000e+01  1.5602e+01\n",
            "   5.4414e+00 -7.9248e-01]\n",
            " [ 3.1156e+01 -3.6125e+01  4.5938e+00  1.8438e+01 -2.0203e+01  9.6641e+00\n",
            "   5.3555e+00  4.8633e+00]\n",
            " [ 8.6548e-02 -3.5438e+01 -1.4555e+01  3.4312e+01 -1.7406e+01 -7.6025e-01\n",
            "   5.9766e+00  9.2266e+00]\n",
            " [-7.0195e+00 -1.5617e+01 -1.4531e+01  2.7469e+01 -9.5078e+00 -5.9297e+00\n",
            "   4.7266e+00  7.9141e+00]]\n",
            "[[ 9.6000e+02 -1.4088e+02  5.0898e+00  2.8984e+01  5.9883e+00 -1.5305e+01\n",
            "  -6.7070e+00  2.3848e+00]\n",
            " [-2.9900e+02 -1.6625e+02  1.2250e+01  2.1984e+01  1.3477e+00 -1.6000e+01\n",
            "  -1.8486e+00  8.4473e-02]\n",
            " [-6.2219e+01 -3.6969e+01  2.8547e+01 -5.2109e+00  2.1289e+00 -3.4453e+00\n",
            "   4.1406e-01 -2.5859e+00]\n",
            " [ 5.4750e+01  3.8965e+00  3.6000e+01 -1.9406e+01 -5.3945e+00  1.0133e+01\n",
            "   3.5098e+00 -4.1953e+00]\n",
            " [ 6.2531e+01 -1.6969e+01  2.8016e+01 -5.4258e+00 -1.6000e+01  1.5586e+01\n",
            "   5.4492e+00 -7.9980e-01]\n",
            " [ 3.3188e+01 -3.7062e+01  4.8359e+00  1.8312e+01 -2.0812e+01  9.6562e+00\n",
            "   5.8672e+00  5.2305e+00]\n",
            " [ 7.3477e+00 -3.0969e+01 -1.4555e+01  3.2094e+01 -1.7078e+01 -4.0186e-01\n",
            "   6.5352e+00  9.2656e+00]\n",
            " [-2.0977e+00 -1.3773e+01 -1.4797e+01  2.6688e+01 -9.6172e+00 -5.7305e+00\n",
            "   4.9844e+00  8.2188e+00]]\n",
            "[[ 68.5    -54.75   -15.02    26.31    14.25   -30.27    -1.075   22.83  ]\n",
            " [  5.895   -1.301   -7.023   -0.3289  15.52   -16.61     1.916    7.17  ]\n",
            " [  1.685    6.156  -17.16     9.92     9.61   -17.56     7.73     2.002 ]\n",
            " [-59.5     51.25     5.434  -20.94    -2.24    10.414   11.99   -23.52  ]\n",
            " [-17.5      8.52    15.445  -11.914   -9.75    12.45     8.484  -18.47  ]\n",
            " [-12.74     4.64    15.195  -12.58    -5.363    8.46     7.61   -15.09  ]\n",
            " [ 12.57   -15.35     9.97    -5.297    3.604   -4.086    4.402   -2.97  ]\n",
            " [  3.193   -1.313   -3.203    1.459    4.832   -7.51     4.05    -0.2167]]\n",
            "[[ 1.0340e+03  3.8656e+01 -1.4273e+01 -3.5996e+00 -2.8711e-01 -6.1768e-01\n",
            "   2.6465e+00  8.6670e-01]\n",
            " [ 1.3367e+01 -1.4406e+01 -6.1523e+00 -6.8477e+00  3.0688e-01 -1.7539e+00\n",
            "   3.4824e+00  5.3516e-01]\n",
            " [ 3.5094e+01  3.9469e+01 -5.8359e+00 -1.2549e+00 -4.8359e+00 -5.6250e+00\n",
            "   5.9375e-01  3.6602e+00]\n",
            " [-2.0047e+01  8.0062e+01  1.5148e+01 -6.0273e+00  1.2656e+00 -1.2012e+00\n",
            "  -1.3867e+00  5.3516e-01]\n",
            " [-3.6062e+01  2.0859e+01  3.6500e+01  1.8713e-01  7.7500e+00  4.7383e+00\n",
            "  -2.6738e+00  4.6558e-01]\n",
            " [-1.5227e+01 -3.4062e+01  1.4703e+01  1.4891e+01  4.0195e+00  1.1758e+00\n",
            "   3.1191e+00  1.4922e+00]\n",
            " [-1.7469e+01 -9.3750e+00 -1.9703e+01  1.0742e+00  1.4941e+00  2.3145e+00\n",
            "   1.5859e+00 -1.6861e-02]\n",
            " [-7.6719e+00  1.1094e+00 -1.2195e+01 -1.5008e+01 -1.5540e-01  1.6992e+00\n",
            "   1.7456e-01 -5.2490e-01]]\n",
            "[[ 1.1300e+03  3.6781e+01 -1.4328e+01 -2.8828e+00 -2.1643e-01 -1.0762e+00\n",
            "   2.6758e+00  1.1992e+00]\n",
            " [-1.2979e+00 -1.2445e+01 -5.4492e+00 -7.3398e+00 -1.6736e-01 -1.7529e+00\n",
            "   3.7227e+00  6.9336e-01]\n",
            " [ 2.5766e+01  4.1156e+01 -5.2383e+00 -1.4902e+00 -5.2695e+00 -5.7891e+00\n",
            "   8.4717e-01  3.9199e+00]\n",
            " [-2.4125e+01  8.1250e+01  1.5055e+01 -6.4844e+00  1.4258e+00 -8.0273e-01\n",
            "  -1.5156e+00  1.5771e-01]\n",
            " [-3.5875e+01  2.0953e+01  3.6594e+01  1.6052e-01  7.7500e+00  4.7383e+00\n",
            "  -2.7031e+00  4.8682e-01]\n",
            " [-1.2234e+01 -3.4594e+01  1.4859e+01  1.5109e+01  3.9414e+00  9.1211e-01\n",
            "   3.2109e+00  1.7646e+00]\n",
            " [-1.3516e+01 -1.0016e+01 -1.9906e+01  1.1484e+00  1.6250e+00  2.3906e+00\n",
            "   1.4951e+00 -1.7273e-01]\n",
            " [-4.8242e+00  5.8398e-01 -1.2328e+01 -1.4930e+01 -3.2806e-02  1.6982e+00\n",
            "   9.8816e-02 -5.8203e-01]]\n",
            "[[-0.125     0.1735   -0.1633    0.147    -0.125     0.0982   -0.0676\n",
            "   0.0345  ]\n",
            " [ 0.0982   -0.1362    0.1283   -0.1155    0.0982   -0.07715   0.05316\n",
            "  -0.0271  ]\n",
            " [ 0.0676   -0.0938    0.0884   -0.0795    0.0676   -0.05316   0.03662\n",
            "  -0.01866 ]\n",
            " [-0.1735    0.2405   -0.2266    0.2039   -0.1733    0.1362   -0.0938\n",
            "   0.04782 ]\n",
            " [ 0.125    -0.1733    0.1633   -0.147     0.125    -0.0982    0.0676\n",
            "  -0.0345  ]\n",
            " [ 0.0345   -0.04782   0.04507  -0.04056   0.0345   -0.0271    0.01866\n",
            "  -0.009514]\n",
            " [-0.1633    0.2266   -0.2134    0.192    -0.1633    0.1283   -0.0884\n",
            "   0.04507 ]\n",
            " [ 0.147    -0.2039    0.192    -0.1729    0.147    -0.1155    0.0795\n",
            "  -0.04056 ]]\n",
            "[[ 1.1070e+03  1.5612e+02 -7.7461e+00  1.8422e+01 -3.2469e+01  4.8047e+00\n",
            "   1.3234e+01  1.2881e+00]\n",
            " [ 5.8906e+01 -4.4188e+01 -1.0180e+01  2.0734e+01 -1.3375e+01  1.8297e+01\n",
            "  -1.0391e+01  1.5664e+01]\n",
            " [ 7.5688e+01 -1.4555e+01  9.9766e+00 -1.3562e+01  2.1812e+01 -1.0734e+01\n",
            "   1.9062e+01 -1.6047e+01]\n",
            " [ 2.6125e+01 -3.1078e+01 -8.3984e+00 -6.3047e+00  2.9234e+01 -2.2578e+00\n",
            "  -6.7500e+00 -9.5625e+00]\n",
            " [-6.9188e+01 -6.2461e+00  2.1719e+01 -1.1086e+01 -3.2500e+00  2.4805e+00\n",
            "  -6.3125e+00  1.1812e+01]\n",
            " [ 1.6016e+01  3.3156e+01 -9.3750e+00 -1.7588e+00 -4.7656e+00 -7.6719e+00\n",
            "   1.0602e+01  6.0645e-01]\n",
            " [ 1.3008e+01  3.5656e+01 -1.7594e+01  1.0727e+01 -4.2031e+00  1.1826e+00\n",
            "   6.7969e+00  1.0059e+00]\n",
            " [-2.1641e+01 -7.8594e+00 -1.3953e+01  1.5672e+01 -5.2812e+00  8.0547e+00\n",
            "  -1.6078e+01 -1.2061e+00]]\n",
            "[[ 1.1790e+03  1.5888e+02 -1.0594e+01  1.8203e+01 -3.7031e+01  9.7734e+00\n",
            "   1.1664e+01  4.0312e+00]\n",
            " [ 6.6125e+01 -4.1312e+01 -7.5508e+00  2.3766e+01 -1.2703e+01  1.5273e+01\n",
            "  -1.0773e+01  1.4703e+01]\n",
            " [ 7.1125e+01 -1.6844e+01  8.0703e+00 -1.5789e+01  2.1312e+01 -8.5078e+00\n",
            "   1.9328e+01 -1.5375e+01]\n",
            " [ 2.7938e+01 -2.9844e+01 -7.5430e+00 -5.2383e+00  2.9406e+01 -3.3691e+00\n",
            "  -6.8828e+00 -9.8750e+00]\n",
            " [-6.9312e+01 -6.2383e+00  2.1734e+01 -1.1078e+01 -3.2500e+00  2.4805e+00\n",
            "  -6.2969e+00  1.1797e+01]\n",
            " [ 1.4375e+01  3.2594e+01 -1.0023e+01 -2.4473e+00 -4.9570e+00 -6.9648e+00\n",
            "   1.0680e+01  8.0664e-01]\n",
            " [ 1.5016e+01  3.6438e+01 -1.6906e+01  1.1578e+01 -3.9980e+00  2.3682e-01\n",
            "   6.6992e+00  7.3486e-01]\n",
            " [-2.2953e+01 -8.5234e+00 -1.4430e+01  1.5117e+01 -5.3633e+00  8.6875e+00\n",
            "  -1.6016e+01 -1.0098e+00]]\n",
            "[[ 1.7238e+02 -3.9906e+01 -2.7688e+01  1.1675e+02  3.1328e+00 -2.2156e+01\n",
            "  -6.0625e+01 -8.3750e+01]\n",
            " [ 6.0188e+01  1.4789e+01 -1.4477e+01 -3.2000e+01 -4.9969e+01  3.1672e+01\n",
            "   6.3562e+01  5.9594e+01]\n",
            " [ 6.6289e+00 -7.3398e+00  1.7281e+01  1.7764e+00  1.2922e+01 -1.5531e+01\n",
            "  -7.6938e+01 -1.9203e+01]\n",
            " [-5.7617e+00 -9.0062e+01  4.4180e+00  3.4332e-02  7.3086e+00  5.9668e-01\n",
            "   4.1000e+01  1.4484e+01]\n",
            " [-4.0844e+01 -1.4680e+01  3.5137e+00 -3.7656e+01  1.9375e+01  1.9047e+01\n",
            "   1.9359e+01  1.5438e+01]\n",
            " [-5.2250e+01  4.3398e+00  2.8547e+01  1.3023e+01 -1.0336e+01 -1.7344e+01\n",
            "  -1.2516e+01 -9.2344e+00]\n",
            " [-1.7750e+01 -1.3406e+01  1.9500e+01  7.6172e-01  2.0957e+00  7.0352e+00\n",
            "   4.7803e-01  1.4086e+01]\n",
            " [ 1.7531e+01 -1.9906e+01  2.0000e+00  7.9102e+00 -9.5312e+00 -4.2266e+00\n",
            "  -1.3875e+01 -1.0078e+00]]\n",
            "[[ 9.4450e+02  2.7062e+01  5.5906e+01 -4.2938e+01  6.6523e+00  2.5672e+01\n",
            "   7.1750e+01  9.8750e+01]\n",
            " [ 2.6938e+01  3.6000e+01  4.4492e+00 -7.2969e+00  1.2734e+01 -9.3828e+00\n",
            "  -1.6141e+01 -3.1672e+01]\n",
            " [ 3.2250e+01  3.6188e+01 -6.2539e+00  1.1344e+01 -1.5049e+00 -7.8281e+00\n",
            "  -3.9727e+00 -2.5891e+01]\n",
            " [ 3.1203e+01  3.6844e+01 -6.2305e+00  4.6016e+00  4.8594e+00 -5.4844e+00\n",
            "  -4.0234e+00 -1.0555e+01]\n",
            " [ 3.3531e+01  3.1703e+01 -1.2070e+01  2.9688e+00  4.6250e+00  3.7305e-01\n",
            "  -3.2500e+00 -8.3984e+00]\n",
            " [ 2.6953e+01  2.5719e+01 -1.6344e+01 -1.5137e+00  2.3418e+00  3.4961e+00\n",
            "   2.7285e+00 -6.3867e+00]\n",
            " [ 1.3148e+01  2.1047e+01 -1.6781e+01 -4.0469e+00 -5.8545e-01  3.2441e+00\n",
            "   6.2734e+00 -2.3867e+00]\n",
            " [ 4.7500e+00  1.0711e+01 -1.1586e+01 -1.9141e+00 -7.6758e-01 -4.6216e-01\n",
            "   6.5703e+00  1.3574e+00]]\n",
            "[[ 9.8600e+02  3.4906e+01  4.4562e+01 -2.9938e+01  1.4352e+01  1.5531e+01\n",
            "   6.4938e+01  9.0750e+01]\n",
            " [ 2.9016e+01  3.7438e+01  2.0664e+00 -5.9375e+00  1.3719e+01 -1.0914e+01\n",
            "  -1.6188e+01 -3.0656e+01]\n",
            " [ 2.9703e+01  3.7656e+01 -3.8789e+00  9.3984e+00 -1.6562e+00 -7.3945e+00\n",
            "  -3.6992e+00 -2.6125e+01]\n",
            " [ 3.0766e+01  3.7281e+01 -7.0742e+00  5.0898e+00  5.2148e+00 -5.9648e+00\n",
            "  -4.0352e+00 -1.0141e+01]\n",
            " [ 3.3531e+01  3.1594e+01 -1.2047e+01  3.0273e+00  4.6250e+00  4.1431e-01\n",
            "  -3.2734e+00 -8.3672e+00]\n",
            " [ 2.7172e+01  2.5578e+01 -1.5758e+01 -1.8398e+00  2.0938e+00  3.8438e+00\n",
            "   2.7559e+00 -6.6172e+00]\n",
            " [ 1.4297e+01  2.0391e+01 -1.7656e+01 -3.2070e+00 -5.4639e-01  3.0527e+00\n",
            "   6.1641e+00 -2.3281e+00]\n",
            " [ 4.8125e+00  1.0422e+01 -1.1039e+01 -2.1875e+00 -9.5459e-01 -1.8347e-01\n",
            "   6.5703e+00  1.1768e+00]]\n",
            "[[ 194.1     103.1     -19.75   -133.9      15.625    20.69     -1.68\n",
            "    14.805 ]\n",
            " [  -9.836   -17.33     40.28     26.77     -0.577   -11.336     4.07\n",
            "     0.7036]\n",
            " [  17.47      0.856     6.395    12.89     19.6      32.84     18.97\n",
            "     3.852 ]\n",
            " [  36.28     11.89    -10.44      1.254     6.953     3.492    -4.535\n",
            "     3.943 ]\n",
            " [  -9.39    -10.42     16.34     20.42     10.125    16.94      7.16\n",
            "    -6.867 ]\n",
            " [  -3.252   -13.195     0.2295   11.09      8.1      -7.305   -13.69\n",
            "     2.863 ]\n",
            " [  -2.746    -9.87     -5.02      2.916     1.237    10.9       2.346\n",
            "    -4.145 ]\n",
            " [  -4.703   -11.16     -4.83      3.361     4.605     3.037     1.592\n",
            "     8.42  ]]\n",
            "[[686.5   -70.7    25.61  185.1   -83.44   43.34  -32.22   -2.953]\n",
            " [ 29.03   29.48  -15.47  -20.77    6.426  10.875   2.146  11.08 ]\n",
            " [  9.695  26.34   12.07   -3.695  -8.09  -22.6   -13.336  -3.223]\n",
            " [  5.39   21.61    9.35   -8.77   -4.676  -3.484  -4.277  -6.73 ]\n",
            " [ 20.8    20.58  -12.125 -21.62   -7.75   -3.453   5.293  12.65 ]\n",
            " [  6.082   3.1   -10.42  -13.38   -7.7    12.84   21.84    5.48 ]\n",
            " [ -9.85   -3.74    5.918   4.555  -3.156  -4.562   2.17    8.01 ]\n",
            " [-12.33   -8.336   4.625   3.697  -3.309  -2.05   -3.238  -9.65 ]]\n",
            "[[682.    -85.6    62.62  174.2   -71.56   28.72  -19.97  -12.08 ]\n",
            " [ 29.25   27.19  -16.27  -21.75    5.14   10.24    1.807  10.6  ]\n",
            " [  9.195  28.03   12.664  -3.012  -7.156 -22.17  -13.09   -2.885]\n",
            " [  5.457  20.66    9.03   -9.1    -5.086  -3.688  -4.395  -6.9  ]\n",
            " [ 20.72   20.62  -12.11  -21.55   -7.75   -3.44    5.31   12.65 ]\n",
            " [  6.043   3.611 -10.164 -13.195  -7.375  13.016  21.88    5.57 ]\n",
            " [ -9.945  -4.516   5.664   4.246  -3.531  -4.77    2.084   7.84 ]\n",
            " [-12.305  -7.797   4.812   3.936  -3.045  -1.936  -3.193  -9.56 ]]\n",
            "[[-0.125     0.1735   -0.1633    0.147    -0.125     0.0982   -0.0676\n",
            "   0.0345  ]\n",
            " [ 0.0982   -0.1362    0.1283   -0.1155    0.0982   -0.07715   0.05316\n",
            "  -0.0271  ]\n",
            " [ 0.0676   -0.0938    0.0884   -0.0795    0.0676   -0.05316   0.03662\n",
            "  -0.01866 ]\n",
            " [-0.1735    0.2405   -0.2266    0.2039   -0.1733    0.1362   -0.0938\n",
            "   0.04782 ]\n",
            " [ 0.125    -0.1733    0.1633   -0.147     0.125    -0.0982    0.0676\n",
            "  -0.0345  ]\n",
            " [ 0.0345   -0.04782   0.04507  -0.04056   0.0345   -0.0271    0.01866\n",
            "  -0.009514]\n",
            " [-0.1633    0.2266   -0.2134    0.192    -0.1633    0.1283   -0.0884\n",
            "   0.04507 ]\n",
            " [ 0.147    -0.2039    0.192    -0.1729    0.147    -0.1155    0.0795\n",
            "  -0.04056 ]]\n",
            "[[ 1.0340e+03  1.0606e+02 -6.4438e+01  3.7875e+01  3.6499e-02  8.7988e-01\n",
            "  -2.7422e+01 -4.5469e+01]\n",
            " [-1.8188e+02 -6.6846e-01  1.4175e+02 -7.4938e+01  4.7438e+01  4.8219e+01\n",
            "   5.2531e+01 -1.0453e+01]\n",
            " [ 5.5156e+01  3.7500e+01 -7.0750e+01 -1.6953e+01 -4.6969e+01  4.0250e+01\n",
            "   8.0750e+01  8.0625e+01]\n",
            " [ 2.6578e+01  4.8750e+01 -6.0938e+01 -2.8703e+01  5.5344e+01 -5.8219e+01\n",
            "   2.8594e+01 -9.5156e+00]\n",
            " [-2.4172e+01 -1.7594e+01  8.3750e+01  2.3172e+01 -1.9000e+01  1.7422e+01\n",
            "  -7.9688e+01 -7.1484e+00]\n",
            " [ 3.4906e+01 -2.5527e+00  9.6484e+00  1.9359e+01 -8.4219e+00 -2.9016e+01\n",
            "   9.4531e+00 -2.2031e+01]\n",
            " [ 4.0156e+00 -7.2812e+00 -1.2172e+01 -2.6680e+00 -3.2617e-01 -5.5859e+00\n",
            "  -1.3301e+00  3.5000e+01]\n",
            " [-1.5047e+01  1.1672e+01 -5.8477e+00  3.8094e+01  1.1734e+01  5.5352e+00\n",
            "   7.9395e-01  1.0137e+00]]\n",
            "[[ 1.0660e+03  9.7312e+01 -5.4062e+01  2.9625e+01 -9.8877e-01  3.3945e+00\n",
            "  -2.9609e+01 -4.3188e+01]\n",
            " [-1.8175e+02 -4.1875e+00  1.3100e+02 -7.8750e+01  4.6812e+01  4.8094e+01\n",
            "   5.1906e+01 -9.9453e+00]\n",
            " [ 5.7156e+01  4.1250e+01 -7.4625e+01 -1.2734e+01 -4.7875e+01  4.0125e+01\n",
            "   7.9625e+01  8.1438e+01]\n",
            " [ 2.9562e+01  5.1219e+01 -5.9062e+01 -2.5906e+01  5.5094e+01 -5.9312e+01\n",
            "   2.8219e+01 -9.9688e+00]\n",
            " [-2.4109e+01 -1.7594e+01  8.3875e+01  2.3109e+01 -1.9000e+01  1.7391e+01\n",
            "  -7.9750e+01 -7.2031e+00]\n",
            " [ 3.3500e+01 -4.2930e+00  8.5625e+00  1.7438e+01 -8.2188e+00 -2.8312e+01\n",
            "   9.5859e+00 -2.1719e+01]\n",
            " [ 3.1953e+00 -8.8359e+00 -1.0555e+01 -4.3750e+00  1.0443e-01 -5.5039e+00\n",
            "  -7.8711e-01  3.4688e+01]\n",
            " [-1.5312e+01  1.2398e+01 -3.7129e+00  3.8844e+01  1.1867e+01  5.5547e+00\n",
            "   8.6963e-01  9.3018e-01]]\n",
            "[[ 1.7238e+02 -3.9906e+01 -2.7688e+01  1.1675e+02  3.1328e+00 -2.2156e+01\n",
            "  -6.0625e+01 -8.3750e+01]\n",
            " [ 6.0188e+01  1.4789e+01 -1.4477e+01 -3.2000e+01 -4.9969e+01  3.1672e+01\n",
            "   6.3562e+01  5.9594e+01]\n",
            " [ 6.6289e+00 -7.3398e+00  1.7281e+01  1.7764e+00  1.2922e+01 -1.5531e+01\n",
            "  -7.6938e+01 -1.9203e+01]\n",
            " [-5.7617e+00 -9.0062e+01  4.4180e+00  3.4332e-02  7.3086e+00  5.9668e-01\n",
            "   4.1000e+01  1.4484e+01]\n",
            " [-4.0844e+01 -1.4680e+01  3.5137e+00 -3.7656e+01  1.9375e+01  1.9047e+01\n",
            "   1.9359e+01  1.5438e+01]\n",
            " [-5.2250e+01  4.3398e+00  2.8547e+01  1.3023e+01 -1.0336e+01 -1.7344e+01\n",
            "  -1.2516e+01 -9.2344e+00]\n",
            " [-1.7750e+01 -1.3406e+01  1.9500e+01  7.6172e-01  2.0957e+00  7.0352e+00\n",
            "   4.7803e-01  1.4086e+01]\n",
            " [ 1.7531e+01 -1.9906e+01  2.0000e+00  7.9102e+00 -9.5312e+00 -4.2266e+00\n",
            "  -1.3875e+01 -1.0078e+00]]\n",
            "[[ 9.2000e+02 -1.2672e+01  6.9219e+00 -1.9484e+01 -2.7203e+01  2.7172e+01\n",
            "   1.7422e+01  3.4750e+01]\n",
            " [ 2.7266e+01  2.4594e+01  4.4219e+01 -1.0453e+01  1.4703e+01  1.1172e+00\n",
            "   3.1953e+01  3.6562e+01]\n",
            " [ 4.3242e+00 -2.6281e+01 -2.1547e+01 -9.3750e+00 -2.8496e+00  3.9395e+00\n",
            "  -1.0945e+01  5.7438e+01]\n",
            " [-7.9000e+01  2.3953e+01  8.7549e-01  1.3781e+01  3.1578e+01 -2.0203e+01\n",
            "  -1.5645e+00  2.2266e+01]\n",
            " [-2.7156e+01  1.5141e+01 -2.2547e+01  1.1260e+00  4.5000e+00 -1.0117e+01\n",
            "   4.4570e+00 -1.0203e+01]\n",
            " [ 7.6750e+01  5.8594e-01  1.1766e+01 -4.0967e-01 -1.4812e+01  1.3945e+01\n",
            "  -5.1797e+00 -1.6094e+01]\n",
            " [ 4.4375e+01 -2.0625e+01  8.8359e+00 -2.6191e+00 -7.4297e+00  4.7422e+00\n",
            "   2.8223e+00 -1.0500e+01]\n",
            " [-2.4656e+01 -2.3297e+01  2.3008e+00 -1.7490e+00  2.0410e+00  7.1484e-01\n",
            "   5.6133e+00  2.8047e+00]]\n",
            "[[ 9.7800e+02 -7.1797e+00  9.0625e+00 -2.0984e+01 -2.6016e+01  2.7781e+01\n",
            "   1.6781e+01  3.3594e+01]\n",
            " [ 1.2453e+01  1.3641e+01  4.5000e+01 -8.7969e+00  1.5633e+01  3.7480e+00\n",
            "   3.3250e+01  3.5719e+01]\n",
            " [-1.2930e+01 -3.3062e+01 -2.2453e+01 -6.8945e-01 -4.4297e+00  5.3789e+00\n",
            "  -1.1320e+01  5.7031e+01]\n",
            " [-7.8938e+01  2.3141e+01 -5.3320e-01  1.3492e+01  3.1984e+01 -2.0984e+01\n",
            "  -1.8086e+00  2.3562e+01]\n",
            " [-2.7062e+01  1.5008e+01 -2.2531e+01  1.0850e+00  4.5000e+00 -1.0141e+01\n",
            "   4.4531e+00 -1.0188e+01]\n",
            " [ 7.6438e+01  9.6680e-01  1.2805e+01 -2.7588e-01 -1.5023e+01  1.4453e+01\n",
            "  -5.0312e+00 -1.6953e+01]\n",
            " [ 5.1406e+01 -1.7922e+01  9.1953e+00 -6.2070e+00 -6.7852e+00  4.1719e+00\n",
            "   2.9766e+00 -1.0320e+01]\n",
            " [-2.1891e+01 -2.1219e+01  2.1113e+00 -2.1367e+00  1.8291e+00  2.1960e-01\n",
            "   5.3477e+00  2.9180e+00]]\n",
            "[[ 194.1     103.1     -19.75   -133.9      15.625    20.69     -1.68\n",
            "    14.805 ]\n",
            " [  -9.836   -17.33     40.28     26.77     -0.577   -11.336     4.07\n",
            "     0.7036]\n",
            " [  17.47      0.856     6.395    12.89     19.6      32.84     18.97\n",
            "     3.852 ]\n",
            " [  36.28     11.89    -10.44      1.254     6.953     3.492    -4.535\n",
            "     3.943 ]\n",
            " [  -9.39    -10.42     16.34     20.42     10.125    16.94      7.16\n",
            "    -6.867 ]\n",
            " [  -3.252   -13.195     0.2295   11.09      8.1      -7.305   -13.69\n",
            "     2.863 ]\n",
            " [  -2.746    -9.87     -5.02      2.916     1.237    10.9       2.346\n",
            "    -4.145 ]\n",
            " [  -4.703   -11.16     -4.83      3.361     4.605     3.037     1.592\n",
            "     8.42  ]]\n",
            "[[ 7.6850e+02 -3.4656e+01  9.0781e+00  9.3750e+01  1.2109e+01 -1.5094e+01\n",
            "   8.5469e+00  2.4609e+01]\n",
            " [ 3.9473e+00 -7.9375e+01  6.5703e+00  8.0375e+01  6.0645e-01 -9.9297e+00\n",
            "   1.5727e+01  1.6141e+01]\n",
            " [-4.3781e+01  1.3602e+01 -2.5250e+01  7.9336e+00 -1.6141e+01 -1.7203e+01\n",
            "   3.9805e+00  8.3516e+00]\n",
            " [-3.2781e+01  1.5305e+01 -4.9344e+01 -1.8688e+01 -4.2578e+00 -1.3281e+01\n",
            "  -9.6953e+00  3.7070e+00]\n",
            " [-8.6500e+01  4.8312e+01 -2.4078e+01 -3.6133e+00  9.3750e+00 -6.5078e+00\n",
            "  -8.2578e+00  1.0879e+00]\n",
            " [ 4.2688e+01 -7.4414e-01  7.0781e+00  2.6672e+01  1.9062e+01  3.0469e+00\n",
            "  -3.6211e+00 -4.4570e+00]\n",
            " [ 5.6750e+01 -1.3117e+01  3.3062e+01  2.5172e+01  1.1768e+00  3.4922e+00\n",
            "   4.9609e+00 -6.9531e+00]\n",
            " [ 4.7688e+01 -3.7969e+01  2.5062e+01  9.7109e+00 -6.4922e+00  4.6484e+00\n",
            "   3.5508e+00 -5.5547e+00]]\n",
            "[[ 8.3150e+02 -3.3531e+01  2.2016e+01  1.0162e+02  1.1367e+01 -1.6641e+01\n",
            "   6.6953e+00  2.1031e+01]\n",
            " [-1.3203e+01 -8.9438e+01  2.0766e+01  9.2000e+01  4.5996e-01 -1.0211e+01\n",
            "   1.6422e+01  1.3961e+01]\n",
            " [-7.4312e+01  1.5961e+01 -2.2344e+01  1.0305e+01 -1.3617e+01 -1.4219e+01\n",
            "   5.5117e+00  8.0703e+00]\n",
            " [-3.2219e+01  1.4828e+01 -4.9688e+01 -1.8594e+01 -3.9941e+00 -1.2977e+01\n",
            "  -9.7109e+00  3.4707e+00]\n",
            " [-8.6000e+01  4.8312e+01 -2.4141e+01 -3.5840e+00  9.3750e+00 -6.4961e+00\n",
            "  -8.2500e+00  1.0986e+00]\n",
            " [ 4.2250e+01 -4.5703e-01  7.2734e+00  2.6578e+01  1.8891e+01  2.7949e+00\n",
            "  -3.6094e+00 -4.3125e+00]\n",
            " [ 6.9438e+01 -1.3867e+01  3.1734e+01  2.4141e+01  9.3933e-02  2.1953e+00\n",
            "   4.3203e+00 -6.8398e+00]\n",
            " [ 5.1250e+01 -3.5688e+01  2.2234e+01  7.3242e+00 -6.4805e+00  4.7031e+00\n",
            "   3.4141e+00 -5.0977e+00]]\n",
            "[[ 22.12   39.56   44.78   23.27   -6.15   -5.85   20.25   28.28 ]\n",
            " [ 86.94   62.62  -40.06  -64.8   -17.53    1.404 -36.1   -51.5  ]\n",
            " [ -1.378   6.035  23.89   33.75   15.71  -28.66  -65.4   -55.56 ]\n",
            " [-23.62  -22.23   -1.708   7.75    5.527   6.184  12.95   12.91 ]\n",
            " [-17.11  -28.72  -32.53  -20.84    4.125  24.56   27.67   16.47 ]\n",
            " [  8.13    6.477  -1.728  -2.283   5.152  11.19   10.      4.746]\n",
            " [ 21.83   22.17    8.195   5.883  10.14    3.826 -11.64  -15.55 ]\n",
            " [ -0.67   -6.98  -17.02  -17.89   -8.02    2.283   5.29    3.   ]]\n",
            "[[ 8.3900e+02 -1.4000e+01  1.3445e+01  7.1125e+01 -9.8359e+00  7.5188e+01\n",
            "   3.7312e+01  8.5375e+01]\n",
            " [ 2.3525e+02 -1.0081e+02 -2.1266e+01  2.0422e+01 -8.7000e+01 -2.7547e+01\n",
            "   1.4424e+00  9.5703e+00]\n",
            " [ 6.7188e+00  8.2812e+01 -3.8250e+01  3.9531e+01  6.5312e+01 -3.7500e+01\n",
            "   2.6641e+01  5.0219e+01]\n",
            " [ 2.5766e+01  7.8875e+01  5.6625e+01 -3.3688e+01 -5.4648e+00 -3.5562e+01\n",
            "  -1.6797e+01  7.4297e+00]\n",
            " [ 6.1875e+00 -1.7266e+01  4.3188e+01 -1.9266e+01 -4.5875e+01 -4.1758e+00\n",
            "  -2.5391e+01 -7.2500e+00]\n",
            " [ 9.5469e+00  3.7531e+01 -7.4023e+00 -1.4297e+01 -5.2156e+01 -1.1695e+01\n",
            "  -9.1094e+00  2.4891e+01]\n",
            " [-1.0156e+01  1.8994e+00  2.1602e+00 -1.9219e+01 -3.8062e+01 -3.2844e+01\n",
            "   1.1453e+01  2.1438e+01]\n",
            " [-1.7672e+01 -1.7328e+01  1.5303e+00  1.4148e+01 -1.3477e+01 -8.8916e-01\n",
            "   7.6016e+00 -2.1411e-01]]\n",
            "[[ 8.6800e+02 -1.2992e+01  1.6359e+01  7.0812e+01 -9.7891e+00  7.6188e+01\n",
            "   3.7812e+01  8.6438e+01]\n",
            " [ 2.3512e+02 -1.0612e+02 -2.0047e+01  2.0828e+01 -8.5188e+01 -2.5719e+01\n",
            "   9.3408e-01  9.6641e+00]\n",
            " [ 1.0625e+01  8.3750e+01 -3.5562e+01  3.9250e+01  6.5188e+01 -3.6625e+01\n",
            "   2.7047e+01  5.1375e+01]\n",
            " [ 2.5281e+01  7.7250e+01  5.6938e+01 -3.3531e+01 -4.8203e+00 -3.4750e+01\n",
            "  -1.6984e+01  7.5195e+00]\n",
            " [ 6.0273e+00 -1.7406e+01  4.3281e+01 -1.9328e+01 -4.5875e+01 -4.1953e+00\n",
            "  -2.5359e+01 -7.2344e+00]\n",
            " [ 9.6641e+00  3.8719e+01 -7.6836e+00 -1.4359e+01 -5.2656e+01 -1.2117e+01\n",
            "  -8.9922e+00  2.4812e+01]\n",
            " [-1.1555e+01  1.6377e+00  1.0752e+00 -1.9016e+01 -3.8000e+01 -3.3312e+01\n",
            "   1.1305e+01  2.0906e+01]\n",
            " [-1.7469e+01 -1.6328e+01  1.2012e+00  1.4062e+01 -1.3734e+01 -1.2578e+00\n",
            "   7.7344e+00 -2.7148e-01]]\n",
            "[[ 57.      59.25     9.57    -1.107   19.77     5.38   -18.03   -34.9   ]\n",
            " [-21.7    -23.77   -19.92    -5.29    11.6     -6.66   -16.12   -25.9   ]\n",
            " [ 22.69    32.25    33.03    25.28    18.48    -3.695  -11.78   -15.55  ]\n",
            " [  1.58    -1.891   -0.9043  -1.908    3.072   -0.4697  -0.853   -2.682 ]\n",
            " [-26.05   -25.27    -6.65     5.098    4.25     2.473    5.465    5.715 ]\n",
            " [-33.06   -33.62   -16.4     -3.893   -3.188    0.7866   8.15     8.945 ]\n",
            " [ -3.996   -0.6396   6.465    4.56    -3.05    -3.31     4.734    8.06  ]\n",
            " [ 16.92    18.16    10.13     5.83     4.71     0.507   -7.6     -8.11  ]]\n",
            "[[ 7.5250e+02 -9.3688e+01 -8.2688e+01  9.9688e+01  4.1172e+00 -4.3000e+01\n",
            "   2.8719e+01  8.8281e+00]\n",
            " [ 5.3344e+01  2.3412e+02 -6.0031e+01 -3.1281e+01 -8.3047e+00  2.4703e+01\n",
            "   3.3531e+01 -4.2375e+01]\n",
            " [-2.5391e+01 -3.5562e+01 -3.6133e-01  2.1766e+01 -1.3695e+01 -2.2391e+01\n",
            "   5.5938e+00  2.7812e+01]\n",
            " [-2.4422e+01 -3.4312e+01  2.0578e+01 -2.4938e+01  2.0875e+01  2.8844e+01\n",
            "  -1.5352e+01 -4.3320e+00]\n",
            " [ 1.5852e+01 -6.5125e+01  3.4746e+00 -1.0883e+01  1.0375e+01  1.5070e+01\n",
            "  -1.2156e+01  4.5430e+00]\n",
            " [ 2.1000e+01  3.5781e+01  2.4746e+00 -3.7930e+00 -1.0102e+01 -3.9238e+00\n",
            "   9.4844e+00  1.1359e+01]\n",
            " [ 1.9172e+01 -1.6156e+01 -1.4953e+01  1.4273e+01  1.1734e+01  9.5625e+00\n",
            "   1.3180e+01 -7.2188e+00]\n",
            " [-2.1250e+01 -4.9906e+01 -2.8000e+01  5.0469e+00  3.1973e+00 -2.3535e+00\n",
            "   5.8281e+00 -2.6992e+00]]\n",
            "[[ 7.6850e+02 -9.1375e+01 -8.2812e+01  9.9500e+01  3.1680e+00 -4.0500e+01\n",
            "   2.8219e+01  6.4258e+00]\n",
            " [ 5.8469e+01  2.4062e+02 -5.9219e+01 -3.4125e+01 -7.2773e+00  2.3422e+01\n",
            "   3.4375e+01 -4.0875e+01]\n",
            " [-1.2250e+01 -4.0500e+01  7.4756e-01  2.4594e+01 -1.5516e+01 -2.2766e+01\n",
            "   5.6406e+00  2.8312e+01]\n",
            " [-2.1672e+01 -3.1859e+01  2.0031e+01 -2.6391e+01  2.1875e+01  2.9141e+01\n",
            "  -1.5438e+01 -4.6719e+00]\n",
            " [ 1.5789e+01 -6.5000e+01  3.4805e+00 -1.0906e+01  1.0375e+01  1.5102e+01\n",
            "  -1.2141e+01  4.5547e+00]\n",
            " [ 1.9297e+01  3.4125e+01  2.8867e+00 -2.8516e+00 -1.0766e+01 -4.1289e+00\n",
            "   9.5156e+00  1.1555e+01]\n",
            " [ 1.3516e+01 -1.4180e+01 -1.5375e+01  1.3078e+01  1.2516e+01  9.7188e+00\n",
            "   1.3133e+01 -7.3750e+00]\n",
            " [-2.2312e+01 -5.1250e+01 -2.8094e+01  5.5898e+00  2.9844e+00 -2.0488e+00\n",
            "   5.6719e+00 -3.0195e+00]]\n",
            "[[ 110.4    -101.4       9.664    13.09     26.84    -36.06     -9.\n",
            "    35.12  ]\n",
            " [  -0.9766   -7.188    22.8     -23.        6.72     11.62    -16.81\n",
            "    10.62  ]\n",
            " [  46.66    -50.28     21.58     -6.2      10.      -13.695     8.07\n",
            "    -0.733 ]\n",
            " [  44.56    -49.88     20.6       7.16    -17.27     10.94      0.6807\n",
            "    -4.695 ]\n",
            " [  10.875   -15.336    11.98     -0.2183   -9.625     6.69      5.727\n",
            "    -9.87  ]\n",
            " [ -13.445    12.27      1.027    -6.547     3.389     0.4558    0.653\n",
            "    -1.957 ]\n",
            " [ -20.81     24.48    -11.45     -1.599     6.816    -1.366    -6.87\n",
            "     7.938 ]\n",
            " [ -38.       40.2     -12.51     -5.06      4.98      1.907    -4.11\n",
            "     2.084 ]]\n",
            "[[ 7.2450e+02 -2.4734e+01  1.5414e+01  3.0996e+00 -1.9094e+01  3.8125e+00\n",
            "   1.6006e+00 -6.6719e+00]\n",
            " [-2.2838e+02 -6.1938e+01  2.1938e+01 -5.8359e+00 -2.4688e+01  1.1172e+01\n",
            "   2.5762e+00 -1.1104e+00]\n",
            " [-5.7156e+01 -2.0828e+01  3.4344e+01 -7.8828e+00 -1.3828e+01  1.0516e+01\n",
            "  -5.1445e+00  5.3828e+00]\n",
            " [ 3.9656e+01  9.9609e+00  1.1344e+01 -8.1250e+00  6.7891e+00  6.4883e+00\n",
            "  -8.6406e+00  1.1461e+01]\n",
            " [ 4.8344e+01  3.4094e+01 -6.7285e-01 -5.3984e+00  1.3625e+01 -3.1074e+00\n",
            "  -6.6172e+00  1.1203e+01]\n",
            " [-1.0516e+01  1.9938e+01 -2.4094e+01 -7.1602e+00  4.9297e+00 -5.8086e+00\n",
            "  -4.1484e+00  7.8555e+00]\n",
            " [-2.5891e+01  9.0234e+00  2.8535e+00  1.5527e+00 -2.5234e+00 -5.2344e-01\n",
            "  -9.2109e+00 -2.1973e+00]\n",
            " [-1.1648e+01 -3.7617e+00  2.0566e+00  1.9092e+00 -6.0273e+00  1.8359e+00\n",
            "  -6.7383e+00 -3.4922e+00]]\n",
            "[[ 7.0200e+02 -1.8828e+01  1.8484e+01  5.3789e+00 -1.4938e+01  9.1172e+00\n",
            "   4.3906e+00 -6.6523e+00]\n",
            " [-2.3075e+02 -5.8469e+01  2.1375e+01 -7.8047e+00 -2.4453e+01  1.3602e+01\n",
            "   4.3438e+00 -9.4336e-01]\n",
            " [-4.3906e+01 -1.5586e+01  3.4344e+01 -8.9766e+00 -1.2289e+01  1.3273e+01\n",
            "  -3.8242e+00  5.3828e+00]\n",
            " [ 3.7125e+01  1.1680e+01  1.0789e+01 -8.4688e+00  7.8086e+00  7.5273e+00\n",
            "  -8.2188e+00  1.1641e+01]\n",
            " [ 4.8406e+01  3.4031e+01 -6.9531e-01 -5.3711e+00  1.3625e+01 -3.0957e+00\n",
            "  -6.5898e+00  1.1203e+01]\n",
            " [-8.7891e+00  1.8750e+01 -2.3688e+01 -6.9023e+00  4.2266e+00 -6.5508e+00\n",
            "  -4.4492e+00  7.7539e+00]\n",
            " [-3.1484e+01  6.9609e+00  2.9258e+00  1.9912e+00 -3.1680e+00 -1.6699e+00\n",
            "  -9.7578e+00 -2.2051e+00]\n",
            " [-1.1289e+01 -4.4336e+00  2.1133e+00  2.3047e+00 -6.0391e+00  1.3262e+00\n",
            "  -7.0586e+00 -3.5332e+00]]\n",
            "[[129.8   107.5   -18.78  -44.3    12.01   15.12  -57.7   -83.06 ]\n",
            " [ -9.1   -12.08   -3.602  17.14   35.34   31.75   10.78   -3.307]\n",
            " [-17.    -19.88  -12.54  -10.89  -17.17  -24.78  -25.3   -15.9  ]\n",
            " [-22.05  -37.34  -39.94  -18.48   13.95   25.36   10.73   -3.088]\n",
            " [-36.78  -38.06   -7.75   16.34   22.5    16.16    8.08    3.012]\n",
            " [-13.555 -10.72   10.02   29.92   33.3    16.4    -5.746 -12.234]\n",
            " [ 20.53   15.64   -0.534  11.59   34.97   28.39   -6.19  -22.34 ]\n",
            " [ 18.66   10.25  -14.88  -14.83    5.01   11.47   -3.312 -12.26 ]]\n",
            "[[ 1.0550e+03  2.1125e+02  1.0361e+00  1.8688e+01  2.0547e+01 -1.1688e+01\n",
            "  -1.5477e+01  2.3859e+01]\n",
            " [-3.5400e+02  1.4638e+02  3.3875e+01  2.8031e+01  3.2438e+01 -1.1453e+01\n",
            "  -1.2898e+01  3.0625e+01]\n",
            " [-9.3000e+01 -2.6625e+01  3.0719e+01  3.0031e+01  1.7875e+01 -6.6523e+00\n",
            "  -5.7461e+00  2.2953e+01]\n",
            " [ 4.7188e+00 -7.8188e+01  2.0219e+01  3.7000e+01  1.4434e+00 -6.2383e+00\n",
            "   5.8359e+00  1.5016e+01]\n",
            " [ 1.8203e+01 -6.4812e+01  5.6484e+00  3.1109e+01 -8.7500e-01 -1.9814e+00\n",
            "   4.8359e+00  7.7812e+00]\n",
            " [-4.2017e-01 -2.3266e+01 -8.3594e+00  1.4492e+01  6.1914e+00  1.1875e+00\n",
            "  -1.8701e+00  2.5059e+00]\n",
            " [-1.9969e+01  6.8281e+00 -9.0078e+00  3.6621e-01  1.0078e+01  2.8214e-02\n",
            "  -3.7480e+00  2.3320e+00]\n",
            " [-1.4117e+01  7.3242e+00 -2.2559e+00 -4.6602e+00  6.5859e+00 -7.7686e-01\n",
            "  -1.2607e+00  2.4082e+00]]\n",
            "[[ 1.1180e+03  2.0750e+02  4.1992e-01  2.0016e+01  2.1062e+01 -1.2969e+01\n",
            "  -1.5734e+01  2.5234e+01]\n",
            " [-3.6950e+02  1.5538e+02  3.3625e+01  2.6703e+01  3.2750e+01 -1.2523e+01\n",
            "  -1.2930e+01  3.2656e+01]\n",
            " [-1.1325e+02 -1.3266e+01  3.0703e+01  2.7250e+01  1.7797e+01 -6.5625e+00\n",
            "  -5.6953e+00  2.3891e+01]\n",
            " [ 3.9199e+00 -7.9062e+01  1.9688e+01  3.6875e+01  1.7832e+00 -5.8125e+00\n",
            "   5.6367e+00  1.4414e+01]\n",
            " [ 1.8531e+01 -6.4688e+01  5.6250e+00  3.1188e+01 -8.7500e-01 -2.0098e+00\n",
            "   4.7930e+00  7.7734e+00]\n",
            " [-3.4424e-01 -2.2734e+01 -8.0000e+00  1.4562e+01  5.9688e+00  8.9062e-01\n",
            "  -1.6865e+00  2.8633e+00]\n",
            " [-1.1867e+01  1.0947e+00 -8.9141e+00  1.5967e+00  1.0086e+01  2.4872e-02\n",
            "  -3.7520e+00  1.8896e+00]\n",
            " [-1.0844e+01  5.5703e+00 -2.1797e+00 -4.4766e+00  6.5781e+00 -5.6396e-01\n",
            "  -1.2139e+00  2.0332e+00]]\n",
            "[[ 1.5    -1.895   1.29   -0.4934 -0.25    0.722  -0.805   0.5156]\n",
            " [ 2.488  -3.182   2.27   -1.061  -0.0804  0.836  -1.026   0.6772]\n",
            " [ 2.828  -3.643   2.686  -1.411   0.1914  0.6426 -0.906   0.6196]\n",
            " [ 2.05   -2.607   1.819  -0.779  -0.199   0.833  -0.9683  0.6284]\n",
            " [ 0.5    -0.562   0.175   0.3196 -0.75    0.9644 -0.8843  0.526 ]\n",
            " [-0.4692  0.652  -0.6143  0.553  -0.4702  0.3696 -0.255   0.1296]\n",
            " [-0.3591  0.4124 -0.1553 -0.1735  0.4617 -0.6104  0.5645 -0.337 ]\n",
            " [ 0.0164 -0.1033  0.3135 -0.573   0.78   -0.842   0.7144 -0.4097]]\n",
            "[[ 8.8850e+02 -1.3388e+02  3.5488e+00  2.7047e+01  3.7695e+00 -1.3312e+01\n",
            "  -5.7969e+00  3.0879e+00]\n",
            " [-2.7500e+02 -1.5675e+02  1.0750e+01  1.8125e+01  6.6260e-01 -1.5070e+01\n",
            "  -4.8828e-01  1.5342e+00]\n",
            " [-4.4625e+01 -2.6234e+01  2.8203e+01 -1.0781e+01  2.7773e+00 -2.5547e+00\n",
            "   1.7676e+00 -2.5156e+00]\n",
            " [ 5.7938e+01  2.8242e+00  3.6250e+01 -1.9656e+01 -6.2500e+00  1.0117e+01\n",
            "   4.3555e+00 -3.6875e+00]\n",
            " [ 6.2188e+01 -1.7047e+01  2.7953e+01 -5.4141e+00 -1.6000e+01  1.5602e+01\n",
            "   5.4414e+00 -7.9248e-01]\n",
            " [ 3.1156e+01 -3.6125e+01  4.5938e+00  1.8438e+01 -2.0203e+01  9.6641e+00\n",
            "   5.3555e+00  4.8633e+00]\n",
            " [ 8.6548e-02 -3.5438e+01 -1.4555e+01  3.4312e+01 -1.7406e+01 -7.6025e-01\n",
            "   5.9766e+00  9.2266e+00]\n",
            " [-7.0195e+00 -1.5617e+01 -1.4531e+01  2.7469e+01 -9.5078e+00 -5.9297e+00\n",
            "   4.7266e+00  7.9141e+00]]\n",
            "[[ 9.6000e+02 -1.4088e+02  5.0898e+00  2.8984e+01  5.9883e+00 -1.5305e+01\n",
            "  -6.7070e+00  2.3848e+00]\n",
            " [-2.9900e+02 -1.6625e+02  1.2250e+01  2.1984e+01  1.3477e+00 -1.6000e+01\n",
            "  -1.8486e+00  8.4473e-02]\n",
            " [-6.2219e+01 -3.6969e+01  2.8547e+01 -5.2109e+00  2.1289e+00 -3.4453e+00\n",
            "   4.1406e-01 -2.5859e+00]\n",
            " [ 5.4750e+01  3.8965e+00  3.6000e+01 -1.9406e+01 -5.3945e+00  1.0133e+01\n",
            "   3.5098e+00 -4.1953e+00]\n",
            " [ 6.2531e+01 -1.6969e+01  2.8016e+01 -5.4258e+00 -1.6000e+01  1.5586e+01\n",
            "   5.4492e+00 -7.9980e-01]\n",
            " [ 3.3188e+01 -3.7062e+01  4.8359e+00  1.8312e+01 -2.0812e+01  9.6562e+00\n",
            "   5.8672e+00  5.2305e+00]\n",
            " [ 7.3477e+00 -3.0969e+01 -1.4555e+01  3.2094e+01 -1.7078e+01 -4.0186e-01\n",
            "   6.5352e+00  9.2656e+00]\n",
            " [-2.0977e+00 -1.3773e+01 -1.4797e+01  2.6688e+01 -9.6172e+00 -5.7305e+00\n",
            "   4.9844e+00  8.2188e+00]]\n",
            "[[ 68.5    -54.75   -15.02    26.31    14.25   -30.27    -1.075   22.83  ]\n",
            " [  5.895   -1.301   -7.023   -0.3289  15.52   -16.61     1.916    7.17  ]\n",
            " [  1.685    6.156  -17.16     9.92     9.61   -17.56     7.73     2.002 ]\n",
            " [-59.5     51.25     5.434  -20.94    -2.24    10.414   11.99   -23.52  ]\n",
            " [-17.5      8.52    15.445  -11.914   -9.75    12.45     8.484  -18.47  ]\n",
            " [-12.74     4.64    15.195  -12.58    -5.363    8.46     7.61   -15.09  ]\n",
            " [ 12.57   -15.35     9.97    -5.297    3.604   -4.086    4.402   -2.97  ]\n",
            " [  3.193   -1.313   -3.203    1.459    4.832   -7.51     4.05    -0.2167]]\n",
            "[[ 1.0340e+03  3.8656e+01 -1.4273e+01 -3.5996e+00 -2.8711e-01 -6.1768e-01\n",
            "   2.6465e+00  8.6670e-01]\n",
            " [ 1.3367e+01 -1.4406e+01 -6.1523e+00 -6.8477e+00  3.0688e-01 -1.7539e+00\n",
            "   3.4824e+00  5.3516e-01]\n",
            " [ 3.5094e+01  3.9469e+01 -5.8359e+00 -1.2549e+00 -4.8359e+00 -5.6250e+00\n",
            "   5.9375e-01  3.6602e+00]\n",
            " [-2.0047e+01  8.0062e+01  1.5148e+01 -6.0273e+00  1.2656e+00 -1.2012e+00\n",
            "  -1.3867e+00  5.3516e-01]\n",
            " [-3.6062e+01  2.0859e+01  3.6500e+01  1.8713e-01  7.7500e+00  4.7383e+00\n",
            "  -2.6738e+00  4.6558e-01]\n",
            " [-1.5227e+01 -3.4062e+01  1.4703e+01  1.4891e+01  4.0195e+00  1.1758e+00\n",
            "   3.1191e+00  1.4922e+00]\n",
            " [-1.7469e+01 -9.3750e+00 -1.9703e+01  1.0742e+00  1.4941e+00  2.3145e+00\n",
            "   1.5859e+00 -1.6861e-02]\n",
            " [-7.6719e+00  1.1094e+00 -1.2195e+01 -1.5008e+01 -1.5540e-01  1.6992e+00\n",
            "   1.7456e-01 -5.2490e-01]]\n",
            "[[ 1.1300e+03  3.6781e+01 -1.4328e+01 -2.8828e+00 -2.1643e-01 -1.0762e+00\n",
            "   2.6758e+00  1.1992e+00]\n",
            " [-1.2979e+00 -1.2445e+01 -5.4492e+00 -7.3398e+00 -1.6736e-01 -1.7529e+00\n",
            "   3.7227e+00  6.9336e-01]\n",
            " [ 2.5766e+01  4.1156e+01 -5.2383e+00 -1.4902e+00 -5.2695e+00 -5.7891e+00\n",
            "   8.4717e-01  3.9199e+00]\n",
            " [-2.4125e+01  8.1250e+01  1.5055e+01 -6.4844e+00  1.4258e+00 -8.0273e-01\n",
            "  -1.5156e+00  1.5771e-01]\n",
            " [-3.5875e+01  2.0953e+01  3.6594e+01  1.6052e-01  7.7500e+00  4.7383e+00\n",
            "  -2.7031e+00  4.8682e-01]\n",
            " [-1.2234e+01 -3.4594e+01  1.4859e+01  1.5109e+01  3.9414e+00  9.1211e-01\n",
            "   3.2109e+00  1.7646e+00]\n",
            " [-1.3516e+01 -1.0016e+01 -1.9906e+01  1.1484e+00  1.6250e+00  2.3906e+00\n",
            "   1.4951e+00 -1.7273e-01]\n",
            " [-4.8242e+00  5.8398e-01 -1.2328e+01 -1.4930e+01 -3.2806e-02  1.6982e+00\n",
            "   9.8816e-02 -5.8203e-01]]\n"
          ]
        }
      ]
    },
    {
      "cell_type": "code",
      "metadata": {
        "id": "7vYZnAHgY4Mb"
      },
      "source": [
        "def ConvertBitPlane(blockOriginal,channel):\n",
        "    bitplanes=[\"\"]*9\n",
        "    block = blockOriginal[channel]\n",
        "    zigArr = np.concatenate([np.diagonal(block[::-1,:], i)[::(2*(i % 2)-1)] for i in range(1-block.shape[0], block.shape[0])])\n",
        "    for i in range(0,zigArr.shape[0]):\n",
        "        z=format(int(zigArr[i]),\"09b\")\n",
        "        for i in range (9):\n",
        "          if(z[0]==\"-\"):\n",
        "            position = 0\n",
        "            new_character = \"1\"\n",
        "            z = z[:position] + new_character + z[position+1:]\n",
        "          bitplanes[i] += z[i]\n",
        "    return bitplanes\n"
      ],
      "execution_count": null,
      "outputs": []
    },
    {
      "cell_type": "code",
      "metadata": {
        "id": "mq17Y57eZGi8"
      },
      "source": [
        "#We Will Start with Zeros\n",
        "def RLE(bitplane):\n",
        "   flagZero=False\n",
        "   flagOne=False\n",
        "   countZero=0\n",
        "   countOne=0\n",
        "   line = \"\"\n",
        "   if(bitplane[0] == '1'):\n",
        "     line += \"0 \"\n",
        "   for i in range(0,len(bitplane)):\n",
        "       if(bitplane[i]=='0'):\n",
        "         flagZero=True;\n",
        "         countZero+=1\n",
        "\n",
        "\n",
        "         if(flagOne==True):\n",
        "               flagOne=False;\n",
        "               line += str(countOne) + \" \"\n",
        "               countOne=0;\n",
        "\n",
        "       else:\n",
        "        if(bitplane[i]=='1'):\n",
        "         flagOne=True\n",
        "         countOne+=1\n",
        "         if(flagZero==True):\n",
        "              flagZero=False\n",
        "              line +=  str(countZero) + \" \"\n",
        "              countZero=0;\n",
        "   if(countZero!=0):\n",
        "         line += str(countZero) + \" \"\n",
        "\n",
        "   if(countOne!=0):\n",
        "         line += str(countOne)  + \" \"\n",
        "   return line[0:len(line)-1]\n",
        "\n",
        "def bitPlanesRLE(bitPlanes):\n",
        "  RLEs = []\n",
        "  for i in range (len(bitPlanes)):\n",
        "    RLEs.append(RLE(bitPlanes[i]))\n",
        "  return RLEs"
      ],
      "execution_count": null,
      "outputs": []
    },
    {
      "cell_type": "code",
      "metadata": {
        "colab": {
          "base_uri": "https://localhost:8080/"
        },
        "id": "Qod93YoMZMIZ",
        "outputId": "c3d00b35-380b-4455-9f9d-6b2d0bbba4c2"
      },
      "source": [
        "bitPlanesRLE(ConvertBitPlane(QunatizedBlocksAllFrames[0][1],2))"
      ],
      "execution_count": null,
      "outputs": [
        {
          "output_type": "execute_result",
          "data": {
            "text/plain": [
              "['6 1 35 1 21',\n",
              " '64',\n",
              " '64',\n",
              " '0 1 63',\n",
              " '0 1 63',\n",
              " '0 1 63',\n",
              " '0 1 4 1 58',\n",
              " '0 5 1 1 1 4 3 1 48',\n",
              " '1 1 2 1 3 1 5 1 1 1 2 2 1 1 4 2 13 1 21']"
            ]
          },
          "metadata": {},
          "execution_count": 39
        }
      ]
    },
    {
      "cell_type": "code",
      "source": [
        "def AntiRLE(RLEs):\n",
        "  bitPlanes = []\n",
        "  for currentRLE in range(len(RLEs)):\n",
        "    line = RLEs[currentRLE].split(\" \")\n",
        "    curBitPlane = \"\"\n",
        "    for nthRLE in range(len(line)):\n",
        "      for currentNumber in range(int(line[nthRLE])):\n",
        "        if((nthRLE % 2) == 0):\n",
        "          curBitPlane += \"0\"\n",
        "        else:\n",
        "          curBitPlane += \"1\"\n",
        "    bitPlanes.append(curBitPlane)\n",
        "  return bitPlanes\n",
        "\n",
        "AntiRLE(bitPlanesRLE(ConvertBitPlane(QunatizedBlocksAllFrames[0][1],2)))\n",
        "\n"
      ],
      "metadata": {
        "colab": {
          "base_uri": "https://localhost:8080/"
        },
        "id": "8uJfkwp_OFIW",
        "outputId": "01155028-5430-4f1e-f942-5dd32209e3cb"
      },
      "execution_count": null,
      "outputs": [
        {
          "output_type": "execute_result",
          "data": {
            "text/plain": [
              "['0000001000000000000000000000000000000000001000000000000000000000',\n",
              " '0000000000000000000000000000000000000000000000000000000000000000',\n",
              " '0000000000000000000000000000000000000000000000000000000000000000',\n",
              " '1000000000000000000000000000000000000000000000000000000000000000',\n",
              " '1000000000000000000000000000000000000000000000000000000000000000',\n",
              " '1000000000000000000000000000000000000000000000000000000000000000',\n",
              " '1000010000000000000000000000000000000000000000000000000000000000',\n",
              " '1111101011110001000000000000000000000000000000000000000000000000',\n",
              " '0100100010000010100110100001100000000000001000000000000000000000']"
            ]
          },
          "metadata": {},
          "execution_count": 40
        }
      ]
    },
    {
      "cell_type": "code",
      "source": [
        "def AntiBitPlane(bitPlanes):\n",
        "  block = np.zeros((8,8),dtype = np.float32)\n",
        "  lines = []\n",
        "  for curBitPlane in range(len(bitPlanes[0])):\n",
        "    line = \"\"\n",
        "    for curIndex in range(len(bitPlanes)):\n",
        "      line += bitPlanes[curIndex][curBitPlane]\n",
        "      signBit = bitPlanes[curIndex][0]\n",
        "    lines.append(int(line[1:len(line)],base=2) if line[0] == '0' else (-1 * int(line[1:len(line)],base=2)))\n",
        "  return lines"
      ],
      "metadata": {
        "id": "ozSoxZMaUXdA"
      },
      "execution_count": null,
      "outputs": []
    },
    {
      "cell_type": "code",
      "source": [
        "zigzagInverse = [\n",
        " [0 ,[0,0]],\n",
        " [1 ,[0,1]],\n",
        " [2 ,[1,0]],\n",
        " [3 ,[2,0]],\n",
        " [4 ,[1,1]],\n",
        " [5 ,[0,2]],\n",
        " [6 ,[0,3]],\n",
        " [7 ,[1,2]],\n",
        " [8 ,[2,1]],\n",
        " [9 ,[3,0]],\n",
        " [10,[4,0]],\n",
        " [11,[3,1]],\n",
        " [12,[2,2]],\n",
        " [13,[1,3]],\n",
        " [14,[0,4]],\n",
        " [15,[0,5]],\n",
        " [16,[1,4]],\n",
        " [17,[2,3]],\n",
        " [18,[3,2]],\n",
        " [19,[4,1]],\n",
        " [20,[5,0]],\n",
        " [21,[6,0]],\n",
        " [22,[5,1]],\n",
        " [23,[4,2]],\n",
        " [24,[3,3]],\n",
        " [25,[2,4]],\n",
        " [26,[1,5]],\n",
        " [27,[0,6]],\n",
        " [28,[0,7]],\n",
        " [29,[1,6]],\n",
        " [30,[2,5]],\n",
        " [31,[3,4]],\n",
        " [32,[4,3]],\n",
        " [33,[5,2]],\n",
        " [34,[6,1]],\n",
        " [35,[7,0]],\n",
        " [36,[7,1]],\n",
        " [37,[6,2]],\n",
        " [38,[5,3]],\n",
        " [39,[4,4]],\n",
        " [40,[3,5]],\n",
        " [41,[2,6]],\n",
        " [42,[1,7]],\n",
        " [43,[2,7]],\n",
        " [44,[3,6]],\n",
        " [45,[4,5]],\n",
        " [46,[5,4]],\n",
        " [47,[6,3]],\n",
        " [48,[7,2]],\n",
        " [49,[7,3]],\n",
        " [50,[6,4]],\n",
        " [51,[5,5]],\n",
        " [52,[4,6]],\n",
        " [53,[3,7]],\n",
        " [54,[4,7]],\n",
        " [55,[5,6]],\n",
        " [56,[6,5]],\n",
        " [57,[7,4]],\n",
        " [58,[7,5]],\n",
        " [59,[6,6]],\n",
        " [60,[5,7]],\n",
        " [61,[6,7]],\n",
        " [62,[7,6]],\n",
        " [63,[7,7]]\n",
        "]"
      ],
      "metadata": {
        "id": "3unnLWUqekva"
      },
      "execution_count": null,
      "outputs": []
    },
    {
      "cell_type": "code",
      "source": [
        "def AntiBitPlaneOfFrame(currentFrame):\n",
        "  zigZagOutputCurrentFrame = []\n",
        "  for currentBlock in range (len(QunatizedBlocksAllFrames[0])):\n",
        "    channelR = AntiBitPlane(AntiRLE(bitPlanesRLE(ConvertBitPlane(QunatizedBlocksAllFrames[currentFrame][currentBlock],0))))\n",
        "    channelG = AntiBitPlane(AntiRLE(bitPlanesRLE(ConvertBitPlane(QunatizedBlocksAllFrames[currentFrame][currentBlock],1))))\n",
        "    channelB = AntiBitPlane(AntiRLE(bitPlanesRLE(ConvertBitPlane(QunatizedBlocksAllFrames[currentFrame][currentBlock],2))))\n",
        "    zigZagOutputCurrentFrame.append([channelR, channelG, channelB])\n",
        "  return zigZagOutputCurrentFrame\n",
        "\n",
        "def AntiZigZag(currentFrame, channel):\n",
        "  blocksOfOneFrame = AntiBitPlaneOfFrame(currentFrame).copy()\n",
        "  blocks = []\n",
        "  for currentBlock in range (len(blocksOfOneFrame)):\n",
        "    block = np.zeros((8,8),dtype = np.float32)\n",
        "    for i in range(len(zigzagInverse)):\n",
        "      block[zigzagInverse[i][1][0],zigzagInverse[i][1][1]] = AntiBitPlaneOfFrame(currentFrame)[currentBlock][channel][i]\n",
        "    blocks.append(block)\n",
        "  return blocks"
      ],
      "metadata": {
        "id": "rWLoIFqvguP-"
      },
      "execution_count": null,
      "outputs": []
    },
    {
      "cell_type": "code",
      "source": [
        "import math\n",
        "BeforeZigZag = AntiZigZag(0,2)\n",
        "\n",
        "def AMatrix():\n",
        "  block = np.zeros((8,8),dtype=np.float32)\n",
        "  for i in range(8):\n",
        "    for j in range(8):\n",
        "      alpha = 0\n",
        "      if(i == 0):\n",
        "        alpha = math.sqrt(1/8)\n",
        "      else:\n",
        "        alpha = math.sqrt(2/8)\n",
        "      block[i,j] = alpha * math.cos(((2*j+1)*math.pi*i)/(2*8))\n",
        "  return block\n",
        "\n",
        "def AntiDCT(XMat):\n",
        "  AMat = AMatrix()\n",
        "  XMat = np.array(XMat,dtype = np.float32)\n",
        "  AMatTransopse = np.transpose(AMat)\n",
        "\n",
        "  BeforeDCT1 = np.matmul(AMatTransopse, XMat)\n",
        "  BeforeDCT2 = np.matmul(BeforeDCT1,AMat )\n",
        "  return BeforeDCT2\n",
        "\n",
        "def AntiQuantize(currentFrame, channel):\n",
        "  Arr = AntiZigZag(currentFrame, channel).copy()\n",
        "  for curBlock in range (len(Arr)):\n",
        "    for i in range(0,8):\n",
        "      for j in range(0,8):\n",
        "        Arr[curBlock][i][j] *= coff[i][j]\n",
        "        Arr[curBlock][i][j]= int(round(Arr[curBlock][i][j]))\n",
        "\n",
        "  for curBlock in range (len(Arr)):\n",
        "    Arr = AntiDCT(Arr)\n",
        "    for i in range(0,8):\n",
        "      for j in range(0,8):\n",
        "        Arr[curBlock][i][j]= int(round(Arr[curBlock][i][j]))\n",
        "\n",
        "  return np.abs(Arr)\n",
        "\n",
        "#print(np.array(AntiQuantize(0,2),dtype = np.int32))"
      ],
      "metadata": {
        "id": "lX5vvtP_jxv5"
      },
      "execution_count": null,
      "outputs": []
    },
    {
      "cell_type": "markdown",
      "source": [
        "### Creating Image From Blocks"
      ],
      "metadata": {
        "id": "8NDtcD3MVu6t"
      }
    },
    {
      "cell_type": "code",
      "source": [
        "recoveredY = CreateImageFromBlocks(AntiQuantize (0,0)  ,3)[0:32,:] #Channel Y\n",
        "recoveredCr = CreateImageFromBlocks(AntiQuantize(0,1) ,3)[0:32,:] #Channle Cr\n",
        "recoveredCb = CreateImageFromBlocks(AntiQuantize(0,2) ,3)[0:32,:] #Channel Cb"
      ],
      "metadata": {
        "id": "haCbm1g-o05T"
      },
      "execution_count": null,
      "outputs": []
    },
    {
      "cell_type": "code",
      "source": [
        "def WriteBlockToImage(block, img, x, y):\n",
        "  for i in range (8):\n",
        "    for j in range (8):\n",
        "      img[y+j][x+i] += block[i][j]\n",
        "\n",
        "def GetMotionCompensation(frameNum, blocks):\n",
        "  nextImg = allFrames[frameNum].copy()\n",
        "  for i in range (len(blocksCoordinatesArray[frameNum-1])):\n",
        "    x, y = blocksCoordinatesArray[frameNum-1][i][0], blocksCoordinatesArray[frameNum-1][i][1]\n",
        "    WriteBlockToImage(residualFrameBlocksArray[frameNum-1][i], nextImg, x, y)\n",
        "  return nextImg\n",
        "\n",
        "cv2_imshow(GetMotionCompensation(1))"
      ],
      "metadata": {
        "id": "6CvvEuogH-AZ"
      },
      "execution_count": null,
      "outputs": []
    },
    {
      "cell_type": "code",
      "source": [
        "def GetFrame(frameNum):\n",
        "  #assert (frameNum == 0), \"Please Enter Number Bigger than zero :D\"\n",
        "  img = np.zeros((frameHeight, frameWidth//2,3), dtype = np.float32)\n",
        "  originalImageY = subSampledFrames[frameNum-1][:,:,0]\n",
        "  originalImageCr = subSampledFrames[frameNum-1][:,:,1]\n",
        "  originalImageCb = subSampledFrames[frameNum-1][:,:,2]\n",
        "  print(recoveredY.shape)\n",
        "\n",
        "  originalImageY += recoveredY\n",
        "  originalImageCr = recoveredCr\n",
        "  originalImageCb = recoveredCb\n",
        "  img[:,:,0] = originalImageY\n",
        "  img[:,:,1] = originalImageCr\n",
        "  img[:,:,2] = originalImageCb\n",
        "  return img\n",
        "\n",
        "cv2_imshow((GetFrame(1)))"
      ],
      "metadata": {
        "colab": {
          "base_uri": "https://localhost:8080/",
          "height": 66
        },
        "id": "i06Bh4yIe_wW",
        "outputId": "ddd05edb-18e4-4b29-db0a-23b08f870864"
      },
      "execution_count": null,
      "outputs": [
        {
          "output_type": "stream",
          "name": "stdout",
          "text": [
            "(32, 24)\n"
          ]
        },
        {
          "output_type": "display_data",
          "data": {
            "image/png": "[encoded data removed]",
            "text/plain": [
              "<PIL.Image.Image image mode=RGB size=24x32 at 0x7F7DD8E97F10>"
            ]
          },
          "metadata": {}
        }
      ]
    }
  ]
}
